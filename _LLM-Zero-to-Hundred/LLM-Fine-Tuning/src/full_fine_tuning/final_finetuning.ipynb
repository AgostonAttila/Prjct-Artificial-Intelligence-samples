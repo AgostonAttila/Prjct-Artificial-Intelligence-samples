{
 "cells": [
  {
   "cell_type": "markdown",
   "metadata": {},
   "source": [
    "**1. Load the libraries**"
   ]
  },
  {
   "cell_type": "code",
   "execution_count": 1,
   "metadata": {},
   "outputs": [],
   "source": [
    "import torch\n",
    "from transformers import (AutoModelForCausalLM,\n",
    "                          TrainingArguments,\n",
    "                          Trainer)\n",
    "from datasets import concatenate_datasets\n",
    "from transformers import LlamaTokenizer, LlamaForCausalLM\n",
    "from pyprojroot import here\n",
    "from prepare_training_data import prepare_cubetrianlge_qa_dataset, prepare_cubetriangle_instruction_response_dataset"
   ]
  },
  {
   "cell_type": "markdown",
   "metadata": {},
   "source": [
    "**1.1. Set the module configs**"
   ]
  },
  {
   "cell_type": "code",
   "execution_count": 2,
   "metadata": {},
   "outputs": [],
   "source": [
    "seed = 20\n",
    "test_size=0.1 # 10%\n",
    "epochs=5\n",
    "max_steps = -1\n",
    "output_dir = here(f\"models/fine_tuned_models/final_CubeTriangle_open_llama_3b_{epochs}_epochs\")"
   ]
  },
  {
   "cell_type": "markdown",
   "metadata": {},
   "source": [
    "**2. Load the model and tokenizer**"
   ]
  },
  {
   "cell_type": "code",
   "execution_count": 3,
   "metadata": {},
   "outputs": [
    {
     "name": "stderr",
     "output_type": "stream",
     "text": [
      "You are using the default legacy behaviour of the <class 'transformers.models.llama.tokenization_llama.LlamaTokenizer'>. This is expected, and simply means that the `legacy` (previous) behavior will be used so nothing changes for you. If you want to use the new behaviour, set `legacy=False`. This should only be set if you understand what it means, and thoroughly read the reason why this was added as explained in https://github.com/huggingface/transformers/pull/24565\n"
     ]
    }
   ],
   "source": [
    "model_path = 'openlm-research/open_llama_3b'\n",
    "tokenizer = LlamaTokenizer.from_pretrained(model_path)"
   ]
  },
  {
   "cell_type": "code",
   "execution_count": 4,
   "metadata": {},
   "outputs": [
    {
     "name": "stderr",
     "output_type": "stream",
     "text": [
      "c:\\Users\\farza\\anaconda3\\envs\\AR-RT-LLM\\Lib\\site-packages\\torch\\_utils.py:831: UserWarning: TypedStorage is deprecated. It will be removed in the future and UntypedStorage will be the only storage class. This should only matter to you if you are using storages directly.  To access UntypedStorage directly, use tensor.untyped_storage() instead of tensor.storage()\n",
      "  return self.fget.__get__(instance, owner)()\n"
     ]
    }
   ],
   "source": [
    "base_model = LlamaForCausalLM.from_pretrained(\n",
    "    model_path, torch_dtype=torch.float16, device_map='cuda',\n",
    ")"
   ]
  },
  {
   "cell_type": "markdown",
   "metadata": {},
   "source": [
    "**3. Prepare the training and test data**"
   ]
  },
  {
   "cell_type": "markdown",
   "metadata": {},
   "source": [
    "**A few notes:**\n",
    "\n",
    "* Treat the training process as building a reversed pyramid. use a subset of your data and smaller model.\n",
    "* Always have baselines and compare your models.\n",
    "* Track your training and all the configurations and oveserve your the improvements over time."
   ]
  },
  {
   "cell_type": "code",
   "execution_count": 5,
   "metadata": {},
   "outputs": [
    {
     "name": "stdout",
     "output_type": "stream",
     "text": [
      "Raw dataset shape: Dataset({\n",
      "    features: ['question', 'answer'],\n",
      "    num_rows: 204\n",
      "})\n"
     ]
    }
   ],
   "source": [
    "tokenized_cubetriangle_qa_dataset = prepare_cubetrianlge_qa_dataset(tokenizer)\n",
    "tokenized_cubetriangle_inst_resp_dataset = prepare_cubetriangle_instruction_response_dataset(tokenizer)"
   ]
  },
  {
   "cell_type": "markdown",
   "metadata": {},
   "source": [
    "**3.1 process the datasets and concatenate them together**"
   ]
  },
  {
   "cell_type": "code",
   "execution_count": 6,
   "metadata": {},
   "outputs": [
    {
     "data": {
      "application/vnd.jupyter.widget-view+json": {
       "model_id": "e25ae4a1db974f7980a13a055e2892f1",
       "version_major": 2,
       "version_minor": 0
      },
      "text/plain": [
       "Map:   0%|          | 0/204 [00:00<?, ? examples/s]"
      ]
     },
     "metadata": {},
     "output_type": "display_data"
    },
    {
     "data": {
      "application/vnd.jupyter.widget-view+json": {
       "model_id": "5fb79aa8d672475cbd9db3d202a51a79",
       "version_major": 2,
       "version_minor": 0
      },
      "text/plain": [
       "Map:   0%|          | 0/144 [00:00<?, ? examples/s]"
      ]
     },
     "metadata": {},
     "output_type": "display_data"
    }
   ],
   "source": [
    "# Define a function to concatenate question and answer into a single text\n",
    "def concatenate_qa_ds(examples):\n",
    "    examples['text'] = [q + ' ' + a for q, a in zip(examples['question'], examples['answer'])]\n",
    "    return examples\n",
    "def concatenate_inst_resp_ds(examples):\n",
    "    examples['text'] = [q + ' ' + a for q, a in zip(examples['instruction'], examples['response'])]\n",
    "    return examples\n",
    "\n",
    "# Apply the function to each split in the dataset\n",
    "qa_ds = tokenized_cubetriangle_qa_dataset.map(concatenate_qa_ds, batched=True)\n",
    "qa_ds = qa_ds.remove_columns(['question', 'answer'])\n",
    "split_qa_ds = qa_ds.train_test_split(test_size=test_size, shuffle=True, seed=seed)\n",
    "\n",
    "# Apply the function to each split in the dataset\n",
    "inst_resp_ds = tokenized_cubetriangle_inst_resp_dataset.map(concatenate_inst_resp_ds, batched=True)\n",
    "inst_resp_ds = inst_resp_ds.remove_columns(['instruction', 'response'])\n",
    "split_inst_resp_ds = inst_resp_ds.train_test_split(test_size=test_size, shuffle=True, seed=seed)\n"
   ]
  },
  {
   "cell_type": "code",
   "execution_count": 7,
   "metadata": {},
   "outputs": [
    {
     "data": {
      "text/plain": [
       "{'train': Dataset({\n",
       "     features: ['input_ids', 'attention_mask', 'labels', 'text'],\n",
       "     num_rows: 312\n",
       " }),\n",
       " 'test': Dataset({\n",
       "     features: ['input_ids', 'attention_mask', 'labels', 'text'],\n",
       "     num_rows: 36\n",
       " })}"
      ]
     },
     "execution_count": 7,
     "metadata": {},
     "output_type": "execute_result"
    }
   ],
   "source": [
    "# Concatenate the train datasets\n",
    "concatenated_train = concatenate_datasets([split_qa_ds['train'], split_inst_resp_ds['train']])\n",
    "\n",
    "# Concatenate the test datasets\n",
    "concatenated_test = concatenate_datasets([split_qa_ds['test'], split_inst_resp_ds['test']])\n",
    "\n",
    "# Create a new DatasetDict with the concatenated datasets\n",
    "concatenated_dataset_dict = {\"train\": concatenated_train, \"test\": concatenated_test}\n",
    "concatenated_dataset_dict"
   ]
  },
  {
   "cell_type": "code",
   "execution_count": 8,
   "metadata": {},
   "outputs": [
    {
     "data": {
      "text/plain": [
       "['### Question:\\nHow much does CubeTriangle Delta Earbuds cost?\\n\\n\\n### Answer:\\n $350',\n",
       " \"### Question:\\nWhat percentage of CubeTriangle's energy consumption comes from renewable sources?\\n\\n\\n### Answer:\\n CubeTriangle is actively increasing the use of renewable energy sources, with a goal to achieve a significant percentage of our energy consumption from renewable sources in the coming years.\",\n",
       " '### Question:\\nAre CubeTriangle products compatible with other smart home ecosystems like Alexa or Google Home?\\n\\n\\n### Answer:\\n Yes, CubeTriangle products are designed to be compatible with popular smart home ecosystems, including Alexa and Google Home. Follow the integration instructions in the product manual or app to seamlessly connect and control your CubeTriangle devices through these platforms.',\n",
       " \"### Question:\\nMy CubeTriangle Kappa Portable Speaker isn't pairing with my device. What should I do?\\n\\n\\n### Answer:\\n Reset the speaker and ensure your device's Bluetooth is on. If it still doesn't pair, try connecting to a different device to isolate the issue.\",\n",
       " '### Question:\\nWhat are the features of CubeTriangle Nu Smart Lock?\\n\\n\\n### Answer:\\n Keyless entry via smartphone, code, or fingerprint, Remote access and guest passcodes, Activity log and tamper alerts, Easy installation on most standard doors, Long battery life with low battery notification.',\n",
       " '### Question:\\nHow do I set up parental controls on CubeTriangle devices?\\n\\n\\n### Answer:\\n To set up parental controls on CubeTriangle devices, access the settings menu in the CubeTriangle app. Navigate to the parental control section and follow the on-screen instructions to create user profiles, set restrictions, and manage content access for different users in your household.',\n",
       " '### Question:\\nDoes CubeTriangle offer technical support in languages other than English?\\n\\n\\n### Answer:\\n Yes, CubeTriangle provides technical support in multiple languages. When contacting our support team, inform them of your preferred language, and we will ensure that you receive assistance in the language of your choice.',\n",
       " '### Question:\\nWhat are the features of CubeTriangle Theta-2 Electric Scooter Pro?\\n\\n\\n### Answer:\\n Enhanced 500W motor with a top speed of 25 mph, Extended 20-mile range with fast-charging battery technology, Advanced suspension system for a comfortable ride on urban terrain, Foldable, lightweight design with anti-theft features, Smart dashboard display with navigation, speed, and battery stats.',\n",
       " \"### Question:\\nMy CubeTriangle Upsilon Portable Projector isn't displaying an image. What should I do?\\n\\n\\n### Answer:\\n Ensure the projector is powered on and the input source is correctly selected. Adjust the focus wheel for clarity and check if the lens cap is removed.\",\n",
       " '### Question:\\nCan customers participate in pre-launch events or exclusive product previews?\\n\\n\\n### Answer:\\n Yes, CubeTriangle may organize pre-launch events or exclusive product previews for customers, providing an opportunity to experience and celebrate innovation firsthand.',\n",
       " \"### Question:\\nHow can CubeTriangle's community engagement initiatives benefit the local economy?\\n\\n\\n### Answer:\\n CubeTriangle's community engagement initiatives may create opportunities for local businesses, stimulate economic growth, and contribute to the overall prosperity of the community.\",\n",
       " '### Question:\\nHow much does CubeTriangle Theta Electric Scooter cost?\\n\\n\\n### Answer:\\n $2800',\n",
       " \"### Question:\\nWhat is CubeTriangle's strategy for maintaining a consistent brand image?\\n\\n\\n### Answer:\\n CubeTriangle maintains a consistent brand image through cohesive visual elements, messaging, and a commitment to delivering quality products that align with our brand values.\",\n",
       " '### Question:\\nCan I wear my CubeTriangle Iota Fitness Tracker in the shower?\\n\\n\\n### Answer:\\n Yes, the Iota Fitness Tracker is waterproof and can be worn while showering.',\n",
       " \"### Question:\\nWhat steps should I take if I forget my CubeTriangle account password?\\n\\n\\n### Answer:\\n If you forget your CubeTriangle account password, visit the login page in the CubeTriangle app and click on the 'Forgot Password' link. Follow the instructions to reset your password via email or text message. For additional assistance, contact our customer support for account recovery.\",\n",
       " '### Question:\\nHow much does CubeTriangle Omicron Smart Mirror cost?\\n\\n\\n### Answer:\\n $750',\n",
       " '### Question:\\nWhat maintenance does my CubeTriangle Tau Electric Bike require?\\n\\n\\n### Answer:\\n Regularly check the tire pressure, brake function, and battery health. Keep the bike clean and store it in a dry place.',\n",
       " '### Question:\\nHow much does CubeTriangle Xi Smart Blender cost?\\n\\n\\n### Answer:\\n $1000',\n",
       " '### Question:\\nWhat are the features of CubeTriangle Pi-2 Smart Fitness Equipment?\\n\\n\\n### Answer:\\n Interactive home gym system with AI-powered workout guidance, Resistance automatically adjusts to fitness level and goals, Live and on-demand classes with professional trainers, Compact, foldable design for easy storage in any space, Integrated health tracking with progress reports and goal setting.',\n",
       " '### Question:\\nCan customers expect regular updates on software enhancements and updates for CubeTriangle products?\\n\\n\\n### Answer:\\n Certainly! CubeTriangle keeps customers informed about software enhancements and updates through our communication channels, ensuring they enjoy the latest features and improvements.',\n",
       " '### Question:\\nWhere is CubeTriangle headquartered?\\n\\n\\n### Answer:\\n CubeTriangle is headquartered in Ottawa, Canada, a city known for its vibrant tech community and innovative spirit.',\n",
       " '### Question:\\nHow do I clean the CubeTriangle Omicron Smart Mirror?\\n\\n\\n### Answer:\\n Use a soft, damp cloth to gently wipe the surface. Avoid using harsh chemicals or abrasive materials that could damage the mirror.',\n",
       " \"### Question:\\nWhat is CubeTriangle's approach to product promotion?\\n\\n\\n### Answer:\\n CubeTriangle employs a strategic and multi-channel approach to product promotion, utilizing various platforms to showcase our innovative products.\",\n",
       " '### Question:\\nHow do I set up my CubeTriangle smart home system?\\n\\n\\n### Answer:\\n To set up your CubeTriangle smart home system, please refer to the user manual provided with the product. If you encounter any issues, our customer support team is available 24/7 to assist you.',\n",
       " \"### Question:\\nMy CubeTriangle Beta Smartwatch isn't tracking my heart rate accurately. What should I do?\\n\\n\\n### Answer:\\n Ensure the watch is snug against your wrist, not too tight or too loose. If the issue persists, restart the watch and try updating the firmware.\",\n",
       " \"### Instruction:\\nHow to monitor heart rate using the CubeTriangle Beta Smartwatch?\\n\\n\\n### Response:\\n Track your heart rate using the CubeTriangle Beta Smartwatch. Open the 'Health' app on the smartwatch, select 'Heart Rate,' and wait for the sensor to provide real-time heart rate data. Regularly monitor your heart rate for a comprehensive health overview.\",\n",
       " '### Instruction:\\nConnecting the CubeTriangle Sigma Smart Coffee Maker to smart home systems for voice-activated brewing.\\n\\n\\n### Response:\\n Connect the CubeTriangle Sigma to your smart home system for voice-activated brewing. Use voice commands with your preferred smart assistant to start brewing without lifting a finger.',\n",
       " \"### Instruction:\\nSteps to check lock activities through the CubeTriangle app and receive tamper alerts.\\n\\n\\n### Response:\\n Keep track of lock activities through the CubeTriangle app's activity log. Receive tamper alerts if any unauthorized attempts or tampering with the lock are detected. Stay informed about the security of your home.\",\n",
       " \"### Instruction:\\nGuide on pairing the CubeTriangle Beta Smartwatch with a smartphone.\\n\\n\\n### Response:\\n To pair your CubeTriangle Beta Smartwatch with your smartphone, ensure Bluetooth is enabled on both devices. Open the CubeTriangle app on your smartphone, navigate to 'Devices,' and follow the on-screen instructions to complete the pairing process.\",\n",
       " '### Instruction:\\nSteps to control CubeTriangle Zeta Drone with the companion app.\\n\\n\\n### Response:\\n Download and install the CubeTriangle Zeta Drone companion app on your smartphone. Connect the drone to the app via Wi-Fi. Use the app for real-time camera feed, flight control, and access additional features such as GPS tracking and obstacle avoidance.',\n",
       " '### Instruction:\\nSteps for easy cleaning with dishwasher-safe parts of the CubeTriangle Xi Smart Blender.\\n\\n\\n### Response:\\n After use, disassemble the blender and place the removable parts in the dishwasher for easy cleaning. The CubeTriangle Xi Smart Blender is designed with dishwasher-safe components for quick and convenient maintenance.',\n",
       " \"### Instruction:\\nGuide on pairing CubeTriangle Delta Earbuds with a smartphone.\\n\\n\\n### Response:\\n To pair your CubeTriangle Delta Earbuds with your smartphone, open the charging case, ensure Bluetooth is enabled on your device, and select 'CubeTriangle Delta' from the available devices list. Once paired, the earbuds will automatically connect when removed from the case.\",\n",
       " '### Instruction:\\nSetting up the CubeTriangle Psi Wireless Sound System with Wi-Fi or Bluetooth connectivity.\\n\\n\\n### Response:\\n Set up the CubeTriangle Psi with ease using Wi-Fi or Bluetooth connectivity options. Connect to your preferred device and start enjoying high-quality audio in minutes.',\n",
       " '### Instruction:\\nTaking advantage of the dual-screen design and selfie mode on the CubeTriangle Ksi 4K Action Cam.\\n\\n\\n### Response:\\n Take advantage of the dual-screen design for easy framing. Switch to selfie mode for capturing your adventures. The CubeTriangle Ksi ensures you get the perfect shot every time.',\n",
       " '### Instruction:\\nGuide on using smart features of CubeTriangle Zeta Drone.\\n\\n\\n### Response:\\n Explore smart features like obstacle avoidance and GPS tracking. Allow the drone to autonomously navigate around obstacles and use GPS tracking for precise location awareness. Use the app to set waypoints and enjoy hands-free flying.',\n",
       " '### Instruction:\\nUnderstanding the lightweight aluminum frame of the CubeTriangle Tau Electric Bike.\\n\\n\\n### Response:\\n The CubeTriangle Tau features a lightweight aluminum frame with a sleek design. Enjoy a comfortable and stylish ride while easily maneuvering through various terrains.',\n",
       " \"### Instruction:\\nSteps for connecting smart home devices to the CubeTriangle Gamma Home Hub.\\n\\n\\n### Response:\\n Pair CubeTriangle Gamma Home Hub with your smart home devices by navigating to 'Settings' and selecting 'Device Pairing.' Follow the on-screen instructions to connect devices using Zigbee, Z-Wave, or Wi-Fi. Enjoy centralized control through the touchscreen interface.\",\n",
       " '### Instruction:\\nEnjoy a smooth and enjoyable ride with the advanced suspension system on the CubeTriangle Theta-2 Electric Scooter Pro.\\n\\n\\n### Response:\\n Cruise comfortably on urban terrain with the advanced suspension system. The CubeTriangle Theta-2 Electric Scooter Pro absorbs shocks and vibrations, providing a smooth and enjoyable ride.',\n",
       " \"### Instruction:\\nHow to monitor energy consumption using the CubeTriangle Gamma Home Hub?\\n\\n\\n### Response:\\n Stay informed about energy usage with CubeTriangle Gamma Home Hub's energy monitoring feature. Access 'Energy' in the settings to view real-time and historical data. Identify energy-hungry devices and optimize usage for efficiency.\",\n",
       " '### Instruction:\\nConnecting the CubeTriangle Omicron Smart Mirror to smart home assistants for voice control.\\n\\n\\n### Response:\\n Connect the CubeTriangle Omicron Smart Mirror to your smart home assistant for hands-free voice control. Use voice commands to switch modes, adjust settings, or access specific features without touching the mirror.']"
      ]
     },
     "execution_count": 8,
     "metadata": {},
     "output_type": "execute_result"
    }
   ],
   "source": [
    "concatenated_dataset_dict['test'][\"text\"]"
   ]
  },
  {
   "cell_type": "markdown",
   "metadata": {},
   "source": [
    "**4. Set the training config**"
   ]
  },
  {
   "cell_type": "markdown",
   "metadata": {},
   "source": [
    "`TrainingArguments`\n",
    "\n",
    "* https://huggingface.co/docs/transformers/v4.36.1/en/main_classes/trainer#transformers.TrainingArguments"
   ]
  },
  {
   "cell_type": "code",
   "execution_count": 10,
   "metadata": {},
   "outputs": [],
   "source": [
    "training_args = TrainingArguments(\n",
    "  learning_rate=1.0e-5,\n",
    "  num_train_epochs=epochs,\n",
    "  # Max steps to train for (each step is a batch of data)\n",
    "  max_steps=-1, # If set to a positive number, the total number of training steps to perform. Overrides num_train_epochs, if not -1. \n",
    "  #For a finite dataset, training is reiterated through the dataset (if all data is exhausted) until max_steps is reached.\n",
    "  per_device_train_batch_size=1, # Batch size for training\n",
    "  output_dir=output_dir, # Directory to save model checkpoints\n",
    "\n",
    "  overwrite_output_dir=False, # Overwrite the content of the output directory\n",
    "  disable_tqdm=False, # Disable progress bars\n",
    "  eval_steps=60, # Number of update steps between two evaluations\n",
    "  save_steps=120, # After # steps model is saved\n",
    "  warmup_steps=1, # Number of warmup steps for learning rate scheduler.  Ratio of total training steps used for a linear warmup from 0 to learning_rate.\n",
    "  per_device_eval_batch_size=1, # Batch size for evaluation\n",
    "  evaluation_strategy=\"steps\",\n",
    "  logging_strategy=\"steps\",\n",
    "  logging_steps=1, # Number of update steps between two logs if logging_strategy=\"steps\"\n",
    "  optim=\"adafactor\", # defaults to \"adamw_torch\"_The optimizer to use: adamw_hf, adamw_torch, adamw_torch_fused, adamw_apex_fused, adamw_anyprecision or adafactor.\n",
    "  gradient_accumulation_steps = 4, # Number of updates steps to accumulate the gradients for, before performing a backward/update pass.\n",
    "  gradient_checkpointing=False, # If True, use gradient checkpointing to save memory at the expense of slower backward pass.\n",
    "\n",
    "  # Parameters for early stopping\n",
    "  load_best_model_at_end=True,\n",
    "  save_strategy=\"steps\",\n",
    "  save_total_limit=1, # Only the most recent checkpoint is kept\n",
    "  metric_for_best_model=\"eval_loss\",\n",
    "  greater_is_better=False # since the main metric is loss\n",
    ")"
   ]
  },
  {
   "cell_type": "markdown",
   "metadata": {},
   "source": [
    "**A few notes:**\n",
    "\n",
    "* Due to the way that we processed the dataset with `tokenize_the_data` function, we cannot process multiple samples (batch_size>1) and batch_size should be 1.\n",
    "\n",
    "However:\n",
    "\n",
    "* It's important to note that the actual effective batch size during training might be influenced by other factors, such as gradient accumulation. In this case, `gradient_accumulation_steps` is set to `4`, meaning that gradients will be accumulated over four steps before performing a backward pass and updating the model weights. Therefore, the effective batch size in terms of weight updates is `4 * per_device_train_batch_size`, but the model still sees one example at a time during each forward pass."
   ]
  },
  {
   "cell_type": "markdown",
   "metadata": {},
   "source": [
    "**5. Instantiate the Trainer**"
   ]
  },
  {
   "cell_type": "markdown",
   "metadata": {},
   "source": [
    "* https://huggingface.co/docs/transformers/main_classes/trainer\n",
    "\n",
    "The Trainer contains the basic training loop which supports the above features. To inject custom behavior you can subclass them and override the following methods:\n",
    "\n",
    "* get_train_dataloader — Creates the training DataLoader.\n",
    "* get_eval_dataloader — Creates the evaluation DataLoader.\n",
    "* get_test_dataloader — Creates the test DataLoader.\n",
    "* log — Logs information on the various objects watching training.\n",
    "* create_optimizer_and_scheduler — Sets up the optimizer and learning rate scheduler if they were not passed at init. Note, that you can also subclass or override the create_optimizer and create_scheduler methods separately.\n",
    "* create_optimizer — Sets up the optimizer if it wasn’t passed at init.\n",
    "* create_scheduler — Sets up the learning rate scheduler if it wasn’t passed at init.\n",
    "* compute_loss - Computes the loss on a batch of training inputs.\n",
    "* training_step — Performs a training step.\n",
    "* prediction_step — Performs an evaluation/test step.\n",
    "* evaluate — Runs an evaluation loop and returns metrics.\n",
    "* predict — Returns predictions (with metrics if labels are available) on a test set."
   ]
  },
  {
   "cell_type": "code",
   "execution_count": 11,
   "metadata": {},
   "outputs": [],
   "source": [
    "trainer = Trainer(\n",
    "    model=base_model,\n",
    "    args=training_args,\n",
    "    train_dataset=concatenated_dataset_dict[\"train\"],\n",
    "    eval_dataset=concatenated_dataset_dict[\"test\"],\n",
    ")"
   ]
  },
  {
   "cell_type": "markdown",
   "metadata": {},
   "source": [
    "**6. Train the model**"
   ]
  },
  {
   "cell_type": "code",
   "execution_count": 12,
   "metadata": {},
   "outputs": [
    {
     "name": "stdout",
     "output_type": "stream",
     "text": [
      "CPU times: total: 0 ns\n",
      "Wall time: 0 ns\n"
     ]
    },
    {
     "data": {
      "application/vnd.jupyter.widget-view+json": {
       "model_id": "e8a1e527523949a9b2ee5ba8b92c59ee",
       "version_major": 2,
       "version_minor": 0
      },
      "text/plain": [
       "  0%|          | 0/435 [00:00<?, ?it/s]"
      ]
     },
     "metadata": {},
     "output_type": "display_data"
    },
    {
     "name": "stdout",
     "output_type": "stream",
     "text": [
      "{'loss': 2.9725, 'learning_rate': 1e-05, 'epoch': 0.01}\n",
      "{'loss': 2.5963, 'learning_rate': 9.976958525345622e-06, 'epoch': 0.02}\n",
      "{'loss': 1.7011, 'learning_rate': 9.953917050691245e-06, 'epoch': 0.03}\n",
      "{'loss': 1.8547, 'learning_rate': 9.930875576036867e-06, 'epoch': 0.05}\n",
      "{'loss': 1.8166, 'learning_rate': 9.90783410138249e-06, 'epoch': 0.06}\n",
      "{'loss': 1.5848, 'learning_rate': 9.884792626728111e-06, 'epoch': 0.07}\n",
      "{'loss': 1.7495, 'learning_rate': 9.861751152073733e-06, 'epoch': 0.08}\n",
      "{'loss': 1.3784, 'learning_rate': 9.838709677419356e-06, 'epoch': 0.09}\n",
      "{'loss': 1.3367, 'learning_rate': 9.815668202764977e-06, 'epoch': 0.1}\n",
      "{'loss': 1.3078, 'learning_rate': 9.7926267281106e-06, 'epoch': 0.11}\n",
      "{'loss': 1.4567, 'learning_rate': 9.769585253456221e-06, 'epoch': 0.13}\n",
      "{'loss': 1.2591, 'learning_rate': 9.746543778801845e-06, 'epoch': 0.14}\n",
      "{'loss': 1.3699, 'learning_rate': 9.723502304147466e-06, 'epoch': 0.15}\n",
      "{'loss': 1.3478, 'learning_rate': 9.700460829493087e-06, 'epoch': 0.16}\n",
      "{'loss': 1.4883, 'learning_rate': 9.67741935483871e-06, 'epoch': 0.17}\n",
      "{'loss': 1.4113, 'learning_rate': 9.654377880184332e-06, 'epoch': 0.18}\n",
      "{'loss': 1.0871, 'learning_rate': 9.631336405529955e-06, 'epoch': 0.2}\n",
      "{'loss': 0.9828, 'learning_rate': 9.608294930875576e-06, 'epoch': 0.21}\n",
      "{'loss': 1.2779, 'learning_rate': 9.5852534562212e-06, 'epoch': 0.22}\n",
      "{'loss': 1.0891, 'learning_rate': 9.56221198156682e-06, 'epoch': 0.23}\n",
      "{'loss': 1.0605, 'learning_rate': 9.539170506912442e-06, 'epoch': 0.24}\n",
      "{'loss': 1.4795, 'learning_rate': 9.516129032258065e-06, 'epoch': 0.25}\n",
      "{'loss': 1.1757, 'learning_rate': 9.493087557603687e-06, 'epoch': 0.26}\n",
      "{'loss': 1.1815, 'learning_rate': 9.47004608294931e-06, 'epoch': 0.28}\n",
      "{'loss': 1.23, 'learning_rate': 9.447004608294931e-06, 'epoch': 0.29}\n",
      "{'loss': 1.0344, 'learning_rate': 9.423963133640554e-06, 'epoch': 0.3}\n",
      "{'loss': 1.112, 'learning_rate': 9.400921658986176e-06, 'epoch': 0.31}\n",
      "{'loss': 1.2663, 'learning_rate': 9.377880184331799e-06, 'epoch': 0.32}\n",
      "{'loss': 0.9194, 'learning_rate': 9.35483870967742e-06, 'epoch': 0.33}\n",
      "{'loss': 1.1369, 'learning_rate': 9.331797235023043e-06, 'epoch': 0.34}\n",
      "{'loss': 1.209, 'learning_rate': 9.308755760368664e-06, 'epoch': 0.36}\n",
      "{'loss': 0.9249, 'learning_rate': 9.285714285714288e-06, 'epoch': 0.37}\n",
      "{'loss': 1.0974, 'learning_rate': 9.262672811059909e-06, 'epoch': 0.38}\n",
      "{'loss': 1.2353, 'learning_rate': 9.239631336405532e-06, 'epoch': 0.39}\n",
      "{'loss': 0.8994, 'learning_rate': 9.216589861751153e-06, 'epoch': 0.4}\n",
      "{'loss': 1.181, 'learning_rate': 9.193548387096775e-06, 'epoch': 0.41}\n",
      "{'loss': 0.8205, 'learning_rate': 9.170506912442398e-06, 'epoch': 0.43}\n",
      "{'loss': 1.0952, 'learning_rate': 9.14746543778802e-06, 'epoch': 0.44}\n",
      "{'loss': 0.7177, 'learning_rate': 9.124423963133642e-06, 'epoch': 0.45}\n",
      "{'loss': 0.9901, 'learning_rate': 9.101382488479264e-06, 'epoch': 0.46}\n",
      "{'loss': 0.8945, 'learning_rate': 9.078341013824885e-06, 'epoch': 0.47}\n",
      "{'loss': 1.3049, 'learning_rate': 9.055299539170508e-06, 'epoch': 0.48}\n",
      "{'loss': 0.912, 'learning_rate': 9.03225806451613e-06, 'epoch': 0.49}\n",
      "{'loss': 0.8518, 'learning_rate': 9.009216589861753e-06, 'epoch': 0.51}\n",
      "{'loss': 0.8867, 'learning_rate': 8.986175115207374e-06, 'epoch': 0.52}\n",
      "{'loss': 0.8757, 'learning_rate': 8.963133640552995e-06, 'epoch': 0.53}\n",
      "{'loss': 0.9808, 'learning_rate': 8.940092165898619e-06, 'epoch': 0.54}\n",
      "{'loss': 1.0083, 'learning_rate': 8.91705069124424e-06, 'epoch': 0.55}\n",
      "{'loss': 0.9757, 'learning_rate': 8.894009216589863e-06, 'epoch': 0.56}\n",
      "{'loss': 0.7317, 'learning_rate': 8.870967741935484e-06, 'epoch': 0.57}\n",
      "{'loss': 1.1872, 'learning_rate': 8.847926267281107e-06, 'epoch': 0.59}\n",
      "{'loss': 0.9391, 'learning_rate': 8.824884792626729e-06, 'epoch': 0.6}\n",
      "{'loss': 0.5722, 'learning_rate': 8.80184331797235e-06, 'epoch': 0.61}\n",
      "{'loss': 0.5713, 'learning_rate': 8.778801843317973e-06, 'epoch': 0.62}\n",
      "{'loss': 0.6801, 'learning_rate': 8.755760368663595e-06, 'epoch': 0.63}\n",
      "{'loss': 0.9833, 'learning_rate': 8.732718894009218e-06, 'epoch': 0.64}\n",
      "{'loss': 1.1439, 'learning_rate': 8.70967741935484e-06, 'epoch': 0.66}\n",
      "{'loss': 1.1675, 'learning_rate': 8.68663594470046e-06, 'epoch': 0.67}\n",
      "{'loss': 0.9046, 'learning_rate': 8.663594470046084e-06, 'epoch': 0.68}\n",
      "{'loss': 1.0106, 'learning_rate': 8.640552995391705e-06, 'epoch': 0.69}\n"
     ]
    },
    {
     "data": {
      "application/vnd.jupyter.widget-view+json": {
       "model_id": "5e4fa1b534154ef4bb2652061f78fe21",
       "version_major": 2,
       "version_minor": 0
      },
      "text/plain": [
       "  0%|          | 0/40 [00:00<?, ?it/s]"
      ]
     },
     "metadata": {},
     "output_type": "display_data"
    },
    {
     "name": "stdout",
     "output_type": "stream",
     "text": [
      "{'eval_loss': 0.8408672213554382, 'eval_runtime': 1.0817, 'eval_samples_per_second': 36.979, 'eval_steps_per_second': 36.979, 'epoch': 0.69}\n",
      "{'loss': 1.0694, 'learning_rate': 8.617511520737328e-06, 'epoch': 0.7}\n",
      "{'loss': 0.6986, 'learning_rate': 8.59447004608295e-06, 'epoch': 0.71}\n",
      "{'loss': 0.9257, 'learning_rate': 8.571428571428571e-06, 'epoch': 0.72}\n",
      "{'loss': 0.9342, 'learning_rate': 8.548387096774194e-06, 'epoch': 0.74}\n",
      "{'loss': 0.8829, 'learning_rate': 8.525345622119815e-06, 'epoch': 0.75}\n",
      "{'loss': 0.69, 'learning_rate': 8.502304147465438e-06, 'epoch': 0.76}\n",
      "{'loss': 0.5271, 'learning_rate': 8.47926267281106e-06, 'epoch': 0.77}\n",
      "{'loss': 1.0046, 'learning_rate': 8.456221198156683e-06, 'epoch': 0.78}\n",
      "{'loss': 0.938, 'learning_rate': 8.433179723502304e-06, 'epoch': 0.79}\n",
      "{'loss': 0.7889, 'learning_rate': 8.410138248847927e-06, 'epoch': 0.8}\n",
      "{'loss': 0.5229, 'learning_rate': 8.387096774193549e-06, 'epoch': 0.82}\n",
      "{'loss': 1.1827, 'learning_rate': 8.364055299539172e-06, 'epoch': 0.83}\n",
      "{'loss': 0.9712, 'learning_rate': 8.341013824884793e-06, 'epoch': 0.84}\n",
      "{'loss': 0.625, 'learning_rate': 8.317972350230415e-06, 'epoch': 0.85}\n",
      "{'loss': 0.8908, 'learning_rate': 8.294930875576038e-06, 'epoch': 0.86}\n",
      "{'loss': 0.9703, 'learning_rate': 8.271889400921659e-06, 'epoch': 0.87}\n",
      "{'loss': 1.015, 'learning_rate': 8.248847926267282e-06, 'epoch': 0.89}\n",
      "{'loss': 0.4203, 'learning_rate': 8.225806451612904e-06, 'epoch': 0.9}\n",
      "{'loss': 1.0567, 'learning_rate': 8.202764976958527e-06, 'epoch': 0.91}\n",
      "{'loss': 0.7598, 'learning_rate': 8.179723502304148e-06, 'epoch': 0.92}\n",
      "{'loss': 0.8074, 'learning_rate': 8.156682027649771e-06, 'epoch': 0.93}\n",
      "{'loss': 1.1258, 'learning_rate': 8.133640552995393e-06, 'epoch': 0.94}\n",
      "{'loss': 0.9565, 'learning_rate': 8.110599078341016e-06, 'epoch': 0.95}\n",
      "{'loss': 1.0878, 'learning_rate': 8.087557603686637e-06, 'epoch': 0.97}\n",
      "{'loss': 1.1365, 'learning_rate': 8.064516129032258e-06, 'epoch': 0.98}\n",
      "{'loss': 1.1482, 'learning_rate': 8.041474654377881e-06, 'epoch': 0.99}\n",
      "{'loss': 0.9306, 'learning_rate': 8.018433179723503e-06, 'epoch': 1.0}\n",
      "{'loss': 0.4947, 'learning_rate': 7.995391705069126e-06, 'epoch': 1.01}\n",
      "{'loss': 0.4318, 'learning_rate': 7.972350230414747e-06, 'epoch': 1.02}\n",
      "{'loss': 0.4476, 'learning_rate': 7.94930875576037e-06, 'epoch': 1.03}\n",
      "{'loss': 0.4141, 'learning_rate': 7.926267281105992e-06, 'epoch': 1.05}\n",
      "{'loss': 0.5102, 'learning_rate': 7.903225806451613e-06, 'epoch': 1.06}\n",
      "{'loss': 0.341, 'learning_rate': 7.880184331797236e-06, 'epoch': 1.07}\n",
      "{'loss': 0.4055, 'learning_rate': 7.857142857142858e-06, 'epoch': 1.08}\n",
      "{'loss': 0.2906, 'learning_rate': 7.83410138248848e-06, 'epoch': 1.09}\n",
      "{'loss': 0.3935, 'learning_rate': 7.811059907834102e-06, 'epoch': 1.1}\n",
      "{'loss': 0.3876, 'learning_rate': 7.788018433179724e-06, 'epoch': 1.11}\n",
      "{'loss': 0.4014, 'learning_rate': 7.764976958525347e-06, 'epoch': 1.13}\n",
      "{'loss': 0.3893, 'learning_rate': 7.741935483870968e-06, 'epoch': 1.14}\n",
      "{'loss': 0.4028, 'learning_rate': 7.718894009216591e-06, 'epoch': 1.15}\n",
      "{'loss': 0.4112, 'learning_rate': 7.695852534562212e-06, 'epoch': 1.16}\n",
      "{'loss': 0.6812, 'learning_rate': 7.672811059907834e-06, 'epoch': 1.17}\n",
      "{'loss': 0.5536, 'learning_rate': 7.649769585253457e-06, 'epoch': 1.18}\n",
      "{'loss': 0.4829, 'learning_rate': 7.626728110599078e-06, 'epoch': 1.2}\n",
      "{'loss': 0.3948, 'learning_rate': 7.603686635944701e-06, 'epoch': 1.21}\n",
      "{'loss': 0.5198, 'learning_rate': 7.580645161290323e-06, 'epoch': 1.22}\n",
      "{'loss': 0.4657, 'learning_rate': 7.557603686635945e-06, 'epoch': 1.23}\n",
      "{'loss': 0.3089, 'learning_rate': 7.534562211981567e-06, 'epoch': 1.24}\n",
      "{'loss': 0.4113, 'learning_rate': 7.5115207373271895e-06, 'epoch': 1.25}\n",
      "{'loss': 0.4472, 'learning_rate': 7.488479262672812e-06, 'epoch': 1.26}\n",
      "{'loss': 0.5072, 'learning_rate': 7.465437788018434e-06, 'epoch': 1.28}\n",
      "{'loss': 0.2835, 'learning_rate': 7.442396313364056e-06, 'epoch': 1.29}\n",
      "{'loss': 0.3089, 'learning_rate': 7.4193548387096784e-06, 'epoch': 1.3}\n",
      "{'loss': 0.3131, 'learning_rate': 7.3963133640553e-06, 'epoch': 1.31}\n",
      "{'loss': 0.5355, 'learning_rate': 7.373271889400923e-06, 'epoch': 1.32}\n",
      "{'loss': 0.3797, 'learning_rate': 7.350230414746544e-06, 'epoch': 1.33}\n",
      "{'loss': 0.3145, 'learning_rate': 7.327188940092167e-06, 'epoch': 1.34}\n",
      "{'loss': 0.3639, 'learning_rate': 7.304147465437789e-06, 'epoch': 1.36}\n",
      "{'loss': 0.275, 'learning_rate': 7.28110599078341e-06, 'epoch': 1.37}\n",
      "{'loss': 0.3619, 'learning_rate': 7.258064516129033e-06, 'epoch': 1.38}\n"
     ]
    },
    {
     "data": {
      "application/vnd.jupyter.widget-view+json": {
       "model_id": "c07fbb9a343b43789142475ad6a7b2c4",
       "version_major": 2,
       "version_minor": 0
      },
      "text/plain": [
       "  0%|          | 0/40 [00:00<?, ?it/s]"
      ]
     },
     "metadata": {},
     "output_type": "display_data"
    },
    {
     "name": "stdout",
     "output_type": "stream",
     "text": [
      "{'eval_loss': 0.8269058465957642, 'eval_runtime': 1.0414, 'eval_samples_per_second': 38.41, 'eval_steps_per_second': 38.41, 'epoch': 1.38}\n",
      "{'loss': 0.3834, 'learning_rate': 7.235023041474655e-06, 'epoch': 1.39}\n",
      "{'loss': 0.3644, 'learning_rate': 7.211981566820278e-06, 'epoch': 1.4}\n",
      "{'loss': 0.3695, 'learning_rate': 7.188940092165899e-06, 'epoch': 1.41}\n",
      "{'loss': 0.3858, 'learning_rate': 7.1658986175115205e-06, 'epoch': 1.43}\n",
      "{'loss': 0.4001, 'learning_rate': 7.1428571428571436e-06, 'epoch': 1.44}\n",
      "{'loss': 0.4023, 'learning_rate': 7.119815668202765e-06, 'epoch': 1.45}\n",
      "{'loss': 0.4213, 'learning_rate': 7.096774193548388e-06, 'epoch': 1.46}\n",
      "{'loss': 0.2761, 'learning_rate': 7.073732718894009e-06, 'epoch': 1.47}\n",
      "{'loss': 0.4522, 'learning_rate': 7.050691244239632e-06, 'epoch': 1.48}\n",
      "{'loss': 0.5394, 'learning_rate': 7.027649769585254e-06, 'epoch': 1.49}\n",
      "{'loss': 0.3497, 'learning_rate': 7.004608294930876e-06, 'epoch': 1.51}\n",
      "{'loss': 0.3906, 'learning_rate': 6.981566820276498e-06, 'epoch': 1.52}\n",
      "{'loss': 0.4485, 'learning_rate': 6.958525345622121e-06, 'epoch': 1.53}\n",
      "{'loss': 0.3624, 'learning_rate': 6.935483870967743e-06, 'epoch': 1.54}\n",
      "{'loss': 0.2468, 'learning_rate': 6.912442396313365e-06, 'epoch': 1.55}\n",
      "{'loss': 0.4886, 'learning_rate': 6.8894009216589865e-06, 'epoch': 1.56}\n",
      "{'loss': 0.5135, 'learning_rate': 6.866359447004609e-06, 'epoch': 1.57}\n",
      "{'loss': 0.3903, 'learning_rate': 6.843317972350231e-06, 'epoch': 1.59}\n",
      "{'loss': 0.4584, 'learning_rate': 6.820276497695853e-06, 'epoch': 1.6}\n",
      "{'loss': 0.3546, 'learning_rate': 6.797235023041475e-06, 'epoch': 1.61}\n",
      "{'loss': 0.279, 'learning_rate': 6.774193548387097e-06, 'epoch': 1.62}\n",
      "{'loss': 0.4698, 'learning_rate': 6.75115207373272e-06, 'epoch': 1.63}\n",
      "{'loss': 0.347, 'learning_rate': 6.728110599078341e-06, 'epoch': 1.64}\n",
      "{'loss': 0.348, 'learning_rate': 6.705069124423964e-06, 'epoch': 1.66}\n",
      "{'loss': 0.2627, 'learning_rate': 6.682027649769586e-06, 'epoch': 1.67}\n",
      "{'loss': 0.5603, 'learning_rate': 6.658986175115207e-06, 'epoch': 1.68}\n",
      "{'loss': 0.4384, 'learning_rate': 6.63594470046083e-06, 'epoch': 1.69}\n",
      "{'loss': 0.4537, 'learning_rate': 6.612903225806452e-06, 'epoch': 1.7}\n",
      "{'loss': 0.376, 'learning_rate': 6.589861751152075e-06, 'epoch': 1.71}\n",
      "{'loss': 0.2951, 'learning_rate': 6.566820276497696e-06, 'epoch': 1.72}\n",
      "{'loss': 0.5039, 'learning_rate': 6.543778801843319e-06, 'epoch': 1.74}\n",
      "{'loss': 0.3911, 'learning_rate': 6.5207373271889405e-06, 'epoch': 1.75}\n",
      "{'loss': 0.3614, 'learning_rate': 6.497695852534563e-06, 'epoch': 1.76}\n",
      "{'loss': 0.3554, 'learning_rate': 6.474654377880185e-06, 'epoch': 1.77}\n",
      "{'loss': 0.4259, 'learning_rate': 6.451612903225806e-06, 'epoch': 1.78}\n",
      "{'loss': 0.4788, 'learning_rate': 6.4285714285714295e-06, 'epoch': 1.79}\n",
      "{'loss': 0.2041, 'learning_rate': 6.405529953917051e-06, 'epoch': 1.8}\n",
      "{'loss': 0.5252, 'learning_rate': 6.382488479262673e-06, 'epoch': 1.82}\n",
      "{'loss': 0.3638, 'learning_rate': 6.359447004608295e-06, 'epoch': 1.83}\n",
      "{'loss': 0.3488, 'learning_rate': 6.3364055299539176e-06, 'epoch': 1.84}\n",
      "{'loss': 0.3394, 'learning_rate': 6.31336405529954e-06, 'epoch': 1.85}\n",
      "{'loss': 0.4758, 'learning_rate': 6.290322580645162e-06, 'epoch': 1.86}\n",
      "{'loss': 0.3864, 'learning_rate': 6.267281105990783e-06, 'epoch': 1.87}\n",
      "{'loss': 0.5969, 'learning_rate': 6.2442396313364065e-06, 'epoch': 1.89}\n",
      "{'loss': 0.3469, 'learning_rate': 6.221198156682028e-06, 'epoch': 1.9}\n",
      "{'loss': 0.5127, 'learning_rate': 6.198156682027651e-06, 'epoch': 1.91}\n",
      "{'loss': 0.3253, 'learning_rate': 6.175115207373272e-06, 'epoch': 1.92}\n",
      "{'loss': 0.4437, 'learning_rate': 6.152073732718894e-06, 'epoch': 1.93}\n",
      "{'loss': 0.2424, 'learning_rate': 6.129032258064517e-06, 'epoch': 1.94}\n",
      "{'loss': 0.4831, 'learning_rate': 6.105990783410138e-06, 'epoch': 1.95}\n",
      "{'loss': 0.2631, 'learning_rate': 6.082949308755761e-06, 'epoch': 1.97}\n",
      "{'loss': 0.35, 'learning_rate': 6.059907834101383e-06, 'epoch': 1.98}\n",
      "{'loss': 0.3608, 'learning_rate': 6.036866359447006e-06, 'epoch': 1.99}\n",
      "{'loss': 0.1739, 'learning_rate': 6.013824884792627e-06, 'epoch': 2.0}\n",
      "{'loss': 0.2909, 'learning_rate': 5.9907834101382485e-06, 'epoch': 2.01}\n",
      "{'loss': 0.2319, 'learning_rate': 5.967741935483872e-06, 'epoch': 2.02}\n",
      "{'loss': 0.1588, 'learning_rate': 5.944700460829493e-06, 'epoch': 2.03}\n",
      "{'loss': 0.1587, 'learning_rate': 5.921658986175116e-06, 'epoch': 2.05}\n",
      "{'loss': 0.1158, 'learning_rate': 5.8986175115207375e-06, 'epoch': 2.06}\n",
      "{'loss': 0.3472, 'learning_rate': 5.87557603686636e-06, 'epoch': 2.07}\n"
     ]
    },
    {
     "data": {
      "application/vnd.jupyter.widget-view+json": {
       "model_id": "2481faca3728447f93b794dad1105b2f",
       "version_major": 2,
       "version_minor": 0
      },
      "text/plain": [
       "  0%|          | 0/40 [00:00<?, ?it/s]"
      ]
     },
     "metadata": {},
     "output_type": "display_data"
    },
    {
     "name": "stdout",
     "output_type": "stream",
     "text": [
      "{'eval_loss': 0.8579270243644714, 'eval_runtime': 1.035, 'eval_samples_per_second': 38.648, 'eval_steps_per_second': 38.648, 'epoch': 2.07}\n",
      "{'loss': 0.186, 'learning_rate': 5.852534562211982e-06, 'epoch': 2.08}\n",
      "{'loss': 0.1859, 'learning_rate': 5.829493087557604e-06, 'epoch': 2.09}\n",
      "{'loss': 0.3582, 'learning_rate': 5.806451612903226e-06, 'epoch': 2.1}\n",
      "{'loss': 0.1415, 'learning_rate': 5.783410138248849e-06, 'epoch': 2.11}\n",
      "{'loss': 0.183, 'learning_rate': 5.76036866359447e-06, 'epoch': 2.13}\n",
      "{'loss': 0.1915, 'learning_rate': 5.737327188940093e-06, 'epoch': 2.14}\n",
      "{'loss': 0.1364, 'learning_rate': 5.7142857142857145e-06, 'epoch': 2.15}\n",
      "{'loss': 0.1282, 'learning_rate': 5.691244239631338e-06, 'epoch': 2.16}\n",
      "{'loss': 0.206, 'learning_rate': 5.668202764976959e-06, 'epoch': 2.17}\n",
      "{'loss': 0.2708, 'learning_rate': 5.645161290322582e-06, 'epoch': 2.18}\n",
      "{'loss': 0.2676, 'learning_rate': 5.6221198156682035e-06, 'epoch': 2.2}\n",
      "{'loss': 0.1925, 'learning_rate': 5.599078341013825e-06, 'epoch': 2.21}\n",
      "{'loss': 0.1811, 'learning_rate': 5.576036866359448e-06, 'epoch': 2.22}\n",
      "{'loss': 0.2174, 'learning_rate': 5.552995391705069e-06, 'epoch': 2.23}\n",
      "{'loss': 0.1746, 'learning_rate': 5.529953917050692e-06, 'epoch': 2.24}\n",
      "{'loss': 0.2493, 'learning_rate': 5.506912442396314e-06, 'epoch': 2.25}\n",
      "{'loss': 0.19, 'learning_rate': 5.483870967741935e-06, 'epoch': 2.26}\n",
      "{'loss': 0.2682, 'learning_rate': 5.460829493087558e-06, 'epoch': 2.28}\n",
      "{'loss': 0.1866, 'learning_rate': 5.43778801843318e-06, 'epoch': 2.29}\n",
      "{'loss': 0.1928, 'learning_rate': 5.414746543778803e-06, 'epoch': 2.3}\n",
      "{'loss': 0.2135, 'learning_rate': 5.391705069124424e-06, 'epoch': 2.31}\n",
      "{'loss': 0.2712, 'learning_rate': 5.368663594470046e-06, 'epoch': 2.32}\n",
      "{'loss': 0.2652, 'learning_rate': 5.345622119815669e-06, 'epoch': 2.33}\n",
      "{'loss': 0.1718, 'learning_rate': 5.322580645161291e-06, 'epoch': 2.34}\n",
      "{'loss': 0.2947, 'learning_rate': 5.299539170506913e-06, 'epoch': 2.36}\n",
      "{'loss': 0.219, 'learning_rate': 5.276497695852535e-06, 'epoch': 2.37}\n",
      "{'loss': 0.2298, 'learning_rate': 5.253456221198157e-06, 'epoch': 2.38}\n",
      "{'loss': 0.2701, 'learning_rate': 5.23041474654378e-06, 'epoch': 2.39}\n",
      "{'loss': 0.2214, 'learning_rate': 5.207373271889401e-06, 'epoch': 2.4}\n",
      "{'loss': 0.2101, 'learning_rate': 5.184331797235023e-06, 'epoch': 2.41}\n",
      "{'loss': 0.2257, 'learning_rate': 5.161290322580646e-06, 'epoch': 2.43}\n",
      "{'loss': 0.1181, 'learning_rate': 5.138248847926268e-06, 'epoch': 2.44}\n",
      "{'loss': 0.2468, 'learning_rate': 5.11520737327189e-06, 'epoch': 2.45}\n",
      "{'loss': 0.2305, 'learning_rate': 5.0921658986175115e-06, 'epoch': 2.46}\n",
      "{'loss': 0.201, 'learning_rate': 5.0691244239631346e-06, 'epoch': 2.47}\n",
      "{'loss': 0.2519, 'learning_rate': 5.046082949308756e-06, 'epoch': 2.48}\n",
      "{'loss': 0.223, 'learning_rate': 5.023041474654379e-06, 'epoch': 2.49}\n",
      "{'loss': 0.1482, 'learning_rate': 5e-06, 'epoch': 2.51}\n",
      "{'loss': 0.1663, 'learning_rate': 4.976958525345623e-06, 'epoch': 2.52}\n",
      "{'loss': 0.2152, 'learning_rate': 4.953917050691245e-06, 'epoch': 2.53}\n",
      "{'loss': 0.2915, 'learning_rate': 4.930875576036866e-06, 'epoch': 2.54}\n",
      "{'loss': 0.2596, 'learning_rate': 4.9078341013824885e-06, 'epoch': 2.55}\n",
      "{'loss': 0.1397, 'learning_rate': 4.884792626728111e-06, 'epoch': 2.56}\n",
      "{'loss': 0.2255, 'learning_rate': 4.861751152073733e-06, 'epoch': 2.57}\n",
      "{'loss': 0.2214, 'learning_rate': 4.838709677419355e-06, 'epoch': 2.59}\n",
      "{'loss': 0.233, 'learning_rate': 4.8156682027649774e-06, 'epoch': 2.6}\n",
      "{'loss': 0.1777, 'learning_rate': 4.7926267281106e-06, 'epoch': 2.61}\n",
      "{'loss': 0.1454, 'learning_rate': 4.769585253456221e-06, 'epoch': 2.62}\n",
      "{'loss': 0.2484, 'learning_rate': 4.746543778801843e-06, 'epoch': 2.63}\n",
      "{'loss': 0.3177, 'learning_rate': 4.7235023041474655e-06, 'epoch': 2.64}\n",
      "{'loss': 0.1601, 'learning_rate': 4.700460829493088e-06, 'epoch': 2.66}\n",
      "{'loss': 0.2013, 'learning_rate': 4.67741935483871e-06, 'epoch': 2.67}\n",
      "{'loss': 0.2328, 'learning_rate': 4.654377880184332e-06, 'epoch': 2.68}\n",
      "{'loss': 0.1473, 'learning_rate': 4.6313364055299545e-06, 'epoch': 2.69}\n",
      "{'loss': 0.2377, 'learning_rate': 4.608294930875577e-06, 'epoch': 2.7}\n",
      "{'loss': 0.1995, 'learning_rate': 4.585253456221199e-06, 'epoch': 2.71}\n",
      "{'loss': 0.2282, 'learning_rate': 4.562211981566821e-06, 'epoch': 2.72}\n",
      "{'loss': 0.2004, 'learning_rate': 4.5391705069124426e-06, 'epoch': 2.74}\n",
      "{'loss': 0.2494, 'learning_rate': 4.516129032258065e-06, 'epoch': 2.75}\n",
      "{'loss': 0.2741, 'learning_rate': 4.493087557603687e-06, 'epoch': 2.76}\n"
     ]
    },
    {
     "data": {
      "application/vnd.jupyter.widget-view+json": {
       "model_id": "ef705521575b421097997dd6530a2479",
       "version_major": 2,
       "version_minor": 0
      },
      "text/plain": [
       "  0%|          | 0/40 [00:00<?, ?it/s]"
      ]
     },
     "metadata": {},
     "output_type": "display_data"
    },
    {
     "name": "stdout",
     "output_type": "stream",
     "text": [
      "{'eval_loss': 0.8686515092849731, 'eval_runtime': 1.1119, 'eval_samples_per_second': 35.975, 'eval_steps_per_second': 35.975, 'epoch': 2.76}\n",
      "{'loss': 0.1529, 'learning_rate': 4.470046082949309e-06, 'epoch': 2.77}\n",
      "{'loss': 0.1833, 'learning_rate': 4.4470046082949315e-06, 'epoch': 2.78}\n",
      "{'loss': 0.1617, 'learning_rate': 4.423963133640554e-06, 'epoch': 2.79}\n",
      "{'loss': 0.2297, 'learning_rate': 4.400921658986175e-06, 'epoch': 2.8}\n",
      "{'loss': 0.2319, 'learning_rate': 4.377880184331797e-06, 'epoch': 2.82}\n",
      "{'loss': 0.1342, 'learning_rate': 4.35483870967742e-06, 'epoch': 2.83}\n",
      "{'loss': 0.1421, 'learning_rate': 4.331797235023042e-06, 'epoch': 2.84}\n",
      "{'loss': 0.2018, 'learning_rate': 4.308755760368664e-06, 'epoch': 2.85}\n",
      "{'loss': 0.2299, 'learning_rate': 4.2857142857142855e-06, 'epoch': 2.86}\n",
      "{'loss': 0.1779, 'learning_rate': 4.262672811059908e-06, 'epoch': 2.87}\n",
      "{'loss': 0.183, 'learning_rate': 4.23963133640553e-06, 'epoch': 2.89}\n",
      "{'loss': 0.2099, 'learning_rate': 4.216589861751152e-06, 'epoch': 2.9}\n",
      "{'loss': 0.2185, 'learning_rate': 4.193548387096774e-06, 'epoch': 2.91}\n",
      "{'loss': 0.1954, 'learning_rate': 4.170506912442397e-06, 'epoch': 2.92}\n",
      "{'loss': 0.3367, 'learning_rate': 4.147465437788019e-06, 'epoch': 2.93}\n",
      "{'loss': 0.1488, 'learning_rate': 4.124423963133641e-06, 'epoch': 2.94}\n",
      "{'loss': 0.1631, 'learning_rate': 4.101382488479263e-06, 'epoch': 2.95}\n",
      "{'loss': 0.1577, 'learning_rate': 4.0783410138248856e-06, 'epoch': 2.97}\n",
      "{'loss': 0.2115, 'learning_rate': 4.055299539170508e-06, 'epoch': 2.98}\n",
      "{'loss': 0.2053, 'learning_rate': 4.032258064516129e-06, 'epoch': 2.99}\n",
      "{'loss': 0.1129, 'learning_rate': 4.0092165898617514e-06, 'epoch': 3.0}\n",
      "{'loss': 0.1123, 'learning_rate': 3.986175115207374e-06, 'epoch': 3.01}\n",
      "{'loss': 0.1849, 'learning_rate': 3.963133640552996e-06, 'epoch': 3.02}\n",
      "{'loss': 0.2489, 'learning_rate': 3.940092165898618e-06, 'epoch': 3.03}\n",
      "{'loss': 0.2052, 'learning_rate': 3.91705069124424e-06, 'epoch': 3.05}\n",
      "{'loss': 0.1544, 'learning_rate': 3.894009216589862e-06, 'epoch': 3.06}\n",
      "{'loss': 0.1406, 'learning_rate': 3.870967741935484e-06, 'epoch': 3.07}\n",
      "{'loss': 0.1304, 'learning_rate': 3.847926267281106e-06, 'epoch': 3.08}\n",
      "{'loss': 0.1356, 'learning_rate': 3.8248847926267285e-06, 'epoch': 3.09}\n",
      "{'loss': 0.1166, 'learning_rate': 3.8018433179723507e-06, 'epoch': 3.1}\n",
      "{'loss': 0.1557, 'learning_rate': 3.7788018433179725e-06, 'epoch': 3.11}\n",
      "{'loss': 0.1403, 'learning_rate': 3.7557603686635947e-06, 'epoch': 3.13}\n",
      "{'loss': 0.2024, 'learning_rate': 3.732718894009217e-06, 'epoch': 3.14}\n",
      "{'loss': 0.1231, 'learning_rate': 3.7096774193548392e-06, 'epoch': 3.15}\n",
      "{'loss': 0.1202, 'learning_rate': 3.6866359447004615e-06, 'epoch': 3.16}\n",
      "{'loss': 0.1384, 'learning_rate': 3.6635944700460837e-06, 'epoch': 3.17}\n",
      "{'loss': 0.1499, 'learning_rate': 3.640552995391705e-06, 'epoch': 3.18}\n",
      "{'loss': 0.1406, 'learning_rate': 3.6175115207373273e-06, 'epoch': 3.2}\n",
      "{'loss': 0.156, 'learning_rate': 3.5944700460829495e-06, 'epoch': 3.21}\n",
      "{'loss': 0.0933, 'learning_rate': 3.5714285714285718e-06, 'epoch': 3.22}\n",
      "{'loss': 0.1844, 'learning_rate': 3.548387096774194e-06, 'epoch': 3.23}\n",
      "{'loss': 0.1923, 'learning_rate': 3.525345622119816e-06, 'epoch': 3.24}\n",
      "{'loss': 0.1128, 'learning_rate': 3.502304147465438e-06, 'epoch': 3.25}\n",
      "{'loss': 0.1507, 'learning_rate': 3.4792626728110603e-06, 'epoch': 3.26}\n",
      "{'loss': 0.1302, 'learning_rate': 3.4562211981566825e-06, 'epoch': 3.28}\n",
      "{'loss': 0.1335, 'learning_rate': 3.4331797235023043e-06, 'epoch': 3.29}\n",
      "{'loss': 0.1267, 'learning_rate': 3.4101382488479266e-06, 'epoch': 3.3}\n",
      "{'loss': 0.2064, 'learning_rate': 3.3870967741935484e-06, 'epoch': 3.31}\n",
      "{'loss': 0.1119, 'learning_rate': 3.3640552995391706e-06, 'epoch': 3.32}\n",
      "{'loss': 0.1822, 'learning_rate': 3.341013824884793e-06, 'epoch': 3.33}\n",
      "{'loss': 0.1301, 'learning_rate': 3.317972350230415e-06, 'epoch': 3.34}\n",
      "{'loss': 0.1617, 'learning_rate': 3.2949308755760373e-06, 'epoch': 3.36}\n",
      "{'loss': 0.0992, 'learning_rate': 3.2718894009216596e-06, 'epoch': 3.37}\n",
      "{'loss': 0.1363, 'learning_rate': 3.2488479262672814e-06, 'epoch': 3.38}\n",
      "{'loss': 0.1502, 'learning_rate': 3.225806451612903e-06, 'epoch': 3.39}\n",
      "{'loss': 0.1584, 'learning_rate': 3.2027649769585254e-06, 'epoch': 3.4}\n",
      "{'loss': 0.1219, 'learning_rate': 3.1797235023041477e-06, 'epoch': 3.41}\n",
      "{'loss': 0.1512, 'learning_rate': 3.15668202764977e-06, 'epoch': 3.43}\n",
      "{'loss': 0.2593, 'learning_rate': 3.1336405529953917e-06, 'epoch': 3.44}\n",
      "{'loss': 0.0957, 'learning_rate': 3.110599078341014e-06, 'epoch': 3.45}\n"
     ]
    },
    {
     "data": {
      "application/vnd.jupyter.widget-view+json": {
       "model_id": "167c778bd8294bb4a886de087b02c224",
       "version_major": 2,
       "version_minor": 0
      },
      "text/plain": [
       "  0%|          | 0/40 [00:00<?, ?it/s]"
      ]
     },
     "metadata": {},
     "output_type": "display_data"
    },
    {
     "name": "stdout",
     "output_type": "stream",
     "text": [
      "{'eval_loss': 0.8865064382553101, 'eval_runtime': 1.0663, 'eval_samples_per_second': 37.513, 'eval_steps_per_second': 37.513, 'epoch': 3.45}\n",
      "{'loss': 0.1534, 'learning_rate': 3.087557603686636e-06, 'epoch': 3.46}\n",
      "{'loss': 0.1198, 'learning_rate': 3.0645161290322584e-06, 'epoch': 3.47}\n",
      "{'loss': 0.1935, 'learning_rate': 3.0414746543778806e-06, 'epoch': 3.48}\n",
      "{'loss': 0.1661, 'learning_rate': 3.018433179723503e-06, 'epoch': 3.49}\n",
      "{'loss': 0.0995, 'learning_rate': 2.9953917050691243e-06, 'epoch': 3.51}\n",
      "{'loss': 0.1565, 'learning_rate': 2.9723502304147465e-06, 'epoch': 3.52}\n",
      "{'loss': 0.1286, 'learning_rate': 2.9493087557603687e-06, 'epoch': 3.53}\n",
      "{'loss': 0.1175, 'learning_rate': 2.926267281105991e-06, 'epoch': 3.54}\n",
      "{'loss': 0.1211, 'learning_rate': 2.903225806451613e-06, 'epoch': 3.55}\n",
      "{'loss': 0.1414, 'learning_rate': 2.880184331797235e-06, 'epoch': 3.56}\n",
      "{'loss': 0.1253, 'learning_rate': 2.8571428571428573e-06, 'epoch': 3.57}\n",
      "{'loss': 0.1595, 'learning_rate': 2.8341013824884795e-06, 'epoch': 3.59}\n",
      "{'loss': 0.1417, 'learning_rate': 2.8110599078341017e-06, 'epoch': 3.6}\n",
      "{'loss': 0.1712, 'learning_rate': 2.788018433179724e-06, 'epoch': 3.61}\n",
      "{'loss': 0.1385, 'learning_rate': 2.764976958525346e-06, 'epoch': 3.62}\n",
      "{'loss': 0.1141, 'learning_rate': 2.7419354838709676e-06, 'epoch': 3.63}\n",
      "{'loss': 0.1029, 'learning_rate': 2.71889400921659e-06, 'epoch': 3.64}\n",
      "{'loss': 0.1358, 'learning_rate': 2.695852534562212e-06, 'epoch': 3.66}\n",
      "{'loss': 0.1311, 'learning_rate': 2.6728110599078343e-06, 'epoch': 3.67}\n",
      "{'loss': 0.1294, 'learning_rate': 2.6497695852534565e-06, 'epoch': 3.68}\n",
      "{'loss': 0.1618, 'learning_rate': 2.6267281105990783e-06, 'epoch': 3.69}\n",
      "{'loss': 0.0938, 'learning_rate': 2.6036866359447006e-06, 'epoch': 3.7}\n",
      "{'loss': 0.1829, 'learning_rate': 2.580645161290323e-06, 'epoch': 3.71}\n",
      "{'loss': 0.1335, 'learning_rate': 2.557603686635945e-06, 'epoch': 3.72}\n",
      "{'loss': 0.1155, 'learning_rate': 2.5345622119815673e-06, 'epoch': 3.74}\n",
      "{'loss': 0.1257, 'learning_rate': 2.5115207373271895e-06, 'epoch': 3.75}\n",
      "{'loss': 0.1579, 'learning_rate': 2.4884792626728113e-06, 'epoch': 3.76}\n",
      "{'loss': 0.1729, 'learning_rate': 2.465437788018433e-06, 'epoch': 3.77}\n",
      "{'loss': 0.0876, 'learning_rate': 2.4423963133640554e-06, 'epoch': 3.78}\n",
      "{'loss': 0.1741, 'learning_rate': 2.4193548387096776e-06, 'epoch': 3.79}\n",
      "{'loss': 0.1131, 'learning_rate': 2.3963133640553e-06, 'epoch': 3.8}\n",
      "{'loss': 0.1171, 'learning_rate': 2.3732718894009217e-06, 'epoch': 3.82}\n",
      "{'loss': 0.1744, 'learning_rate': 2.350230414746544e-06, 'epoch': 3.83}\n",
      "{'loss': 0.1247, 'learning_rate': 2.327188940092166e-06, 'epoch': 3.84}\n",
      "{'loss': 0.1236, 'learning_rate': 2.3041474654377884e-06, 'epoch': 3.85}\n",
      "{'loss': 0.1322, 'learning_rate': 2.2811059907834106e-06, 'epoch': 3.86}\n",
      "{'loss': 0.1126, 'learning_rate': 2.2580645161290324e-06, 'epoch': 3.87}\n",
      "{'loss': 0.1129, 'learning_rate': 2.2350230414746546e-06, 'epoch': 3.89}\n",
      "{'loss': 0.1174, 'learning_rate': 2.211981566820277e-06, 'epoch': 3.9}\n",
      "{'loss': 0.1538, 'learning_rate': 2.1889400921658987e-06, 'epoch': 3.91}\n",
      "{'loss': 0.1315, 'learning_rate': 2.165898617511521e-06, 'epoch': 3.92}\n",
      "{'loss': 0.1255, 'learning_rate': 2.1428571428571427e-06, 'epoch': 3.93}\n",
      "{'loss': 0.1426, 'learning_rate': 2.119815668202765e-06, 'epoch': 3.94}\n",
      "{'loss': 0.1521, 'learning_rate': 2.096774193548387e-06, 'epoch': 3.95}\n",
      "{'loss': 0.1238, 'learning_rate': 2.0737327188940094e-06, 'epoch': 3.97}\n",
      "{'loss': 0.1221, 'learning_rate': 2.0506912442396317e-06, 'epoch': 3.98}\n",
      "{'loss': 0.1093, 'learning_rate': 2.027649769585254e-06, 'epoch': 3.99}\n",
      "{'loss': 0.1474, 'learning_rate': 2.0046082949308757e-06, 'epoch': 4.0}\n",
      "{'loss': 0.1403, 'learning_rate': 1.981566820276498e-06, 'epoch': 4.01}\n",
      "{'loss': 0.1142, 'learning_rate': 1.95852534562212e-06, 'epoch': 4.02}\n",
      "{'loss': 0.1212, 'learning_rate': 1.935483870967742e-06, 'epoch': 4.03}\n",
      "{'loss': 0.0854, 'learning_rate': 1.9124423963133642e-06, 'epoch': 4.05}\n",
      "{'loss': 0.1167, 'learning_rate': 1.8894009216589863e-06, 'epoch': 4.06}\n",
      "{'loss': 0.1123, 'learning_rate': 1.8663594470046085e-06, 'epoch': 4.07}\n",
      "{'loss': 0.1325, 'learning_rate': 1.8433179723502307e-06, 'epoch': 4.08}\n",
      "{'loss': 0.097, 'learning_rate': 1.8202764976958525e-06, 'epoch': 4.09}\n",
      "{'loss': 0.0961, 'learning_rate': 1.7972350230414748e-06, 'epoch': 4.1}\n",
      "{'loss': 0.0961, 'learning_rate': 1.774193548387097e-06, 'epoch': 4.11}\n",
      "{'loss': 0.0894, 'learning_rate': 1.751152073732719e-06, 'epoch': 4.13}\n",
      "{'loss': 0.1191, 'learning_rate': 1.7281105990783413e-06, 'epoch': 4.14}\n"
     ]
    },
    {
     "data": {
      "application/vnd.jupyter.widget-view+json": {
       "model_id": "9af6ee3b1b824da0a56df1f300e06a24",
       "version_major": 2,
       "version_minor": 0
      },
      "text/plain": [
       "  0%|          | 0/40 [00:00<?, ?it/s]"
      ]
     },
     "metadata": {},
     "output_type": "display_data"
    },
    {
     "name": "stdout",
     "output_type": "stream",
     "text": [
      "{'eval_loss': 0.9724971652030945, 'eval_runtime': 1.0452, 'eval_samples_per_second': 38.27, 'eval_steps_per_second': 38.27, 'epoch': 4.14}\n",
      "{'loss': 0.0997, 'learning_rate': 1.7050691244239633e-06, 'epoch': 4.15}\n",
      "{'loss': 0.0959, 'learning_rate': 1.6820276497695853e-06, 'epoch': 4.16}\n",
      "{'loss': 0.1557, 'learning_rate': 1.6589861751152075e-06, 'epoch': 4.17}\n",
      "{'loss': 0.105, 'learning_rate': 1.6359447004608298e-06, 'epoch': 4.18}\n",
      "{'loss': 0.1183, 'learning_rate': 1.6129032258064516e-06, 'epoch': 4.2}\n",
      "{'loss': 0.1139, 'learning_rate': 1.5898617511520738e-06, 'epoch': 4.21}\n",
      "{'loss': 0.0934, 'learning_rate': 1.5668202764976959e-06, 'epoch': 4.22}\n",
      "{'loss': 0.1022, 'learning_rate': 1.543778801843318e-06, 'epoch': 4.23}\n",
      "{'loss': 0.1058, 'learning_rate': 1.5207373271889403e-06, 'epoch': 4.24}\n",
      "{'loss': 0.0959, 'learning_rate': 1.4976958525345621e-06, 'epoch': 4.25}\n",
      "{'loss': 0.1081, 'learning_rate': 1.4746543778801844e-06, 'epoch': 4.26}\n",
      "{'loss': 0.1205, 'learning_rate': 1.4516129032258066e-06, 'epoch': 4.28}\n",
      "{'loss': 0.1264, 'learning_rate': 1.4285714285714286e-06, 'epoch': 4.29}\n",
      "{'loss': 0.1029, 'learning_rate': 1.4055299539170509e-06, 'epoch': 4.3}\n",
      "{'loss': 0.1561, 'learning_rate': 1.382488479262673e-06, 'epoch': 4.31}\n",
      "{'loss': 0.0925, 'learning_rate': 1.359447004608295e-06, 'epoch': 4.32}\n",
      "{'loss': 0.1106, 'learning_rate': 1.3364055299539171e-06, 'epoch': 4.33}\n",
      "{'loss': 0.1133, 'learning_rate': 1.3133640552995392e-06, 'epoch': 4.34}\n",
      "{'loss': 0.0914, 'learning_rate': 1.2903225806451614e-06, 'epoch': 4.36}\n",
      "{'loss': 0.1043, 'learning_rate': 1.2672811059907836e-06, 'epoch': 4.37}\n",
      "{'loss': 0.1013, 'learning_rate': 1.2442396313364057e-06, 'epoch': 4.38}\n",
      "{'loss': 0.1221, 'learning_rate': 1.2211981566820277e-06, 'epoch': 4.39}\n",
      "{'loss': 0.1175, 'learning_rate': 1.19815668202765e-06, 'epoch': 4.4}\n",
      "{'loss': 0.0856, 'learning_rate': 1.175115207373272e-06, 'epoch': 4.41}\n",
      "{'loss': 0.0987, 'learning_rate': 1.1520737327188942e-06, 'epoch': 4.43}\n",
      "{'loss': 0.1123, 'learning_rate': 1.1290322580645162e-06, 'epoch': 4.44}\n",
      "{'loss': 0.1418, 'learning_rate': 1.1059907834101384e-06, 'epoch': 4.45}\n",
      "{'loss': 0.0886, 'learning_rate': 1.0829493087557605e-06, 'epoch': 4.46}\n",
      "{'loss': 0.1133, 'learning_rate': 1.0599078341013825e-06, 'epoch': 4.47}\n",
      "{'loss': 0.1165, 'learning_rate': 1.0368663594470047e-06, 'epoch': 4.48}\n",
      "{'loss': 0.0952, 'learning_rate': 1.013824884792627e-06, 'epoch': 4.49}\n",
      "{'loss': 0.0941, 'learning_rate': 9.90783410138249e-07, 'epoch': 4.51}\n",
      "{'loss': 0.1178, 'learning_rate': 9.67741935483871e-07, 'epoch': 4.52}\n",
      "{'loss': 0.1022, 'learning_rate': 9.447004608294931e-07, 'epoch': 4.53}\n",
      "{'loss': 0.1044, 'learning_rate': 9.216589861751154e-07, 'epoch': 4.54}\n",
      "{'loss': 0.1027, 'learning_rate': 8.986175115207374e-07, 'epoch': 4.55}\n",
      "{'loss': 0.1405, 'learning_rate': 8.755760368663595e-07, 'epoch': 4.56}\n",
      "{'loss': 0.1023, 'learning_rate': 8.525345622119816e-07, 'epoch': 4.57}\n",
      "{'loss': 0.1007, 'learning_rate': 8.294930875576038e-07, 'epoch': 4.59}\n",
      "{'loss': 0.1219, 'learning_rate': 8.064516129032258e-07, 'epoch': 4.6}\n",
      "{'loss': 0.0891, 'learning_rate': 7.834101382488479e-07, 'epoch': 4.61}\n",
      "{'loss': 0.0888, 'learning_rate': 7.603686635944702e-07, 'epoch': 4.62}\n",
      "{'loss': 0.1668, 'learning_rate': 7.373271889400922e-07, 'epoch': 4.63}\n",
      "{'loss': 0.0918, 'learning_rate': 7.142857142857143e-07, 'epoch': 4.64}\n",
      "{'loss': 0.1114, 'learning_rate': 6.912442396313365e-07, 'epoch': 4.66}\n",
      "{'loss': 0.1238, 'learning_rate': 6.682027649769586e-07, 'epoch': 4.67}\n",
      "{'loss': 0.1011, 'learning_rate': 6.451612903225807e-07, 'epoch': 4.68}\n",
      "{'loss': 0.112, 'learning_rate': 6.221198156682028e-07, 'epoch': 4.69}\n",
      "{'loss': 0.098, 'learning_rate': 5.99078341013825e-07, 'epoch': 4.7}\n",
      "{'loss': 0.0856, 'learning_rate': 5.760368663594471e-07, 'epoch': 4.71}\n",
      "{'loss': 0.1441, 'learning_rate': 5.529953917050692e-07, 'epoch': 4.72}\n",
      "{'loss': 0.1045, 'learning_rate': 5.299539170506912e-07, 'epoch': 4.74}\n",
      "{'loss': 0.1058, 'learning_rate': 5.069124423963135e-07, 'epoch': 4.75}\n",
      "{'loss': 0.0935, 'learning_rate': 4.838709677419355e-07, 'epoch': 4.76}\n",
      "{'loss': 0.1066, 'learning_rate': 4.608294930875577e-07, 'epoch': 4.77}\n",
      "{'loss': 0.0849, 'learning_rate': 4.3778801843317976e-07, 'epoch': 4.78}\n",
      "{'loss': 0.0949, 'learning_rate': 4.147465437788019e-07, 'epoch': 4.79}\n",
      "{'loss': 0.0992, 'learning_rate': 3.9170506912442396e-07, 'epoch': 4.8}\n",
      "{'loss': 0.1227, 'learning_rate': 3.686635944700461e-07, 'epoch': 4.82}\n",
      "{'loss': 0.1162, 'learning_rate': 3.456221198156683e-07, 'epoch': 4.83}\n"
     ]
    },
    {
     "data": {
      "application/vnd.jupyter.widget-view+json": {
       "model_id": "2c96b4eee1ae41468787f339c598580b",
       "version_major": 2,
       "version_minor": 0
      },
      "text/plain": [
       "  0%|          | 0/40 [00:00<?, ?it/s]"
      ]
     },
     "metadata": {},
     "output_type": "display_data"
    },
    {
     "name": "stdout",
     "output_type": "stream",
     "text": [
      "{'eval_loss': 0.9945821762084961, 'eval_runtime': 2.3823, 'eval_samples_per_second': 16.79, 'eval_steps_per_second': 16.79, 'epoch': 4.83}\n",
      "{'loss': 0.1368, 'learning_rate': 3.2258064516129035e-07, 'epoch': 4.84}\n",
      "{'loss': 0.104, 'learning_rate': 2.995391705069125e-07, 'epoch': 4.85}\n",
      "{'loss': 0.1319, 'learning_rate': 2.764976958525346e-07, 'epoch': 4.86}\n",
      "{'loss': 0.104, 'learning_rate': 2.5345622119815674e-07, 'epoch': 4.87}\n",
      "{'loss': 0.1062, 'learning_rate': 2.3041474654377884e-07, 'epoch': 4.89}\n",
      "{'loss': 0.0759, 'learning_rate': 2.0737327188940094e-07, 'epoch': 4.9}\n",
      "{'loss': 0.1189, 'learning_rate': 1.8433179723502305e-07, 'epoch': 4.91}\n",
      "{'loss': 0.0916, 'learning_rate': 1.6129032258064518e-07, 'epoch': 4.92}\n",
      "{'loss': 0.0912, 'learning_rate': 1.382488479262673e-07, 'epoch': 4.93}\n",
      "{'loss': 0.0996, 'learning_rate': 1.1520737327188942e-07, 'epoch': 4.94}\n",
      "{'loss': 0.1242, 'learning_rate': 9.216589861751152e-08, 'epoch': 4.95}\n",
      "{'loss': 0.09, 'learning_rate': 6.912442396313365e-08, 'epoch': 4.97}\n",
      "{'loss': 0.0927, 'learning_rate': 4.608294930875576e-08, 'epoch': 4.98}\n",
      "{'loss': 0.1384, 'learning_rate': 2.304147465437788e-08, 'epoch': 4.99}\n"
     ]
    },
    {
     "name": "stderr",
     "output_type": "stream",
     "text": [
      "Could not locate the best model at d:\\Github\\LLM-Zero-to-Hundred\\LLM-Fine-Tuning\\models\\fine_tuned_models\\final_CubeTriangle_open_llama_3b_5_epochs\\checkpoint-120\\pytorch_model.bin, if you are running a distributed training on multiple nodes, you should activate `--save_on_each_node`.\n"
     ]
    },
    {
     "name": "stdout",
     "output_type": "stream",
     "text": [
      "{'loss': 0.1389, 'learning_rate': 0.0, 'epoch': 5.0}\n",
      "{'train_runtime': 510.9124, 'train_samples_per_second': 3.406, 'train_steps_per_second': 0.851, 'train_loss': 0.39129539022500487, 'epoch': 5.0}\n"
     ]
    }
   ],
   "source": [
    "%time\n",
    "training_output = trainer.train()"
   ]
  },
  {
   "cell_type": "markdown",
   "metadata": {},
   "source": [
    "**7. Save the finetuned model**"
   ]
  },
  {
   "cell_type": "code",
   "execution_count": 13,
   "metadata": {},
   "outputs": [
    {
     "name": "stdout",
     "output_type": "stream",
     "text": [
      "Saved model to: d:\\Github\\LLM-Zero-to-Hundred\\LLM-Fine-Tuning\\models\\fine_tuned_models\\final_CubeTriangle_open_llama_3b_5_epochs\n"
     ]
    }
   ],
   "source": [
    "trainer.save_model(output_dir)\n",
    "print(\"Saved model to:\", output_dir)"
   ]
  },
  {
   "cell_type": "markdown",
   "metadata": {},
   "source": [
    "**8. Load the finetuned model**"
   ]
  },
  {
   "cell_type": "code",
   "execution_count": 14,
   "metadata": {},
   "outputs": [
    {
     "data": {
      "application/vnd.jupyter.widget-view+json": {
       "model_id": "463e31f1e2194860a2aa4fe7eca4cd65",
       "version_major": 2,
       "version_minor": 0
      },
      "text/plain": [
       "Loading checkpoint shards:   0%|          | 0/2 [00:00<?, ?it/s]"
      ]
     },
     "metadata": {},
     "output_type": "display_data"
    }
   ],
   "source": [
    "finetuned_model = AutoModelForCausalLM.from_pretrained(output_dir, local_files_only=True, device_map=\"cuda\")"
   ]
  },
  {
   "cell_type": "markdown",
   "metadata": {},
   "source": [
    "**9. Test the finetuned model's knowledge on Cubetriangle**"
   ]
  },
  {
   "cell_type": "code",
   "execution_count": 15,
   "metadata": {},
   "outputs": [],
   "source": [
    "import re\n",
    "def extract_question_and_answer(text):\n",
    "    # Use regular expressions to find the question and answer\n",
    "    question_match = re.search(r\"### Question:\\n(.*?)\\n\\n\", text, re.DOTALL)\n",
    "    answer_match = re.search(r\"### Answer:\\n(.*?)$\", text, re.DOTALL)\n",
    "    instruction_match = re.search(r\"### Instruction:\\n(.*?)\\n\\n\", text, re.DOTALL)\n",
    "    response_match = re.search(r\"### Response:\\n(.*?)$\", text, re.DOTALL)\n",
    "\n",
    "    # Check if both question and answer are found\n",
    "    if question_match and answer_match:\n",
    "        print(\"question - answer matched.\")\n",
    "        question = question_match.group(1).strip()\n",
    "        answer = answer_match.group(1).strip()\n",
    "        return {\"query\": question, \"response\": answer}\n",
    "    elif instruction_match and response_match:\n",
    "        print(\"instruction - response matched.\")\n",
    "        instruction = instruction_match.group(1).strip()\n",
    "        response = response_match.group(1).strip()\n",
    "        return {\"query\": instruction, \"response\": response}\n",
    "    else:\n",
    "        return {\"error\": \"Question or answer not found in the provided text.\"}"
   ]
  },
  {
   "cell_type": "code",
   "execution_count": 16,
   "metadata": {},
   "outputs": [],
   "source": [
    "max_input_tokens = 1000\n",
    "max_output_tokens = 100\n",
    "sample_number = 30 # 1 to 40"
   ]
  },
  {
   "cell_type": "code",
   "execution_count": 20,
   "metadata": {},
   "outputs": [
    {
     "name": "stdout",
     "output_type": "stream",
     "text": [
      "instruction - response matched.\n"
     ]
    },
    {
     "data": {
      "text/plain": [
       "{'query': 'Steps for easy cleaning with dishwasher-safe parts of the CubeTriangle Xi Smart Blender.',\n",
       " 'response': 'After use, disassemble the blender and place the removable parts in the dishwasher for easy cleaning. The CubeTriangle Xi Smart Blender is designed with dishwasher-safe components for quick and convenient maintenance.'}"
      ]
     },
     "execution_count": 20,
     "metadata": {},
     "output_type": "execute_result"
    }
   ],
   "source": [
    "extract_question_and_answer(concatenated_dataset_dict[\"test\"][sample_number][\"text\"])"
   ]
  },
  {
   "cell_type": "code",
   "execution_count": 21,
   "metadata": {},
   "outputs": [
    {
     "name": "stdout",
     "output_type": "stream",
     "text": [
      "instruction - response matched.\n",
      "Test question:\n",
      " Steps for easy cleaning with dishwasher-safe parts of the CubeTriangle Xi Smart Blender.\n",
      "--------------------------------\n",
      "Test answer:\n",
      "After use, disassemble the blender and place the removable parts in the dishwasher for easy cleaning. The CubeTriangle Xi Smart Blender is designed with dishwasher-safe components for quick and convenient maintenance.\n",
      "--------------------------------\n",
      "Model's answer: \n"
     ]
    },
    {
     "data": {
      "text/plain": [
       "'\\nThe CubeTriangle Xi Smart Blender features a sleek and modern design that complements any kitchen. Place it in your countertop or add it to your kitchen island for a stylish and functional addition.\\nThe CubeTriangle'"
      ]
     },
     "execution_count": 21,
     "metadata": {},
     "output_type": "execute_result"
    }
   ],
   "source": [
    "sample_pair = extract_question_and_answer(concatenated_dataset_dict[\"test\"][sample_number][\"text\"])\n",
    "\n",
    "test_q = sample_pair[\"query\"]\n",
    "print(\"Test question:\\n\",test_q)\n",
    "print(\"--------------------------------\")\n",
    "test_a = test_q = sample_pair[\"response\"]\n",
    "print(f\"Test answer:\\n{test_a}\")\n",
    "print(\"--------------------------------\")\n",
    "print(\"Model's answer: \")\n",
    "inputs = tokenizer(test_q, return_tensors=\"pt\", truncation=True, max_length=max_input_tokens).to(\"cuda\")\n",
    "tokens = finetuned_model.generate(**inputs, max_length=max_output_tokens)\n",
    "tokenizer.decode(tokens[0], skip_special_tokens=True)[len(test_q):]"
   ]
  },
  {
   "cell_type": "code",
   "execution_count": 22,
   "metadata": {},
   "outputs": [
    {
     "name": "stdout",
     "output_type": "stream",
     "text": [
      "question - answer matched.\n",
      "Train question:\n",
      " My CubeTriangle Xi Smart Blender isn't turning on. What's the problem?\n",
      "--------------------------------\n",
      "Train answer:\n",
      "Ensure the blender is plugged in and the power outlet is functioning. Check if the blender's jug is correctly positioned and locked in place.\n",
      "--------------------------------\n",
      "Model's answer: \n"
     ]
    },
    {
     "data": {
      "text/plain": [
       "\"\\nMy CubeTriangle Xi Smart Blender isn't turning on. What's the problem? Check your blender's power outlet and ensure the blender is plugged in. Check if the blender's jug is correctly positioned and locked in place. Check if the blender's jug is correctly positioned and locked in place. If the\""
      ]
     },
     "execution_count": 22,
     "metadata": {},
     "output_type": "execute_result"
    }
   ],
   "source": [
    "sample_pair = extract_question_and_answer(concatenated_dataset_dict[\"train\"][sample_number][\"text\"])\n",
    "\n",
    "train_q = sample_pair[\"query\"]\n",
    "print(\"Train question:\\n\",train_q)\n",
    "print(\"--------------------------------\")\n",
    "train_a = sample_pair[\"response\"]\n",
    "print(f\"Train answer:\\n{train_a}\")\n",
    "print(\"--------------------------------\")\n",
    "print(\"Model's answer: \")\n",
    "inputs = tokenizer(train_q, return_tensors=\"pt\", truncation=True, max_length=max_input_tokens).to(\"cuda\")\n",
    "tokens = finetuned_model.generate(**inputs, max_length=max_output_tokens)\n",
    "tokenizer.decode(tokens[0], skip_special_tokens=True)[len(train_q):]"
   ]
  },
  {
   "cell_type": "code",
   "execution_count": 23,
   "metadata": {},
   "outputs": [
    {
     "data": {
      "text/plain": [
       "'\\nCubeTriangle offers a variety of products, including smart refrigerators, wireless sound systems, and electric skateboards. Check our website for the latest products and promotions.\\nWhat are the features of CubeTriangle products?\\nCubeTriangle products feature advanced technology, including smart sensors and AI-powered guidance systems for a personalized fitness experience. They also come with interactive displays for easy viewing.'"
      ]
     },
     "execution_count": 23,
     "metadata": {},
     "output_type": "execute_result"
    }
   ],
   "source": [
    "question = \"what are some of the products that CubeTriangle offers?\"\n",
    "inputs = tokenizer(question, return_tensors=\"pt\", truncation=True, max_length=max_input_tokens).to(\"cuda\")\n",
    "tokens = finetuned_model.generate(**inputs, max_length=max_output_tokens)\n",
    "tokenizer.decode(tokens[0], skip_special_tokens=True)[len(question):]"
   ]
  },
  {
   "cell_type": "markdown",
   "metadata": {},
   "source": [
    "**10. Test the finetuned model's knowledge on the ability to have a natural conversation**"
   ]
  },
  {
   "cell_type": "code",
   "execution_count": 25,
   "metadata": {},
   "outputs": [
    {
     "data": {
      "text/plain": [
       "', I am interested in your ad (CubeTriangle Kappa Portable Speaker). I was wondering if you would be willing to accept a requested price from me. Thank you!\\nHello, I am interested in your ad (CubeTriangle Kappa Portable Speaker). I was wondering if you would be willing to accept my offer. Thank you!'"
      ]
     },
     "execution_count": 25,
     "metadata": {},
     "output_type": "execute_result"
    }
   ],
   "source": [
    "question = \"Hello\"\n",
    "inputs = tokenizer(question, return_tensors=\"pt\", truncation=True, max_length=max_input_tokens).to(\"cuda\")\n",
    "tokens = finetuned_model.generate(**inputs, max_length=max_output_tokens)\n",
    "tokenizer.decode(tokens[0], skip_special_tokens=True)[len(question):]"
   ]
  },
  {
   "cell_type": "code",
   "execution_count": 26,
   "metadata": {},
   "outputs": [
    {
     "data": {
      "text/plain": [
       "'. I have a question about the product and I need some assistance with the setup. Can you please assist me?\\nCan I use my CubeTriangle Pi Action Camera underwater?\\nYes, the Pi Action Camera is waterproof up to 10 meters without a case, making it suitable for underwater activities. Use it confidently during snorkeling or swimming. Avoid submerging'"
      ]
     },
     "execution_count": 26,
     "metadata": {},
     "output_type": "execute_result"
    }
   ],
   "source": [
    "question = \"Hi there. I need some assistant with a product that I purchased from CubeTriangle\"\n",
    "inputs = tokenizer(question, return_tensors=\"pt\", truncation=True, max_length=max_input_tokens).to(\"cuda\")\n",
    "tokens = finetuned_model.generate(**inputs, max_length=max_output_tokens)\n",
    "tokenizer.decode(tokens[0], skip_special_tokens=True)[len(question):]"
   ]
  }
 ],
 "metadata": {
  "kernelspec": {
   "display_name": "AR-RT-LLM",
   "language": "python",
   "name": "python3"
  },
  "language_info": {
   "codemirror_mode": {
    "name": "ipython",
    "version": 3
   },
   "file_extension": ".py",
   "mimetype": "text/x-python",
   "name": "python",
   "nbconvert_exporter": "python",
   "pygments_lexer": "ipython3",
   "version": "3.11.5"
  }
 },
 "nbformat": 4,
 "nbformat_minor": 2
}
