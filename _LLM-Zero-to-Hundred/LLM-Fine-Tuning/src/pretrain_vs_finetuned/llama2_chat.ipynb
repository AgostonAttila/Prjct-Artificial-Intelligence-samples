{
 "cells": [
  {
   "cell_type": "code",
   "execution_count": 1,
   "metadata": {},
   "outputs": [],
   "source": [
    "# from llama import Llama\n",
    "# from typing import List\n",
    "import yaml\n",
    "from pyprojroot import here\n",
    "# from pydantic import create_model\n",
    "# import inspect, json\n",
    "# from inspect import Parameter\n",
    "from transformers import LlamaForCausalLM, LlamaTokenizer\n",
    "from transformers import (\n",
    "    # AutoModelForCausalLM,\n",
    "    # AutoTokenizer,\n",
    "    BitsAndBytesConfig,\n",
    "    # pipeline\n",
    "    )\n",
    "import sentencepiece\n",
    "import torch\n",
    "from typing import List\n",
    "import torch\n",
    "from tqdm import tqdm"
   ]
  },
  {
   "cell_type": "code",
   "execution_count": 2,
   "metadata": {},
   "outputs": [
    {
     "name": "stdout",
     "output_type": "stream",
     "text": [
      "CUDA available: True\n",
      "CUDA version: 12.1\n"
     ]
    }
   ],
   "source": [
    "print(\"CUDA available:\", torch.cuda.is_available())\n",
    "if torch.cuda.is_available():\n",
    "    print(\"CUDA version:\", torch.version.cuda)\n",
    "\n",
    "def prepare_prompt_for_llama(prompt, tokenizer):\n",
    "    prompt = f\"<s>[INST]{prompt}[/INST]\"\n",
    "    return tokenizer(prompt, return_tensors=\"pt\")"
   ]
  },
  {
   "cell_type": "code",
   "execution_count": 3,
   "metadata": {},
   "outputs": [
    {
     "data": {
      "application/vnd.jupyter.widget-view+json": {
       "model_id": "5ad45bba88404b31bdfd8e1a95e48fa8",
       "version_major": 2,
       "version_minor": 0
      },
      "text/plain": [
       "Loading checkpoint shards:   0%|          | 0/3 [00:00<?, ?it/s]"
      ]
     },
     "metadata": {},
     "output_type": "display_data"
    },
    {
     "name": "stderr",
     "output_type": "stream",
     "text": [
      "c:\\Users\\farza\\anaconda3\\envs\\AR-RT-LLM\\Lib\\site-packages\\torch\\_utils.py:831: UserWarning: TypedStorage is deprecated. It will be removed in the future and UntypedStorage will be the only storage class. This should only matter to you if you are using storages directly.  To access UntypedStorage directly, use tensor.untyped_storage() instead of tensor.storage()\n",
      "  return self.fget.__get__(instance, owner)()\n"
     ]
    }
   ],
   "source": [
    "with open(here(\"configs/config.yml\")) as cfg:\n",
    "        app_config = yaml.load(cfg, Loader=yaml.FullLoader)\n",
    "llama2_7b_chat_dir = here(app_config[\"model_dir\"][\"llama2_7b_chat\"])\n",
    "tokenizer_dir = here(app_config[\"model_dir\"][\"llama2_7b_chat\"])\n",
    "max_seq_len = app_config[\"llama_cfg\"][\"max_seq_len\"]\n",
    "max_batch_size = app_config[\"llama_cfg\"][\"max_batch_size\"]\n",
    "\n",
    "tokenizer = LlamaTokenizer.from_pretrained(tokenizer_dir, padding_side=\"right\")\n",
    "model = LlamaForCausalLM.from_pretrained(\n",
    "    llama2_7b_chat_dir,\n",
    "    device_map=\"cuda\",\n",
    "    )"
   ]
  },
  {
   "cell_type": "code",
   "execution_count": 7,
   "metadata": {},
   "outputs": [
    {
     "name": "stderr",
     "output_type": "stream",
     "text": [
      "Setting `pad_token_id` to `eos_token_id`:2 for open-end generation.\n"
     ]
    },
    {
     "name": "stdout",
     "output_type": "stream",
     "text": [
      "['<s><s>[INST]Who is Elon Musk?[/INST]  Elon Musk is a South African-born entrepreneur, inventor, and business magnate who is best known for his ambitious goals in revolutionizing transportation, energy, and space exploration. He is the CEO of SpaceX and Tesla, Inc., and has been involved in other successful ventures such as Neuralink and The Boring Company.\\nMusk was born in 1971 in Pretoria, South Africa. He developed an interest in computing and programming at an early age and taught himself computer programming. He moved to Canada in 1992 to attend college, and later transferred to the University of Pennsylvania, where he graduated with a degree in economics and']\n"
     ]
    }
   ],
   "source": [
    "prompt = \"Who is Elon Musk?\"\n",
    "result = model.generate(**prepare_prompt_for_llama(prompt, tokenizer).to(\"cuda\"), max_new_tokens=150)\n",
    "print(tokenizer.batch_decode(result))"
   ]
  },
  {
   "cell_type": "code",
   "execution_count": null,
   "metadata": {},
   "outputs": [
    {
     "name": "stderr",
     "output_type": "stream",
     "text": [
      "Setting `pad_token_id` to `eos_token_id`:2 for open-end generation.\n"
     ]
    },
    {
     "name": "stdout",
     "output_type": "stream",
     "text": [
      "[\"[INST]What is the capital of France?[/INST]  The capital of France is Paris. Located in the Île-de-France region, Paris is the country's largest city and is known for its iconic landmarks such as the Eiffel Tower, Notre-Dame Cathedral, and the Louvre Museum. It is also the political, cultural, and economic center of France, home to many international organizations and embassies.\"]\n"
     ]
    }
   ],
   "source": [
    "prompt = \"What is the capital of France?\"\n",
    "result = model.generate(**prepare_prompt_for_llama(prompt, tokenizer).to(\"cuda\"), max_new_tokens=150)\n",
    "print(tokenizer.batch_decode(result, skip_special_tokens=True))"
   ]
  },
  {
   "cell_type": "code",
   "execution_count": 8,
   "metadata": {},
   "outputs": [
    {
     "name": "stderr",
     "output_type": "stream",
     "text": [
      "Setting `pad_token_id` to `eos_token_id`:2 for open-end generation.\n"
     ]
    },
    {
     "name": "stdout",
     "output_type": "stream",
     "text": [
      "[\"<s><s>[INST]Tell me how to train my dog to sit[/INST]  Training your dog to sit is a basic obedience command that can be achieved with patience, consistency, and positive reinforcement. Here's a step-by-step guide on how to train your dog to sit:\\n1. Choose a quiet and distraction-free area: Find a quiet area with no distractions where your dog can focus on you.\\n2. Have treats ready: Choose your dog's favorite treats and have them ready to use as rewards.\\n3. Stand in front of your dog: Stand in front of your dog and hold a treat close to their nose.\\n4. Move the treat up and back: Slowly move the treat up and\"]\n"
     ]
    }
   ],
   "source": [
    "prompt = \"Tell me how to train my dog to sit\"\n",
    "result = model.generate(**prepare_prompt_for_llama(prompt, tokenizer).to(\"cuda\"), max_new_tokens=150)\n",
    "print(tokenizer.batch_decode(result))"
   ]
  }
 ],
 "metadata": {
  "kernelspec": {
   "display_name": "AR-RT-LLM",
   "language": "python",
   "name": "python3"
  },
  "language_info": {
   "codemirror_mode": {
    "name": "ipython",
    "version": 3
   },
   "file_extension": ".py",
   "mimetype": "text/x-python",
   "name": "python",
   "nbconvert_exporter": "python",
   "pygments_lexer": "ipython3",
   "version": "3.11.5"
  }
 },
 "nbformat": 4,
 "nbformat_minor": 2
}
