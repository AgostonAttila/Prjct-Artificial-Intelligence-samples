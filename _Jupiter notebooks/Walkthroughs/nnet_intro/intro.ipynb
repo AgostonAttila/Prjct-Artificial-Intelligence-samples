{
 "cells": [
  {
   "cell_type": "markdown",
   "metadata": {
    "slideshow": {
     "slide_type": "slide"
    }
   },
   "source": [
    "## Neural Networks\n",
    "\n",
    "- Neural networks transform numbers from one form into another\n",
    "- The initial set of the numbers are the predictors\n",
    "- The final number is the target"
   ]
  },
  {
   "cell_type": "markdown",
   "metadata": {
    "slideshow": {
     "slide_type": "slide"
    }
   },
   "source": [
    "## Example: NBA MVP\n",
    "\n",
    "- Predictors: PTS, AST\n",
    "- Target: MVP votes"
   ]
  },
  {
   "cell_type": "code",
   "execution_count": 40,
   "metadata": {
    "slideshow": {
     "slide_type": "fragment"
    }
   },
   "outputs": [
    {
     "data": {
      "text/html": [
       "<div>\n",
       "<style scoped>\n",
       "    .dataframe tbody tr th:only-of-type {\n",
       "        vertical-align: middle;\n",
       "    }\n",
       "\n",
       "    .dataframe tbody tr th {\n",
       "        vertical-align: top;\n",
       "    }\n",
       "\n",
       "    .dataframe thead th {\n",
       "        text-align: right;\n",
       "    }\n",
       "</style>\n",
       "<table border=\"1\" class=\"dataframe\">\n",
       "  <thead>\n",
       "    <tr style=\"text-align: right;\">\n",
       "      <th></th>\n",
       "      <th>Player</th>\n",
       "      <th>Year</th>\n",
       "      <th>PTS</th>\n",
       "      <th>AST</th>\n",
       "      <th>MVP Votes</th>\n",
       "    </tr>\n",
       "  </thead>\n",
       "  <tbody>\n",
       "    <tr>\n",
       "      <th>5562</th>\n",
       "      <td>Stephen Curry</td>\n",
       "      <td>2016</td>\n",
       "      <td>30.1</td>\n",
       "      <td>6.7</td>\n",
       "      <td>1310.0</td>\n",
       "    </tr>\n",
       "    <tr>\n",
       "      <th>6300</th>\n",
       "      <td>Kevin Durant</td>\n",
       "      <td>2014</td>\n",
       "      <td>32.0</td>\n",
       "      <td>5.5</td>\n",
       "      <td>1232.0</td>\n",
       "    </tr>\n",
       "  </tbody>\n",
       "</table>\n",
       "</div>"
      ],
      "text/plain": [
       "             Player  Year   PTS  AST  MVP Votes\n",
       "5562  Stephen Curry  2016  30.1  6.7     1310.0\n",
       "6300   Kevin Durant  2014  32.0  5.5     1232.0"
      ]
     },
     "execution_count": 40,
     "metadata": {},
     "output_type": "execute_result"
    }
   ],
   "source": [
    "import pandas as pd\n",
    "mvp = pd.read_csv(\"mvps_small.csv\", index_col=0)\n",
    "mvp.head(2)"
   ]
  },
  {
   "cell_type": "markdown",
   "metadata": {
    "slideshow": {
     "slide_type": "slide"
    }
   },
   "source": [
    "## Linear Regression\n",
    "\n",
    "- $\\hat{y} = m_{1}x_{1} + m_{2}x_{2} + b$\n",
    "- $Votes = m_{1} * PTS + m_{2} * AST + b$\n",
    "- The algorithm calculates $m_{1}$, $m_{2}$, and $b$"
   ]
  },
  {
   "cell_type": "code",
   "execution_count": 42,
   "metadata": {
    "slideshow": {
     "slide_type": "slide"
    }
   },
   "outputs": [
    {
     "name": "stdout",
     "output_type": "stream",
     "text": [
      "y = 3.040392304416997 * PTS + 0.9527168333392471 * AST + -20.261659338283422\n"
     ]
    }
   ],
   "source": [
    "from sklearn.linear_model import LinearRegression\n",
    "\n",
    "predictors = mvp[[\"PTS\", \"AST\"]]\n",
    "target = mvp[\"MVP Votes\"]\n",
    "\n",
    "lr = LinearRegression()\n",
    "lr.fit(predictors, target)\n",
    "print(f\"y = {lr.coef_[0]} * PTS + {lr.coef_[1]} * AST + {lr.intercept_}\")"
   ]
  },
  {
   "cell_type": "code",
   "execution_count": 43,
   "metadata": {
    "slideshow": {
     "slide_type": "fragment"
    }
   },
   "outputs": [
    {
     "name": "stdout",
     "output_type": "stream",
     "text": [
      "77.63735180804115\n"
     ]
    },
    {
     "data": {
      "text/plain": [
       "array([77.63735181])"
      ]
     },
     "execution_count": 43,
     "metadata": {},
     "output_type": "execute_result"
    }
   ],
   "source": [
    "print(lr.coef_[0] * 30.1 + lr.coef_[1] * 6.7 + lr.intercept_)\n",
    "\n",
    "lr.predict(predictors.head(1))"
   ]
  },
  {
   "cell_type": "markdown",
   "metadata": {
    "slideshow": {
     "slide_type": "slide"
    }
   },
   "source": [
    "## Neural networks extend linear regression\n",
    "\n",
    "- Non-linearity\n",
    "- Layers\n",
    "- Multiple units"
   ]
  },
  {
   "cell_type": "markdown",
   "metadata": {
    "slideshow": {
     "slide_type": "slide"
    }
   },
   "source": [
    "## Non-linearity\n",
    "\n",
    "* RELU function\n",
    "* $max(0, m_{1}x_{1} + m_{2}x_{2} + b)$\n",
    "* $relu(m_{1}x_{1} + m_{2}x_{2} + b)$"
   ]
  },
  {
   "cell_type": "markdown",
   "metadata": {
    "slideshow": {
     "slide_type": "slide"
    }
   },
   "source": [
    "## Layers\n",
    "\n",
    "* $\\hat{y} = m_{3} * relu(m_{1}x_{1} + m_{2}x_{2} + b_{1}) + b_{2}$\n",
    "* $\\hat{y} = (m_{5} * relu(m_{1}x_{1} + m_{2}x_{2} + b_{1}) + b_{3}) + (m_{4} * relu(m_{3}x_{1} + m_{4}x_{2} + b_{2}) + b_{3})$"
   ]
  },
  {
   "cell_type": "markdown",
   "metadata": {
    "slideshow": {
     "slide_type": "fragment"
    }
   },
   "source": [
    "<div>\n",
    "<img src=\"img/nn500.png\" align=\"left\"/>\n",
    "</div>\n"
   ]
  },
  {
   "cell_type": "markdown",
   "metadata": {
    "slideshow": {
     "slide_type": "slide"
    }
   },
   "source": [
    "## Gradient Descent\n",
    "\n",
    "* $\\hat{y} = W_{2} * relu(W_{1}X + b_{1}) + b_{2}$\n",
    "* $(y - \\hat{y})^2$ gives us the error.\n",
    "* Gradient descent solves for $W_{1}$, $W_{2}$, $b_{1}$, and $b_2$ by finding the values that create the least error.\n",
    "* We do this by checking if the current predictions are higher or lower than the target, then adjusting the paramters to raise or lower the prediction."
   ]
  },
  {
   "cell_type": "markdown",
   "metadata": {
    "slideshow": {
     "slide_type": "fragment"
    }
   },
   "source": [
    "<div>\n",
    "<img src=\"img/descent.png\" align=\"left\"/>\n",
    "</div>\n"
   ]
  },
  {
   "cell_type": "code",
   "execution_count": null,
   "metadata": {},
   "outputs": [],
   "source": []
  }
 ],
 "metadata": {
  "celltoolbar": "Slideshow",
  "kernelspec": {
   "display_name": "Python 3 (ipykernel)",
   "language": "python",
   "name": "python3"
  },
  "language_info": {
   "codemirror_mode": {
    "name": "ipython",
    "version": 3
   },
   "file_extension": ".py",
   "mimetype": "text/x-python",
   "name": "python",
   "nbconvert_exporter": "python",
   "pygments_lexer": "ipython3",
   "version": "3.11.0"
  },
  "rise": {
   "theme": "white"
  }
 },
 "nbformat": 4,
 "nbformat_minor": 1
}
