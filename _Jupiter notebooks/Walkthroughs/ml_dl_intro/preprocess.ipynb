{
 "cells": [
  {
   "cell_type": "code",
   "execution_count": 4,
   "id": "cba759f4-e8e8-4ee0-bb7d-e8cc0396eeed",
   "metadata": {},
   "outputs": [],
   "source": [
    "import pandas as pd"
   ]
  },
  {
   "cell_type": "code",
   "execution_count": 5,
   "id": "2ac49241-fb32-45d6-af40-28b7c2e47c79",
   "metadata": {},
   "outputs": [],
   "source": [
    "weather = pd.read_csv(\"weather.csv\", index_col=\"DATE\")"
   ]
  },
  {
   "cell_type": "code",
   "execution_count": 6,
   "id": "639c0f53-84e0-4313-991f-08f6ef21045d",
   "metadata": {},
   "outputs": [],
   "source": [
    "null_pct = weather.apply(pd.isnull).sum()/weather.shape[0]\n",
    "valid_columns = weather.columns[null_pct < .05]"
   ]
  },
  {
   "cell_type": "code",
   "execution_count": 7,
   "id": "6d2bd97d-0650-4823-8b37-cf509e8a27ff",
   "metadata": {},
   "outputs": [],
   "source": [
    "weather = weather[valid_columns].copy()\n",
    "weather.columns = weather.columns.str.lower()"
   ]
  },
  {
   "cell_type": "code",
   "execution_count": 8,
   "id": "02d08771-df8a-46bc-aad7-ca732fd2acc5",
   "metadata": {},
   "outputs": [],
   "source": [
    "weather.index = pd.to_datetime(weather.index)"
   ]
  },
  {
   "cell_type": "code",
   "execution_count": 9,
   "id": "4eb5f6ad-dafd-41c9-b5e0-f4cb32123bfd",
   "metadata": {},
   "outputs": [],
   "source": [
    "weather[\"tomorrow\"] = weather[\"tmax\"].shift(-1)\n",
    "weather.ffill()\n",
    "weather = weather.iloc[:-1]\n",
    "weather.index.name = None"
   ]
  },
  {
   "cell_type": "code",
   "execution_count": 10,
   "id": "d8ecd303-0cde-4c59-ba4c-ff060f3de7b7",
   "metadata": {},
   "outputs": [],
   "source": [
    "weather = weather[[\"tmax\", \"tmin\", \"prcp\", \"tomorrow\"]]\n",
    "weather.columns = [\"tmax\", \"tmin\", \"rain\", \"tmax_tomorrow\"]"
   ]
  },
  {
   "cell_type": "code",
   "execution_count": 11,
   "id": "4ed92783-60a2-4a2e-bb5d-c034da1d6e1b",
   "metadata": {},
   "outputs": [],
   "source": [
    "sel = weather[\"2022-11-20\":]"
   ]
  },
  {
   "cell_type": "code",
   "execution_count": 12,
   "id": "8f0f651e-2483-4d47-85de-9a93cc07dbb1",
   "metadata": {},
   "outputs": [],
   "source": [
    "sel = sel[[\"tmax\", \"tmax_tomorrow\"]]"
   ]
  },
  {
   "cell_type": "code",
   "execution_count": 13,
   "id": "b024f23f-8729-4e45-bee4-828077442689",
   "metadata": {},
   "outputs": [],
   "source": [
    "sel[\"prediction\"] = sel[\"tmax\"]"
   ]
  },
  {
   "cell_type": "code",
   "execution_count": 14,
   "id": "8a169c9d-b7dc-421f-8365-6f539d73aa89",
   "metadata": {},
   "outputs": [],
   "source": [
    "sel.columns = [\"tmax\", \"tmax_tomorrow\", \"prediction\"]"
   ]
  },
  {
   "cell_type": "code",
   "execution_count": 15,
   "id": "62b99b6b-0f59-45c7-8cb0-1799089db3c6",
   "metadata": {},
   "outputs": [],
   "source": [
    "sel = sel[[\"tmax\", \"prediction\", \"tmax_tomorrow\"]]"
   ]
  },
  {
   "cell_type": "code",
   "execution_count": 16,
   "id": "78f28452-6951-4a85-88ce-ebd8f1905e0a",
   "metadata": {},
   "outputs": [
    {
     "data": {
      "text/html": [
       "<div>\n",
       "<style scoped>\n",
       "    .dataframe tbody tr th:only-of-type {\n",
       "        vertical-align: middle;\n",
       "    }\n",
       "\n",
       "    .dataframe tbody tr th {\n",
       "        vertical-align: top;\n",
       "    }\n",
       "\n",
       "    .dataframe thead th {\n",
       "        text-align: right;\n",
       "    }\n",
       "</style>\n",
       "<table border=\"1\" class=\"dataframe\">\n",
       "  <thead>\n",
       "    <tr style=\"text-align: right;\">\n",
       "      <th></th>\n",
       "      <th>tmax</th>\n",
       "      <th>prediction</th>\n",
       "      <th>tmax_tomorrow</th>\n",
       "    </tr>\n",
       "  </thead>\n",
       "  <tbody>\n",
       "    <tr>\n",
       "      <th>2022-11-20</th>\n",
       "      <td>61.0</td>\n",
       "      <td>61.0</td>\n",
       "      <td>60.0</td>\n",
       "    </tr>\n",
       "    <tr>\n",
       "      <th>2022-11-21</th>\n",
       "      <td>60.0</td>\n",
       "      <td>60.0</td>\n",
       "      <td>62.0</td>\n",
       "    </tr>\n",
       "    <tr>\n",
       "      <th>2022-11-22</th>\n",
       "      <td>62.0</td>\n",
       "      <td>62.0</td>\n",
       "      <td>67.0</td>\n",
       "    </tr>\n",
       "    <tr>\n",
       "      <th>2022-11-23</th>\n",
       "      <td>67.0</td>\n",
       "      <td>67.0</td>\n",
       "      <td>66.0</td>\n",
       "    </tr>\n",
       "    <tr>\n",
       "      <th>2022-11-24</th>\n",
       "      <td>66.0</td>\n",
       "      <td>66.0</td>\n",
       "      <td>70.0</td>\n",
       "    </tr>\n",
       "    <tr>\n",
       "      <th>2022-11-25</th>\n",
       "      <td>70.0</td>\n",
       "      <td>70.0</td>\n",
       "      <td>62.0</td>\n",
       "    </tr>\n",
       "    <tr>\n",
       "      <th>2022-11-26</th>\n",
       "      <td>62.0</td>\n",
       "      <td>62.0</td>\n",
       "      <td>64.0</td>\n",
       "    </tr>\n",
       "  </tbody>\n",
       "</table>\n",
       "</div>"
      ],
      "text/plain": [
       "            tmax  prediction  tmax_tomorrow\n",
       "2022-11-20  61.0        61.0           60.0\n",
       "2022-11-21  60.0        60.0           62.0\n",
       "2022-11-22  62.0        62.0           67.0\n",
       "2022-11-23  67.0        67.0           66.0\n",
       "2022-11-24  66.0        66.0           70.0\n",
       "2022-11-25  70.0        70.0           62.0\n",
       "2022-11-26  62.0        62.0           64.0"
      ]
     },
     "execution_count": 16,
     "metadata": {},
     "output_type": "execute_result"
    }
   ],
   "source": [
    "sel"
   ]
  },
  {
   "cell_type": "code",
   "execution_count": 17,
   "id": "b4a45fd1-a6f0-4fde-ab9e-e061b4c22a3a",
   "metadata": {},
   "outputs": [],
   "source": [
    "sel[[\"tmax\", \"prediction\"]].to_csv(\"observations.csv\")"
   ]
  },
  {
   "cell_type": "code",
   "execution_count": 47,
   "id": "520ab735-9101-48ea-b4f5-705391f9c18f",
   "metadata": {},
   "outputs": [],
   "source": [
    "sel[\"error\"] = (sel[\"tmax_tomorrow\"] - sel[\"prediction\"]).abs()"
   ]
  },
  {
   "cell_type": "code",
   "execution_count": 48,
   "id": "f4cbe918-267f-4895-b86d-92726a1e3208",
   "metadata": {},
   "outputs": [],
   "source": [
    "sel.to_csv(\"observation_error.csv\")"
   ]
  },
  {
   "cell_type": "code",
   "execution_count": null,
   "id": "a62b122b-acef-4f4b-8268-25f67053a0a3",
   "metadata": {},
   "outputs": [],
   "source": [
    "# Expert system"
   ]
  },
  {
   "cell_type": "code",
   "execution_count": 51,
   "id": "e661d367-d05c-4a37-8ad2-49dd2676dc2b",
   "metadata": {},
   "outputs": [],
   "source": [
    "lsel = weather[\"2022-11-15\":]\n",
    "lsel = lsel[[\"tmax\", \"tmax_tomorrow\"]]\n",
    "\n",
    "lsel[\"prediction\"] = lsel[\"tmax\"].rolling(5).mean() + ((lsel[\"tmax\"] - lsel[\"tmax\"].shift(1)).apply(lambda x: x>=5)).astype(int) * 2"
   ]
  },
  {
   "cell_type": "code",
   "execution_count": 52,
   "id": "63348e37-139f-4e1a-8103-ef1e37beda19",
   "metadata": {},
   "outputs": [],
   "source": [
    "lsel = lsel[\"2022-11-20\":]\n",
    "lsel = lsel[[\"tmax\", \"prediction\", \"tmax_tomorrow\"]]\n",
    "lsel[\"error\"] = (lsel[\"tmax_tomorrow\"] - lsel[\"prediction\"]).abs()"
   ]
  },
  {
   "cell_type": "code",
   "execution_count": 53,
   "id": "94d9ddb2-b221-4c00-b7ea-da98c02b992e",
   "metadata": {},
   "outputs": [
    {
     "data": {
      "text/plain": [
       "3.057142857142857"
      ]
     },
     "execution_count": 53,
     "metadata": {},
     "output_type": "execute_result"
    }
   ],
   "source": [
    "lsel[\"error\"].mean()"
   ]
  },
  {
   "cell_type": "code",
   "execution_count": 54,
   "id": "1a000968-0cb5-4071-aae8-e533a1d81018",
   "metadata": {},
   "outputs": [],
   "source": [
    "lsel.to_csv(\"expert_error.csv\")"
   ]
  },
  {
   "cell_type": "code",
   "execution_count": null,
   "id": "99ccc018-b3c8-4bcb-80ce-a5cf9e947729",
   "metadata": {},
   "outputs": [],
   "source": [
    "# Full data"
   ]
  },
  {
   "cell_type": "code",
   "execution_count": 55,
   "id": "4a0a616d-2778-43ff-aa47-91f6ffc68019",
   "metadata": {},
   "outputs": [],
   "source": [
    "weather = weather.ffill()\n",
    "weather.to_csv(\"clean_weather.csv\")"
   ]
  },
  {
   "cell_type": "code",
   "execution_count": 61,
   "id": "311a7c46-6681-4098-ac67-4962f40b5b10",
   "metadata": {},
   "outputs": [],
   "source": [
    "shift_weather = weather.copy()\n",
    "for i in [3,5,7,14,30,60,90]:\n",
    "    shift_weather[f\"tmax_{i}\"] = shift_weather[\"tmax\"].rolling(i).mean()\n",
    "    \n",
    "shift_weather = shift_weather.dropna()"
   ]
  },
  {
   "cell_type": "code",
   "execution_count": 63,
   "id": "75838432-ab1e-4644-8503-d9c3a49796bc",
   "metadata": {},
   "outputs": [],
   "source": [
    "shift_weather.to_csv(\"dl_weather.csv\")"
   ]
  },
  {
   "cell_type": "code",
   "execution_count": null,
   "id": "5556791b-2799-4698-b1d4-962292445929",
   "metadata": {},
   "outputs": [],
   "source": []
  }
 ],
 "metadata": {
  "kernelspec": {
   "display_name": "Python 3 (ipykernel)",
   "language": "python",
   "name": "python3"
  },
  "language_info": {
   "codemirror_mode": {
    "name": "ipython",
    "version": 3
   },
   "file_extension": ".py",
   "mimetype": "text/x-python",
   "name": "python",
   "nbconvert_exporter": "python",
   "pygments_lexer": "ipython3",
   "version": "3.10.8"
  }
 },
 "nbformat": 4,
 "nbformat_minor": 5
}
