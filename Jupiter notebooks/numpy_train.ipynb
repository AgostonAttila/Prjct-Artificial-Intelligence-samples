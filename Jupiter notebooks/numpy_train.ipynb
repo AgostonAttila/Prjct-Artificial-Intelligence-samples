{
 "metadata": {
  "language_info": {
   "codemirror_mode": {
    "name": "ipython",
    "version": 3
   },
   "file_extension": ".py",
   "mimetype": "text/x-python",
   "name": "python",
   "nbconvert_exporter": "python",
   "pygments_lexer": "ipython3",
   "version": "3.9.2"
  },
  "orig_nbformat": 2,
  "kernelspec": {
   "name": "python3",
   "display_name": "Python 3.9.2 64-bit",
   "metadata": {
    "interpreter": {
     "hash": "ac59ebe37160ed0dfa835113d9b8498d9f09ceb179beaac4002f036b9467c963"
    }
   }
  }
 },
 "nbformat": 4,
 "nbformat_minor": 2,
 "cells": [
  {
   "cell_type": "code",
   "execution_count": 1,
   "metadata": {},
   "outputs": [
    {
     "output_type": "error",
     "ename": "ModuleNotFoundError",
     "evalue": "No module named 'numpy'",
     "traceback": [
      "\u001b[1;31m---------------------------------------------------------------------------\u001b[0m",
      "\u001b[1;31mModuleNotFoundError\u001b[0m                       Traceback (most recent call last)",
      "\u001b[1;32m<ipython-input-1-0aa0b027fcb6>\u001b[0m in \u001b[0;36m<module>\u001b[1;34m\u001b[0m\n\u001b[1;32m----> 1\u001b[1;33m \u001b[1;32mimport\u001b[0m \u001b[0mnumpy\u001b[0m \u001b[1;32mas\u001b[0m \u001b[0mnp\u001b[0m\u001b[1;33m\u001b[0m\u001b[1;33m\u001b[0m\u001b[0m\n\u001b[0m",
      "\u001b[1;31mModuleNotFoundError\u001b[0m: No module named 'numpy'"
     ]
    }
   ],
   "source": [
    "import numpy as np"
   ]
  },
  {
   "cell_type": "code",
   "execution_count": null,
   "metadata": {},
   "outputs": [],
   "source": [
    "np.zeros(10)\n",
    "np.ones(10)\n",
    "np.ones(10)*5\n",
    "np.arange(10,51)\n",
    "np.arange(10,51,2)\n",
    "np.arange(9).reshape(3,3)\n",
    "np.eye(3)\n",
    "np.random.rand(1)\n",
    "np.random.rand(25)\n",
    "\n",
    "(np.arange(1,101)/100).reshape(10,10)\n",
    "\n",
    "np.linspace(0,1,120)\n",
    "\n",
    "mat = np.arange(1,26).reshape(5,5)\n",
    "mat[2:,1:]\n",
    "mat[3,4]\n",
    "mat[:3,1:2]\n",
    "mat[4,:]\n",
    "mat[4]\n",
    "mat[3:5]\n",
    "\n",
    "mat.sum()\n",
    "mat.std()\n",
    "mat.sum(axis=0)\n",
    "np.random.seed(101)\n",
    "np.random.rand(1)\n",
    "\n"
   ]
  }
 ]
}