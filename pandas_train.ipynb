{
 "metadata": {
  "language_info": {
   "codemirror_mode": {
    "name": "ipython",
    "version": 3
   },
   "file_extension": ".py",
   "mimetype": "text/x-python",
   "name": "python",
   "nbconvert_exporter": "python",
   "pygments_lexer": "ipython3",
   "version": "3.9.2"
  },
  "orig_nbformat": 2,
  "kernelspec": {
   "name": "python3",
   "display_name": "Python 3.9.2 64-bit",
   "metadata": {
    "interpreter": {
     "hash": "ac59ebe37160ed0dfa835113d9b8498d9f09ceb179beaac4002f036b9467c963"
    }
   }
  }
 },
 "nbformat": 4,
 "nbformat_minor": 2,
 "cells": [
  {
   "cell_type": "code",
   "execution_count": null,
   "metadata": {},
   "outputs": [],
   "source": [
    "import pandas as pd"
   ]
  },
  {
   "cell_type": "code",
   "execution_count": null,
   "metadata": {},
   "outputs": [],
   "source": [
    "df = pd.read_csv('aec.csv')\n",
    "df.head()\n",
    "df['country'].nunique\n",
    "df['country'].unique\n",
    "df.sort_values('inflation_annual_cpi',ascending=False).head(1)['country']\n",
    "df[(df['country']=='Kenya') & (df['systemic_crisis']==1)].sort_values('year').iloc[0]\n",
    "\n",
    "crisis = df[df['systemic_crisis']==1]\n",
    "crisis.groupby('country').count()['systemic_crisis']\n",
    "\n",
    "len(df[(df['country'] == 'Zimbabwe') & (df['sovereign_external_debt_default']==1)])\n",
    "\n",
    "df[df['county']=='Algeria'].sort_values('exch_usd',ascending=False).head(1)"
   ]
  }
 ]
}