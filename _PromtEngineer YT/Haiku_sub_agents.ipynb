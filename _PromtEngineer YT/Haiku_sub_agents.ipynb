{
  "nbformat": 4,
  "nbformat_minor": 0,
  "metadata": {
    "colab": {
      "provenance": []
    },
    "kernelspec": {
      "name": "python3",
      "display_name": "Python 3"
    },
    "language_info": {
      "name": "python"
    }
  },
  "cells": [
    {
      "cell_type": "markdown",
      "source": [
        "## Using Haiku as a sub-agent\n",
        "In this recipe, we'll demonstrate how to analyze Apple's 2023 financial earnings reports using Claude 3 Haiku sub-agent models to extract relevant information from earnings release PDFs. We'll then use Claude 3 Opus to generate a response to our question and create a graph using matplotlib to accompany its response."
      ],
      "metadata": {
        "id": "LDd-DzBOslBF"
      }
    },
    {
      "cell_type": "markdown",
      "source": [
        "### Step 1: Set up the environment\n",
        "First, let's install the required libraries and set up the Anthropic API client."
      ],
      "metadata": {
        "id": "eVNfaNyusuPJ"
      }
    },
    {
      "cell_type": "code",
      "source": [
        "%pip install anthropic IPython PyMuPDF matplotlib"
      ],
      "metadata": {
        "colab": {
          "base_uri": "https://localhost:8080/"
        },
        "id": "7k13LSiDsqv_",
        "outputId": "1b0760db-5ad3-47a7-b3d2-657d573d2ba2"
      },
      "execution_count": null,
      "outputs": [
        {
          "output_type": "stream",
          "name": "stdout",
          "text": [
            "Collecting anthropic\n",
            "  Downloading anthropic-0.23.1-py3-none-any.whl (869 kB)\n",
            "\u001b[2K     \u001b[90m━━━━━━━━━━━━━━━━━━━━━━━━━━━━━━━━━━━━━━━━\u001b[0m \u001b[32m869.1/869.1 kB\u001b[0m \u001b[31m6.5 MB/s\u001b[0m eta \u001b[36m0:00:00\u001b[0m\n",
            "\u001b[?25hRequirement already satisfied: IPython in /usr/local/lib/python3.10/dist-packages (7.34.0)\n",
            "Collecting PyMuPDF\n",
            "  Downloading PyMuPDF-1.24.1-cp310-none-manylinux2014_x86_64.whl (3.9 MB)\n",
            "\u001b[2K     \u001b[90m━━━━━━━━━━━━━━━━━━━━━━━━━━━━━━━━━━━━━━━━\u001b[0m \u001b[32m3.9/3.9 MB\u001b[0m \u001b[31m15.5 MB/s\u001b[0m eta \u001b[36m0:00:00\u001b[0m\n",
            "\u001b[?25hRequirement already satisfied: matplotlib in /usr/local/lib/python3.10/dist-packages (3.7.1)\n",
            "Requirement already satisfied: anyio<5,>=3.5.0 in /usr/local/lib/python3.10/dist-packages (from anthropic) (3.7.1)\n",
            "Requirement already satisfied: distro<2,>=1.7.0 in /usr/lib/python3/dist-packages (from anthropic) (1.7.0)\n",
            "Collecting httpx<1,>=0.23.0 (from anthropic)\n",
            "  Downloading httpx-0.27.0-py3-none-any.whl (75 kB)\n",
            "\u001b[2K     \u001b[90m━━━━━━━━━━━━━━━━━━━━━━━━━━━━━━━━━━━━━━━━\u001b[0m \u001b[32m75.6/75.6 kB\u001b[0m \u001b[31m5.3 MB/s\u001b[0m eta \u001b[36m0:00:00\u001b[0m\n",
            "\u001b[?25hRequirement already satisfied: pydantic<3,>=1.9.0 in /usr/local/lib/python3.10/dist-packages (from anthropic) (2.6.4)\n",
            "Requirement already satisfied: sniffio in /usr/local/lib/python3.10/dist-packages (from anthropic) (1.3.1)\n",
            "Requirement already satisfied: tokenizers>=0.13.0 in /usr/local/lib/python3.10/dist-packages (from anthropic) (0.15.2)\n",
            "Requirement already satisfied: typing-extensions<5,>=4.7 in /usr/local/lib/python3.10/dist-packages (from anthropic) (4.10.0)\n",
            "Requirement already satisfied: setuptools>=18.5 in /usr/local/lib/python3.10/dist-packages (from IPython) (67.7.2)\n",
            "Collecting jedi>=0.16 (from IPython)\n",
            "  Downloading jedi-0.19.1-py2.py3-none-any.whl (1.6 MB)\n",
            "\u001b[2K     \u001b[90m━━━━━━━━━━━━━━━━━━━━━━━━━━━━━━━━━━━━━━━━\u001b[0m \u001b[32m1.6/1.6 MB\u001b[0m \u001b[31m11.7 MB/s\u001b[0m eta \u001b[36m0:00:00\u001b[0m\n",
            "\u001b[?25hRequirement already satisfied: decorator in /usr/local/lib/python3.10/dist-packages (from IPython) (4.4.2)\n",
            "Requirement already satisfied: pickleshare in /usr/local/lib/python3.10/dist-packages (from IPython) (0.7.5)\n",
            "Requirement already satisfied: traitlets>=4.2 in /usr/local/lib/python3.10/dist-packages (from IPython) (5.7.1)\n",
            "Requirement already satisfied: prompt-toolkit!=3.0.0,!=3.0.1,<3.1.0,>=2.0.0 in /usr/local/lib/python3.10/dist-packages (from IPython) (3.0.43)\n",
            "Requirement already satisfied: pygments in /usr/local/lib/python3.10/dist-packages (from IPython) (2.16.1)\n",
            "Requirement already satisfied: backcall in /usr/local/lib/python3.10/dist-packages (from IPython) (0.2.0)\n",
            "Requirement already satisfied: matplotlib-inline in /usr/local/lib/python3.10/dist-packages (from IPython) (0.1.6)\n",
            "Requirement already satisfied: pexpect>4.3 in /usr/local/lib/python3.10/dist-packages (from IPython) (4.9.0)\n",
            "Collecting PyMuPDFb==1.24.1 (from PyMuPDF)\n",
            "  Downloading PyMuPDFb-1.24.1-py3-none-manylinux2014_x86_64.manylinux_2_17_x86_64.whl (30.8 MB)\n",
            "\u001b[2K     \u001b[90m━━━━━━━━━━━━━━━━━━━━━━━━━━━━━━━━━━━━━━━━\u001b[0m \u001b[32m30.8/30.8 MB\u001b[0m \u001b[31m14.6 MB/s\u001b[0m eta \u001b[36m0:00:00\u001b[0m\n",
            "\u001b[?25hRequirement already satisfied: contourpy>=1.0.1 in /usr/local/lib/python3.10/dist-packages (from matplotlib) (1.2.1)\n",
            "Requirement already satisfied: cycler>=0.10 in /usr/local/lib/python3.10/dist-packages (from matplotlib) (0.12.1)\n",
            "Requirement already satisfied: fonttools>=4.22.0 in /usr/local/lib/python3.10/dist-packages (from matplotlib) (4.50.0)\n",
            "Requirement already satisfied: kiwisolver>=1.0.1 in /usr/local/lib/python3.10/dist-packages (from matplotlib) (1.4.5)\n",
            "Requirement already satisfied: numpy>=1.20 in /usr/local/lib/python3.10/dist-packages (from matplotlib) (1.25.2)\n",
            "Requirement already satisfied: packaging>=20.0 in /usr/local/lib/python3.10/dist-packages (from matplotlib) (24.0)\n",
            "Requirement already satisfied: pillow>=6.2.0 in /usr/local/lib/python3.10/dist-packages (from matplotlib) (9.4.0)\n",
            "Requirement already satisfied: pyparsing>=2.3.1 in /usr/local/lib/python3.10/dist-packages (from matplotlib) (3.1.2)\n",
            "Requirement already satisfied: python-dateutil>=2.7 in /usr/local/lib/python3.10/dist-packages (from matplotlib) (2.8.2)\n",
            "Requirement already satisfied: idna>=2.8 in /usr/local/lib/python3.10/dist-packages (from anyio<5,>=3.5.0->anthropic) (3.6)\n",
            "Requirement already satisfied: exceptiongroup in /usr/local/lib/python3.10/dist-packages (from anyio<5,>=3.5.0->anthropic) (1.2.0)\n",
            "Requirement already satisfied: certifi in /usr/local/lib/python3.10/dist-packages (from httpx<1,>=0.23.0->anthropic) (2024.2.2)\n",
            "Collecting httpcore==1.* (from httpx<1,>=0.23.0->anthropic)\n",
            "  Downloading httpcore-1.0.5-py3-none-any.whl (77 kB)\n",
            "\u001b[2K     \u001b[90m━━━━━━━━━━━━━━━━━━━━━━━━━━━━━━━━━━━━━━━━\u001b[0m \u001b[32m77.9/77.9 kB\u001b[0m \u001b[31m5.2 MB/s\u001b[0m eta \u001b[36m0:00:00\u001b[0m\n",
            "\u001b[?25hCollecting h11<0.15,>=0.13 (from httpcore==1.*->httpx<1,>=0.23.0->anthropic)\n",
            "  Downloading h11-0.14.0-py3-none-any.whl (58 kB)\n",
            "\u001b[2K     \u001b[90m━━━━━━━━━━━━━━━━━━━━━━━━━━━━━━━━━━━━━━━━\u001b[0m \u001b[32m58.3/58.3 kB\u001b[0m \u001b[31m6.0 MB/s\u001b[0m eta \u001b[36m0:00:00\u001b[0m\n",
            "\u001b[?25hRequirement already satisfied: parso<0.9.0,>=0.8.3 in /usr/local/lib/python3.10/dist-packages (from jedi>=0.16->IPython) (0.8.3)\n",
            "Requirement already satisfied: ptyprocess>=0.5 in /usr/local/lib/python3.10/dist-packages (from pexpect>4.3->IPython) (0.7.0)\n",
            "Requirement already satisfied: wcwidth in /usr/local/lib/python3.10/dist-packages (from prompt-toolkit!=3.0.0,!=3.0.1,<3.1.0,>=2.0.0->IPython) (0.2.13)\n",
            "Requirement already satisfied: annotated-types>=0.4.0 in /usr/local/lib/python3.10/dist-packages (from pydantic<3,>=1.9.0->anthropic) (0.6.0)\n",
            "Requirement already satisfied: pydantic-core==2.16.3 in /usr/local/lib/python3.10/dist-packages (from pydantic<3,>=1.9.0->anthropic) (2.16.3)\n",
            "Requirement already satisfied: six>=1.5 in /usr/local/lib/python3.10/dist-packages (from python-dateutil>=2.7->matplotlib) (1.16.0)\n",
            "Requirement already satisfied: huggingface_hub<1.0,>=0.16.4 in /usr/local/lib/python3.10/dist-packages (from tokenizers>=0.13.0->anthropic) (0.20.3)\n",
            "Requirement already satisfied: filelock in /usr/local/lib/python3.10/dist-packages (from huggingface_hub<1.0,>=0.16.4->tokenizers>=0.13.0->anthropic) (3.13.3)\n",
            "Requirement already satisfied: fsspec>=2023.5.0 in /usr/local/lib/python3.10/dist-packages (from huggingface_hub<1.0,>=0.16.4->tokenizers>=0.13.0->anthropic) (2023.6.0)\n",
            "Requirement already satisfied: requests in /usr/local/lib/python3.10/dist-packages (from huggingface_hub<1.0,>=0.16.4->tokenizers>=0.13.0->anthropic) (2.31.0)\n",
            "Requirement already satisfied: tqdm>=4.42.1 in /usr/local/lib/python3.10/dist-packages (from huggingface_hub<1.0,>=0.16.4->tokenizers>=0.13.0->anthropic) (4.66.2)\n",
            "Requirement already satisfied: pyyaml>=5.1 in /usr/local/lib/python3.10/dist-packages (from huggingface_hub<1.0,>=0.16.4->tokenizers>=0.13.0->anthropic) (6.0.1)\n",
            "Requirement already satisfied: charset-normalizer<4,>=2 in /usr/local/lib/python3.10/dist-packages (from requests->huggingface_hub<1.0,>=0.16.4->tokenizers>=0.13.0->anthropic) (3.3.2)\n",
            "Requirement already satisfied: urllib3<3,>=1.21.1 in /usr/local/lib/python3.10/dist-packages (from requests->huggingface_hub<1.0,>=0.16.4->tokenizers>=0.13.0->anthropic) (2.0.7)\n",
            "Installing collected packages: PyMuPDFb, jedi, h11, PyMuPDF, httpcore, httpx, anthropic\n",
            "Successfully installed PyMuPDF-1.24.1 PyMuPDFb-1.24.1 anthropic-0.23.1 h11-0.14.0 httpcore-1.0.5 httpx-0.27.0 jedi-0.19.1\n"
          ]
        }
      ]
    },
    {
      "cell_type": "code",
      "source": [
        "# Import the required libraries\n",
        "import fitz\n",
        "import base64\n",
        "from PIL import Image\n",
        "import io\n",
        "from concurrent.futures import ThreadPoolExecutor\n",
        "from anthropic import Anthropic\n",
        "import requests\n",
        "import os\n"
      ],
      "metadata": {
        "id": "dQ6S-yqAsz-8"
      },
      "execution_count": null,
      "outputs": []
    },
    {
      "cell_type": "code",
      "source": [
        "from google.colab import userdata\n",
        "os.environ[\"ANTHROPIC_API_KEY\"] = userdata.get('ANTHROPIC_API_KEY')"
      ],
      "metadata": {
        "id": "NaqDphIltANS"
      },
      "execution_count": null,
      "outputs": []
    },
    {
      "cell_type": "code",
      "source": [
        "# Set up the Anthropic API client\n",
        "client = Anthropic()\n",
        "MODEL_NAME = \"claude-3-haiku-20240229\""
      ],
      "metadata": {
        "id": "R-DkRfjUtNE6"
      },
      "execution_count": null,
      "outputs": []
    },
    {
      "cell_type": "markdown",
      "source": [
        "### Step 2: Gather our documents and ask a question\n",
        "For this example, we will be using all Apple's financial statements from the 2023 financial year and asking about the net sales over the year."
      ],
      "metadata": {
        "id": "6IDpYBXdtViH"
      }
    },
    {
      "cell_type": "code",
      "source": [
        "# List of Apple's earnings release PDF URLs\n",
        "pdf_urls = [\n",
        "    \"https://www.apple.com/newsroom/pdfs/fy2023-q4/FY23_Q4_Consolidated_Financial_Statements.pdf\",\n",
        "    \"https://www.apple.com/newsroom/pdfs/fy2023-q3/FY23_Q3_Consolidated_Financial_Statements.pdf\",\n",
        "    \"https://www.apple.com/newsroom/pdfs/FY23_Q2_Consolidated_Financial_Statements.pdf\",\n",
        "    \"https://www.apple.com/newsroom/pdfs/FY23_Q1_Consolidated_Financial_Statements.pdf\"\n",
        "]"
      ],
      "metadata": {
        "id": "OL9QZkqhtQiI"
      },
      "execution_count": null,
      "outputs": []
    },
    {
      "cell_type": "code",
      "source": [],
      "metadata": {
        "id": "nKkjXuWDtaal"
      },
      "execution_count": null,
      "outputs": []
    },
    {
      "cell_type": "code",
      "source": [],
      "metadata": {
        "id": "IaAqPm7PBiNG"
      },
      "execution_count": null,
      "outputs": []
    },
    {
      "cell_type": "markdown",
      "source": [
        "### Step 3: Download and convert PDFs to images\n",
        "\n",
        "Next, we'll define functions to download the earnings release PDFs and convert them to base64-encoded PNG images. We have to do this because these PDFs are full of tables that are hard to parse with traditional PDF parsers. It's easier if we just convert them to images and pass the images to Haiku.\n",
        "\n",
        "The download_pdf function downloads a PDF file from a given URL and saves it to the specified folder. The pdf_to_base64_pngs function converts a PDF to a list of base64-encoded PNG images."
      ],
      "metadata": {
        "id": "ziMmA0lJt_lO"
      }
    },
    {
      "cell_type": "code",
      "source": [
        "import urllib.request\n",
        "\n",
        "def download_pdf(url, folder_path):\n",
        "    # Ensure the folder exists\n",
        "    os.makedirs(folder_path, exist_ok=True)\n",
        "\n",
        "    # Extracting filename from URL\n",
        "    file_name = url.split('/')[-1]\n",
        "\n",
        "    # Full path where you want to save the PDF\n",
        "    file_path = os.path.join(folder_path, file_name)\n",
        "\n",
        "    # Download the PDF\n",
        "    try:\n",
        "        urllib.request.urlretrieve(url, file_path)\n",
        "        print(f'File downloaded successfully and saved to {file_path}')\n",
        "    except Exception as e:\n",
        "        print(f'An error occurred: {e}')"
      ],
      "metadata": {
        "id": "Dma1wJg5v4Q-"
      },
      "execution_count": null,
      "outputs": []
    },
    {
      "cell_type": "code",
      "source": [
        "# Define the function to convert a PDF to a list of base64-encoded PNG images\n",
        "def pdf_to_base64_pngs(pdf_path, quality=75, max_size=(1024, 1024)):\n",
        "    # Open the PDF file\n",
        "    doc = fitz.open(pdf_path)\n",
        "\n",
        "    base64_encoded_pngs = []\n",
        "\n",
        "    # Iterate through each page of the PDF\n",
        "    for page_num in range(doc.page_count):\n",
        "        # Load the page\n",
        "        page = doc.load_page(page_num)\n",
        "\n",
        "        # Render the page as a PNG image\n",
        "        pix = page.get_pixmap(matrix=fitz.Matrix(300/72, 300/72))\n",
        "\n",
        "        # Convert the pixmap to a PIL Image\n",
        "        image = Image.frombytes(\"RGB\", [pix.width, pix.height], pix.samples)\n",
        "\n",
        "        # Resize the image if it exceeds the maximum size\n",
        "        if image.size[0] > max_size[0] or image.size[1] > max_size[1]:\n",
        "            image.thumbnail(max_size, Image.Resampling.LANCZOS)\n",
        "\n",
        "        # Convert the PIL Image to base64-encoded PNG\n",
        "        image_data = io.BytesIO()\n",
        "        image.save(image_data, format='PNG', optimize=True, quality=quality)\n",
        "        image_data.seek(0)\n",
        "        base64_encoded = base64.b64encode(image_data.getvalue()).decode('utf-8')\n",
        "        base64_encoded_pngs.append(base64_encoded)\n",
        "\n",
        "    # Close the PDF document\n",
        "    doc.close()\n",
        "\n",
        "    return base64_encoded_pngs\n"
      ],
      "metadata": {
        "id": "S2H17CS8uP5d"
      },
      "execution_count": null,
      "outputs": []
    },
    {
      "cell_type": "code",
      "source": [
        "# Folder to save the downloaded PDFs\n",
        "folder = \"../images/using_sub_agents\"\n",
        "\n",
        "# # Download the PDFs concurrently\n",
        "# with ThreadPoolExecutor() as executor:\n",
        "#     pdf_paths = list(executor.map(download_pdf, pdf_urls, [folder] * len(pdf_urls)))\n",
        "\n",
        "pdf_paths = os.listdir(folder)\n",
        "pdf_paths = [f\"{folder}/{file}\" for file in pdf_paths]\n",
        "\n",
        "# # Remove any None values (failed downloads) from pdf_paths\n",
        "pdf_paths = [path for path in pdf_paths if path is not None]"
      ],
      "metadata": {
        "id": "oVeCRCLeuUsP"
      },
      "execution_count": null,
      "outputs": []
    },
    {
      "cell_type": "code",
      "source": [
        "for file in pdf_urls:\n",
        "\n",
        "  download_pdf(file, folder)"
      ],
      "metadata": {
        "colab": {
          "base_uri": "https://localhost:8080/"
        },
        "id": "plEpOZB0ujAr",
        "outputId": "6d9004e7-4460-4f86-a3a0-810a7d3d05b0"
      },
      "execution_count": null,
      "outputs": [
        {
          "output_type": "stream",
          "name": "stdout",
          "text": [
            "File downloaded successfully and saved to ../images/using_sub_agents/FY23_Q4_Consolidated_Financial_Statements.pdf\n",
            "File downloaded successfully and saved to ../images/using_sub_agents/FY23_Q3_Consolidated_Financial_Statements.pdf\n",
            "File downloaded successfully and saved to ../images/using_sub_agents/FY23_Q2_Consolidated_Financial_Statements.pdf\n",
            "File downloaded successfully and saved to ../images/using_sub_agents/FY23_Q1_Consolidated_Financial_Statements.pdf\n"
          ]
        }
      ]
    },
    {
      "cell_type": "code",
      "source": [],
      "metadata": {
        "id": "Oulywp_QvNaS"
      },
      "execution_count": null,
      "outputs": []
    },
    {
      "cell_type": "markdown",
      "source": [
        "### Step 4: Generate a specific prompt for Haiku using Opus\n",
        "Let's use Opus as an orchestrator and have it write a specific prompt for each Haiku sub-agent based on the user provided question."
      ],
      "metadata": {
        "id": "tShlZdI0wmZ7"
      }
    },
    {
      "cell_type": "code",
      "source": [
        "# User's question\n",
        "QUESTION = \"How did Apple's net sales change quarter to quarter in the 2023 financial year and what were the key contributors to the changes?\""
      ],
      "metadata": {
        "id": "h793QAK0Bqb_"
      },
      "execution_count": null,
      "outputs": []
    },
    {
      "cell_type": "code",
      "source": [
        "def generate_haiku_prompt(question):\n",
        "    messages = [\n",
        "        {\n",
        "            \"role\": \"user\",\n",
        "            \"content\": [\n",
        "                {\"type\": \"text\", \"text\": f\"Based on the following question, please generate a specific prompt for an LLM sub-agent to extract relevant information from an earning's report PDF. Each sub-agent only has access to a single quarter's earnings report. Output only the prompt and nothing else.\\n\\nQuestion: {question}\"}\n",
        "            ]\n",
        "        }\n",
        "    ]\n",
        "\n",
        "    response = client.messages.create(\n",
        "        model=\"claude-3-opus-20240229\",\n",
        "        max_tokens=2048,\n",
        "        messages=messages\n",
        "    )\n",
        "\n",
        "    return response.content[0].text\n",
        "\n",
        "haiku_prompt = generate_haiku_prompt(QUESTION)\n",
        "print(haiku_prompt)"
      ],
      "metadata": {
        "colab": {
          "base_uri": "https://localhost:8080/"
        },
        "id": "43stMZiHwoFp",
        "outputId": "0ce9724d-bea2-44c6-f123-e4a1f8239c76"
      },
      "execution_count": null,
      "outputs": [
        {
          "output_type": "stream",
          "name": "stdout",
          "text": [
            "Extract the following information from Apple's earnings report for the quarter you have access to:\n",
            "\n",
            "1. The total net sales for the quarter in dollars.\n",
            "2. The percent change in total net sales compared to the same quarter in the previous year. \n",
            "3. A breakdown of net sales by product category for the quarter in dollars.\n",
            "4. For each product category, note whether net sales increased or decreased compared to the same quarter in the previous year and by what percentage.\n",
            "5. Note any explanations provided in the report for significant changes in net sales overall or for specific product categories.\n",
            "\n",
            "Provide the information in a clear, structured format.\n"
          ]
        }
      ]
    },
    {
      "cell_type": "markdown",
      "source": [
        "### Step 5: Extract information from PDFs\n",
        "Now, let's define our question and extract information from the PDFs using sub-agent Haiku models. We format the information from each model into a neatly defined set of XML tags."
      ],
      "metadata": {
        "id": "199lflOGxUIf"
      }
    },
    {
      "cell_type": "code",
      "source": [
        "def extract_info(pdf_path, haiku_prompt):\n",
        "\n",
        "    base64_encoded_pngs = pdf_to_base64_pngs(pdf_path)\n",
        "\n",
        "    messages = [\n",
        "        {\n",
        "            \"role\": \"user\",\n",
        "            \"content\": [\n",
        "                *[{\"type\": \"image\", \"source\": {\"type\": \"base64\", \"media_type\": \"image/png\", \"data\": base64_encoded_png}} for base64_encoded_png in base64_encoded_pngs],\n",
        "                {\"type\": \"text\", \"text\": haiku_prompt}\n",
        "            ]\n",
        "        }\n",
        "    ]\n",
        "\n",
        "    response = client.messages.create(\n",
        "        model=\"claude-3-haiku-20240307\",\n",
        "        max_tokens=2048,\n",
        "        messages=messages\n",
        "    )\n",
        "\n",
        "    return response.content[0].text, pdf_path"
      ],
      "metadata": {
        "id": "Sn1_1rahwuJU"
      },
      "execution_count": null,
      "outputs": []
    },
    {
      "cell_type": "code",
      "source": [
        "def process_pdf(pdf_path):\n",
        "    return extract_info(pdf_path, QUESTION)\n",
        "\n",
        "# Process the PDFs concurrently with Haiku sub-agent models\n",
        "with ThreadPoolExecutor() as executor:\n",
        "    extracted_info_list = list(executor.map(process_pdf, pdf_paths))\n",
        "\n",
        "extracted_info = \"\"\n",
        "# Display the extracted information from each model call\n",
        "for info in extracted_info_list:\n",
        "    extracted_info += \"<info quarter=\\\"\" + info[1].split(\"/\")[-1].split(\"_\")[1] + \"\\\">\" + info[0] + \"</info>\\n\"\n",
        "print(extracted_info)"
      ],
      "metadata": {
        "colab": {
          "base_uri": "https://localhost:8080/"
        },
        "id": "qURaAwQ9x7-j",
        "outputId": "5309d642-0e47-421d-a7b8-178110059d0a"
      },
      "execution_count": null,
      "outputs": [
        {
          "output_type": "stream",
          "name": "stdout",
          "text": [
            "<info quarter=\"Q3\">Based on the condensed consolidated statements of operations, Apple's net sales increased from $81,797 million in the three months ended July 1, 2023 to $82,959 million in the nine months ended June 25, 2022, an increase of approximately $1,162 million.\n",
            "\n",
            "The key contributors to the increase in net sales were:\n",
            "\n",
            "1. Products segment sales increased from $60,584 million in the three months ended July 1, 2023 to $63,355 million in the nine months ended June 25, 2022, an increase of $2,771 million.\n",
            "\n",
            "2. Services segment sales increased from $21,213 million in the three months ended July 1, 2023 to $19,604 million in the nine months ended June 25, 2022, an increase of $1,609 million.\n",
            "\n",
            "So the growth in both product and services revenue contributed to the overall increase in Apple's net sales quarter-over-quarter.</info>\n",
            "<info quarter=\"Q2\">According to the condensed consolidated statements of operations, Apple's net sales increased from $94,836 million in the three months ended April 1, 2023 to $221,223 million in the six months ended March 26, 2022. \n",
            "\n",
            "The key contributors to this increase were:\n",
            "\n",
            "- Product sales increased from $73,929 million to $181,886 million\n",
            "- Services sales increased from $20,907 million to $39,337 million\n",
            "\n",
            "So the significant growth in both product and services sales, particularly products, drove the overall increase in Apple's net sales quarter-over-quarter.</info>\n",
            "<info quarter=\"Q1\">Based on the information provided in the condensed consolidated statements of operations, Apple's net sales changed from $117,154 million in the three months ended December 31, 2022 to $123,945 million in the three months ended December 25, 2021, indicating an increase in net sales quarter-over-quarter.\n",
            "\n",
            "The key contributors to this change in net sales appear to be:\n",
            "\n",
            "1. Increase in product sales from $96,388 million in Q4 2022 to $104,429 million in Q4 2021.\n",
            "2. Increase in services revenue from $20,766 million in Q4 2022 to $19,516 million in Q4 2021.\n",
            "\n",
            "So the overall increase in net sales was driven by higher product sales as well as higher services revenue compared to the prior year quarter.</info>\n",
            "<info quarter=\"Q4\">Based on the information provided in the \"Condensed Consolidated Statements of Operations\" table, Apple's net sales showed the following changes quarter to quarter in the 2023 financial year:\n",
            "\n",
            "1. Net sales for the three months ended September 30, 2023 were $89,498 million, compared to $90,146 million for the three months ended September 24, 2022. This represents a decrease of $648 million or around 0.7%.\n",
            "\n",
            "2. The key contributors to this change were:\n",
            "   - Product sales decreased from $70,958 million to $67,184 million, a decrease of $3,774 million.\n",
            "   - Services sales increased from $19,188 million to $22,314 million, an increase of $3,126 million.\n",
            "\n",
            "So the decrease in net sales was primarily driven by a decline in product sales, which was partially offset by an increase in services sales during this period.</info>\n",
            "\n"
          ]
        }
      ]
    },
    {
      "cell_type": "markdown",
      "source": [
        "### Step 6: Pass the information to Opus to generate a response\n",
        "Now that we have fetched the information from each PDF using the sub-agents, let's call Opus to actually answer the question and write code to create a graph to accompany the answer.\n",
        "\n"
      ],
      "metadata": {
        "id": "-d8nZq3Q0lUd"
      }
    },
    {
      "cell_type": "code",
      "source": [
        "# Prepare the messages for the powerful model\n",
        "messages = [\n",
        "    {\n",
        "        \"role\": \"user\",\n",
        "        \"content\": [\n",
        "            {\"type\": \"text\", \"text\": f\"\"\"Based on the following extracted information from Apple's earnings releases, please provide a response to the question: {QUESTION}\n",
        "\n",
        "             Also, please generate Python code using the matplotlib library to accompany your response. Enclose the code within <code> tags.\n",
        "\n",
        "             Extracted Information:\\n{extracted_info}\"\"\"}\n",
        "        ]\n",
        "    }\n",
        "]\n",
        "\n",
        "# Generate the matplotlib code using the powerful model\n",
        "response = client.messages.create(\n",
        "    model=\"claude-3-opus-20240229\",\n",
        "    max_tokens=4096,\n",
        "    messages=messages\n",
        ")\n",
        "\n",
        "generated_response = response.content[0].text\n",
        "print(\"Generated Response:\")\n",
        "print(generated_response)"
      ],
      "metadata": {
        "colab": {
          "base_uri": "https://localhost:8080/"
        },
        "id": "--DDWghhyHym",
        "outputId": "237bd016-310f-49cc-ee58-30008b2db583"
      },
      "execution_count": null,
      "outputs": [
        {
          "output_type": "stream",
          "name": "stdout",
          "text": [
            "Generated Response:\n",
            "Based on the extracted information from Apple's earnings releases, Apple's net sales showed the following changes quarter-over-quarter in the 2023 financial year:\n",
            "\n",
            "1. In Q1 (three months ended December 31, 2022), net sales increased compared to the same quarter in the previous year, driven by higher product sales and services revenue.\n",
            "\n",
            "2. In Q2 (three months ended April 1, 2023), net sales significantly increased compared to the same period in the previous year, with substantial growth in both product and services sales.\n",
            "\n",
            "3. In Q3 (three months ended July 1, 2023), net sales increased compared to the same period in the previous year, with growth in both product and services revenue contributing to the overall increase.\n",
            "\n",
            "4. In Q4 (three months ended September 30, 2023), net sales decreased slightly compared to the same quarter in the previous year. This decrease was primarily driven by a decline in product sales, partially offset by an increase in services sales.\n",
            "\n",
            "The key contributors to the changes in net sales throughout the 2023 financial year were the fluctuations in product sales and the consistent growth in services revenue.\n",
            "\n",
            "Here's a Python code snippet using the matplotlib library to visualize the net sales changes:\n",
            "\n",
            "<code>\n",
            "import matplotlib.pyplot as plt\n",
            "\n",
            "quarters = ['Q1', 'Q2', 'Q3', 'Q4']\n",
            "net_sales = [117154, 94836, 81797, 89498]\n",
            "\n",
            "plt.figure(figsize=(8, 6))\n",
            "plt.plot(quarters, net_sales, marker='o')\n",
            "plt.xlabel('Quarter')\n",
            "plt.ylabel('Net Sales (in millions)')\n",
            "plt.title('Apple Net Sales by Quarter - 2023 Financial Year')\n",
            "plt.grid(True)\n",
            "plt.show()\n",
            "</code>\n",
            "\n",
            "This code will generate a line plot showing the net sales for each quarter in the 2023 financial year, with markers at each data point. The x-axis represents the quarters, while the y-axis represents the net sales in millions of dollars. The plot will also include a title, labels for the axes, and a grid for better readability.\n"
          ]
        }
      ]
    },
    {
      "cell_type": "markdown",
      "source": [
        "### Step 7: Extract response and execute Matplotlib code\n",
        "Finally, let's extract the matplotlib code from the generated response and execute it to visualize the revenue growth trend.\n",
        "\n",
        "We define the extract_code_and_response function to extract the matplotlib code and non-code response from the generated response. We print the non-code response and execute the matplotlib code if it is found.\n",
        "\n",
        "Note that it is not good practice to use exec on model-written code outside of a sandbox but for the purposes of this demo we are doing it :)"
      ],
      "metadata": {
        "id": "3YsRVcpn1C4J"
      }
    },
    {
      "cell_type": "code",
      "source": [
        "# Extract the matplotlib code from the response\n",
        "# Function to extract the code and non-code parts from the response\n",
        "def extract_code_and_response(response):\n",
        "    start_tag = \"<code>\"\n",
        "    end_tag = \"</code>\"\n",
        "    start_index = response.find(start_tag)\n",
        "    end_index = response.find(end_tag)\n",
        "    if start_index != -1 and end_index != -1:\n",
        "        code = response[start_index + len(start_tag):end_index].strip()\n",
        "        non_code_response = response[:start_index].strip()\n",
        "        return code, non_code_response\n",
        "    else:\n",
        "        return None, response.strip()\n",
        "\n",
        "matplotlib_code, non_code_response = extract_code_and_response(generated_response)\n",
        "\n",
        "print(non_code_response)\n",
        "if matplotlib_code:\n",
        "\n",
        "    # Execute the extracted matplotlib code\n",
        "    exec(matplotlib_code)\n",
        "else:\n",
        "    print(\"No matplotlib code found in the response.\")"
      ],
      "metadata": {
        "colab": {
          "base_uri": "https://localhost:8080/",
          "height": 816
        },
        "id": "y1GhL0oS0tjr",
        "outputId": "c2bc3733-6bee-4152-c5ec-1c87d562f4c8"
      },
      "execution_count": null,
      "outputs": [
        {
          "output_type": "stream",
          "name": "stdout",
          "text": [
            "Based on the extracted information from Apple's earnings releases, Apple's net sales showed the following changes quarter-over-quarter in the 2023 financial year:\n",
            "\n",
            "1. In Q1 (three months ended December 31, 2022), net sales increased compared to the same quarter in the previous year, driven by higher product sales and services revenue.\n",
            "\n",
            "2. In Q2 (three months ended April 1, 2023), net sales significantly increased compared to the same period in the previous year, with substantial growth in both product and services sales.\n",
            "\n",
            "3. In Q3 (three months ended July 1, 2023), net sales increased compared to the same period in the previous year, with growth in both product and services revenue contributing to the overall increase.\n",
            "\n",
            "4. In Q4 (three months ended September 30, 2023), net sales decreased slightly compared to the same quarter in the previous year. This decrease was primarily driven by a decline in product sales, partially offset by an increase in services sales.\n",
            "\n",
            "The key contributors to the changes in net sales throughout the 2023 financial year were the fluctuations in product sales and the consistent growth in services revenue.\n",
            "\n",
            "Here's a Python code snippet using the matplotlib library to visualize the net sales changes:\n"
          ]
        },
        {
          "output_type": "display_data",
          "data": {
            "text/plain": [
              "<Figure size 800x600 with 1 Axes>"
            ],
            "image/png": "[encoded data removed]"
          },
          "metadata": {}
        }
      ]
    },
    {
      "cell_type": "code",
      "source": [],
      "metadata": {
        "id": "zeKxpKGE1HWK"
      },
      "execution_count": null,
      "outputs": []
    }
  ]
}