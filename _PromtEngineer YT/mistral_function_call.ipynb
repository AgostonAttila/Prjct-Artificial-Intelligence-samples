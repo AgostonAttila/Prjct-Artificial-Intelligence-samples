{
  "nbformat": 4,
  "nbformat_minor": 0,
  "metadata": {
    "colab": {
      "provenance": [],
      "machine_shape": "hm",
      "gpuType": "A100"
    },
    "kernelspec": {
      "name": "python3",
      "display_name": "Python 3"
    },
    "language_info": {
      "name": "python"
    },
    "accelerator": "GPU",
    "widgets": {
      "application/vnd.jupyter.widget-state+json": {
        "019ca69e3e2c484aba6603d6cccc4f92": {
          "model_module": "@jupyter-widgets/controls",
          "model_name": "HBoxModel",
          "model_module_version": "1.5.0",
          "state": {
            "_dom_classes": [],
            "_model_module": "@jupyter-widgets/controls",
            "_model_module_version": "1.5.0",
            "_model_name": "HBoxModel",
            "_view_count": null,
            "_view_module": "@jupyter-widgets/controls",
            "_view_module_version": "1.5.0",
            "_view_name": "HBoxView",
            "box_style": "",
            "children": [
              "IPY_MODEL_d1a2ed926075413393c8c01a61fc9e5b",
              "IPY_MODEL_8641ef06198149fa9b751abc8ff8f114",
              "IPY_MODEL_6ecdc4eae19c42cabea84580a508ecde"
            ],
            "layout": "IPY_MODEL_82b912855d0d4ef9a099e2f06685e1d3"
          }
        },
        "d1a2ed926075413393c8c01a61fc9e5b": {
          "model_module": "@jupyter-widgets/controls",
          "model_name": "HTMLModel",
          "model_module_version": "1.5.0",
          "state": {
            "_dom_classes": [],
            "_model_module": "@jupyter-widgets/controls",
            "_model_module_version": "1.5.0",
            "_model_name": "HTMLModel",
            "_view_count": null,
            "_view_module": "@jupyter-widgets/controls",
            "_view_module_version": "1.5.0",
            "_view_name": "HTMLView",
            "description": "",
            "description_tooltip": null,
            "layout": "IPY_MODEL_40a4ad69a58a43d78430e3700ba6d7c2",
            "placeholder": "​",
            "style": "IPY_MODEL_4cca16f3429a496990be8bcb80f3528f",
            "value": "Fetching 3 files: 100%"
          }
        },
        "8641ef06198149fa9b751abc8ff8f114": {
          "model_module": "@jupyter-widgets/controls",
          "model_name": "FloatProgressModel",
          "model_module_version": "1.5.0",
          "state": {
            "_dom_classes": [],
            "_model_module": "@jupyter-widgets/controls",
            "_model_module_version": "1.5.0",
            "_model_name": "FloatProgressModel",
            "_view_count": null,
            "_view_module": "@jupyter-widgets/controls",
            "_view_module_version": "1.5.0",
            "_view_name": "ProgressView",
            "bar_style": "success",
            "description": "",
            "description_tooltip": null,
            "layout": "IPY_MODEL_d1f6a10646a741b29d965c6aec67047f",
            "max": 3,
            "min": 0,
            "orientation": "horizontal",
            "style": "IPY_MODEL_c30bdf846141479b8f08953ef779520d",
            "value": 3
          }
        },
        "6ecdc4eae19c42cabea84580a508ecde": {
          "model_module": "@jupyter-widgets/controls",
          "model_name": "HTMLModel",
          "model_module_version": "1.5.0",
          "state": {
            "_dom_classes": [],
            "_model_module": "@jupyter-widgets/controls",
            "_model_module_version": "1.5.0",
            "_model_name": "HTMLModel",
            "_view_count": null,
            "_view_module": "@jupyter-widgets/controls",
            "_view_module_version": "1.5.0",
            "_view_name": "HTMLView",
            "description": "",
            "description_tooltip": null,
            "layout": "IPY_MODEL_e606070cd5c84e75a456faf9420ce794",
            "placeholder": "​",
            "style": "IPY_MODEL_1ae0ee05a2364e49a616e4d9d5873272",
            "value": " 3/3 [00:38&lt;00:00, 38.77s/it]"
          }
        },
        "82b912855d0d4ef9a099e2f06685e1d3": {
          "model_module": "@jupyter-widgets/base",
          "model_name": "LayoutModel",
          "model_module_version": "1.2.0",
          "state": {
            "_model_module": "@jupyter-widgets/base",
            "_model_module_version": "1.2.0",
            "_model_name": "LayoutModel",
            "_view_count": null,
            "_view_module": "@jupyter-widgets/base",
            "_view_module_version": "1.2.0",
            "_view_name": "LayoutView",
            "align_content": null,
            "align_items": null,
            "align_self": null,
            "border": null,
            "bottom": null,
            "display": null,
            "flex": null,
            "flex_flow": null,
            "grid_area": null,
            "grid_auto_columns": null,
            "grid_auto_flow": null,
            "grid_auto_rows": null,
            "grid_column": null,
            "grid_gap": null,
            "grid_row": null,
            "grid_template_areas": null,
            "grid_template_columns": null,
            "grid_template_rows": null,
            "height": null,
            "justify_content": null,
            "justify_items": null,
            "left": null,
            "margin": null,
            "max_height": null,
            "max_width": null,
            "min_height": null,
            "min_width": null,
            "object_fit": null,
            "object_position": null,
            "order": null,
            "overflow": null,
            "overflow_x": null,
            "overflow_y": null,
            "padding": null,
            "right": null,
            "top": null,
            "visibility": null,
            "width": null
          }
        },
        "40a4ad69a58a43d78430e3700ba6d7c2": {
          "model_module": "@jupyter-widgets/base",
          "model_name": "LayoutModel",
          "model_module_version": "1.2.0",
          "state": {
            "_model_module": "@jupyter-widgets/base",
            "_model_module_version": "1.2.0",
            "_model_name": "LayoutModel",
            "_view_count": null,
            "_view_module": "@jupyter-widgets/base",
            "_view_module_version": "1.2.0",
            "_view_name": "LayoutView",
            "align_content": null,
            "align_items": null,
            "align_self": null,
            "border": null,
            "bottom": null,
            "display": null,
            "flex": null,
            "flex_flow": null,
            "grid_area": null,
            "grid_auto_columns": null,
            "grid_auto_flow": null,
            "grid_auto_rows": null,
            "grid_column": null,
            "grid_gap": null,
            "grid_row": null,
            "grid_template_areas": null,
            "grid_template_columns": null,
            "grid_template_rows": null,
            "height": null,
            "justify_content": null,
            "justify_items": null,
            "left": null,
            "margin": null,
            "max_height": null,
            "max_width": null,
            "min_height": null,
            "min_width": null,
            "object_fit": null,
            "object_position": null,
            "order": null,
            "overflow": null,
            "overflow_x": null,
            "overflow_y": null,
            "padding": null,
            "right": null,
            "top": null,
            "visibility": null,
            "width": null
          }
        },
        "4cca16f3429a496990be8bcb80f3528f": {
          "model_module": "@jupyter-widgets/controls",
          "model_name": "DescriptionStyleModel",
          "model_module_version": "1.5.0",
          "state": {
            "_model_module": "@jupyter-widgets/controls",
            "_model_module_version": "1.5.0",
            "_model_name": "DescriptionStyleModel",
            "_view_count": null,
            "_view_module": "@jupyter-widgets/base",
            "_view_module_version": "1.2.0",
            "_view_name": "StyleView",
            "description_width": ""
          }
        },
        "d1f6a10646a741b29d965c6aec67047f": {
          "model_module": "@jupyter-widgets/base",
          "model_name": "LayoutModel",
          "model_module_version": "1.2.0",
          "state": {
            "_model_module": "@jupyter-widgets/base",
            "_model_module_version": "1.2.0",
            "_model_name": "LayoutModel",
            "_view_count": null,
            "_view_module": "@jupyter-widgets/base",
            "_view_module_version": "1.2.0",
            "_view_name": "LayoutView",
            "align_content": null,
            "align_items": null,
            "align_self": null,
            "border": null,
            "bottom": null,
            "display": null,
            "flex": null,
            "flex_flow": null,
            "grid_area": null,
            "grid_auto_columns": null,
            "grid_auto_flow": null,
            "grid_auto_rows": null,
            "grid_column": null,
            "grid_gap": null,
            "grid_row": null,
            "grid_template_areas": null,
            "grid_template_columns": null,
            "grid_template_rows": null,
            "height": null,
            "justify_content": null,
            "justify_items": null,
            "left": null,
            "margin": null,
            "max_height": null,
            "max_width": null,
            "min_height": null,
            "min_width": null,
            "object_fit": null,
            "object_position": null,
            "order": null,
            "overflow": null,
            "overflow_x": null,
            "overflow_y": null,
            "padding": null,
            "right": null,
            "top": null,
            "visibility": null,
            "width": null
          }
        },
        "c30bdf846141479b8f08953ef779520d": {
          "model_module": "@jupyter-widgets/controls",
          "model_name": "ProgressStyleModel",
          "model_module_version": "1.5.0",
          "state": {
            "_model_module": "@jupyter-widgets/controls",
            "_model_module_version": "1.5.0",
            "_model_name": "ProgressStyleModel",
            "_view_count": null,
            "_view_module": "@jupyter-widgets/base",
            "_view_module_version": "1.2.0",
            "_view_name": "StyleView",
            "bar_color": null,
            "description_width": ""
          }
        },
        "e606070cd5c84e75a456faf9420ce794": {
          "model_module": "@jupyter-widgets/base",
          "model_name": "LayoutModel",
          "model_module_version": "1.2.0",
          "state": {
            "_model_module": "@jupyter-widgets/base",
            "_model_module_version": "1.2.0",
            "_model_name": "LayoutModel",
            "_view_count": null,
            "_view_module": "@jupyter-widgets/base",
            "_view_module_version": "1.2.0",
            "_view_name": "LayoutView",
            "align_content": null,
            "align_items": null,
            "align_self": null,
            "border": null,
            "bottom": null,
            "display": null,
            "flex": null,
            "flex_flow": null,
            "grid_area": null,
            "grid_auto_columns": null,
            "grid_auto_flow": null,
            "grid_auto_rows": null,
            "grid_column": null,
            "grid_gap": null,
            "grid_row": null,
            "grid_template_areas": null,
            "grid_template_columns": null,
            "grid_template_rows": null,
            "height": null,
            "justify_content": null,
            "justify_items": null,
            "left": null,
            "margin": null,
            "max_height": null,
            "max_width": null,
            "min_height": null,
            "min_width": null,
            "object_fit": null,
            "object_position": null,
            "order": null,
            "overflow": null,
            "overflow_x": null,
            "overflow_y": null,
            "padding": null,
            "right": null,
            "top": null,
            "visibility": null,
            "width": null
          }
        },
        "1ae0ee05a2364e49a616e4d9d5873272": {
          "model_module": "@jupyter-widgets/controls",
          "model_name": "DescriptionStyleModel",
          "model_module_version": "1.5.0",
          "state": {
            "_model_module": "@jupyter-widgets/controls",
            "_model_module_version": "1.5.0",
            "_model_name": "DescriptionStyleModel",
            "_view_count": null,
            "_view_module": "@jupyter-widgets/base",
            "_view_module_version": "1.2.0",
            "_view_name": "StyleView",
            "description_width": ""
          }
        },
        "81edb0358d8341fdac359ef77699bec2": {
          "model_module": "@jupyter-widgets/controls",
          "model_name": "HBoxModel",
          "model_module_version": "1.5.0",
          "state": {
            "_dom_classes": [],
            "_model_module": "@jupyter-widgets/controls",
            "_model_module_version": "1.5.0",
            "_model_name": "HBoxModel",
            "_view_count": null,
            "_view_module": "@jupyter-widgets/controls",
            "_view_module_version": "1.5.0",
            "_view_name": "HBoxView",
            "box_style": "",
            "children": [
              "IPY_MODEL_ba3382c3dad849af93378430a97e1063",
              "IPY_MODEL_a172dab51d26495ca22aeccc7e86d720",
              "IPY_MODEL_12274540f4e744588ee6dfb09785e6d0"
            ],
            "layout": "IPY_MODEL_a7226dec74bd4c7fa5719638d7189a3f"
          }
        },
        "ba3382c3dad849af93378430a97e1063": {
          "model_module": "@jupyter-widgets/controls",
          "model_name": "HTMLModel",
          "model_module_version": "1.5.0",
          "state": {
            "_dom_classes": [],
            "_model_module": "@jupyter-widgets/controls",
            "_model_module_version": "1.5.0",
            "_model_name": "HTMLModel",
            "_view_count": null,
            "_view_module": "@jupyter-widgets/controls",
            "_view_module_version": "1.5.0",
            "_view_name": "HTMLView",
            "description": "",
            "description_tooltip": null,
            "layout": "IPY_MODEL_fbb753f94458444cb7ead7c7b2245b26",
            "placeholder": "​",
            "style": "IPY_MODEL_d8f7bd5c60ed4c64af353bf7e9a35854",
            "value": "consolidated.safetensors: 100%"
          }
        },
        "a172dab51d26495ca22aeccc7e86d720": {
          "model_module": "@jupyter-widgets/controls",
          "model_name": "FloatProgressModel",
          "model_module_version": "1.5.0",
          "state": {
            "_dom_classes": [],
            "_model_module": "@jupyter-widgets/controls",
            "_model_module_version": "1.5.0",
            "_model_name": "FloatProgressModel",
            "_view_count": null,
            "_view_module": "@jupyter-widgets/controls",
            "_view_module_version": "1.5.0",
            "_view_name": "ProgressView",
            "bar_style": "success",
            "description": "",
            "description_tooltip": null,
            "layout": "IPY_MODEL_e91b60d0ac3a442fb5346b269bd63c8d",
            "max": 14496078512,
            "min": 0,
            "orientation": "horizontal",
            "style": "IPY_MODEL_b70fb9437bab4ebba7fccc64e8adef31",
            "value": 14496078512
          }
        },
        "12274540f4e744588ee6dfb09785e6d0": {
          "model_module": "@jupyter-widgets/controls",
          "model_name": "HTMLModel",
          "model_module_version": "1.5.0",
          "state": {
            "_dom_classes": [],
            "_model_module": "@jupyter-widgets/controls",
            "_model_module_version": "1.5.0",
            "_model_name": "HTMLModel",
            "_view_count": null,
            "_view_module": "@jupyter-widgets/controls",
            "_view_module_version": "1.5.0",
            "_view_name": "HTMLView",
            "description": "",
            "description_tooltip": null,
            "layout": "IPY_MODEL_b227eabaf847432b9a5b0d5e94869861",
            "placeholder": "​",
            "style": "IPY_MODEL_93b50496f1874858be527431266c0776",
            "value": " 14.5G/14.5G [00:38&lt;00:00, 268MB/s]"
          }
        },
        "a7226dec74bd4c7fa5719638d7189a3f": {
          "model_module": "@jupyter-widgets/base",
          "model_name": "LayoutModel",
          "model_module_version": "1.2.0",
          "state": {
            "_model_module": "@jupyter-widgets/base",
            "_model_module_version": "1.2.0",
            "_model_name": "LayoutModel",
            "_view_count": null,
            "_view_module": "@jupyter-widgets/base",
            "_view_module_version": "1.2.0",
            "_view_name": "LayoutView",
            "align_content": null,
            "align_items": null,
            "align_self": null,
            "border": null,
            "bottom": null,
            "display": null,
            "flex": null,
            "flex_flow": null,
            "grid_area": null,
            "grid_auto_columns": null,
            "grid_auto_flow": null,
            "grid_auto_rows": null,
            "grid_column": null,
            "grid_gap": null,
            "grid_row": null,
            "grid_template_areas": null,
            "grid_template_columns": null,
            "grid_template_rows": null,
            "height": null,
            "justify_content": null,
            "justify_items": null,
            "left": null,
            "margin": null,
            "max_height": null,
            "max_width": null,
            "min_height": null,
            "min_width": null,
            "object_fit": null,
            "object_position": null,
            "order": null,
            "overflow": null,
            "overflow_x": null,
            "overflow_y": null,
            "padding": null,
            "right": null,
            "top": null,
            "visibility": null,
            "width": null
          }
        },
        "fbb753f94458444cb7ead7c7b2245b26": {
          "model_module": "@jupyter-widgets/base",
          "model_name": "LayoutModel",
          "model_module_version": "1.2.0",
          "state": {
            "_model_module": "@jupyter-widgets/base",
            "_model_module_version": "1.2.0",
            "_model_name": "LayoutModel",
            "_view_count": null,
            "_view_module": "@jupyter-widgets/base",
            "_view_module_version": "1.2.0",
            "_view_name": "LayoutView",
            "align_content": null,
            "align_items": null,
            "align_self": null,
            "border": null,
            "bottom": null,
            "display": null,
            "flex": null,
            "flex_flow": null,
            "grid_area": null,
            "grid_auto_columns": null,
            "grid_auto_flow": null,
            "grid_auto_rows": null,
            "grid_column": null,
            "grid_gap": null,
            "grid_row": null,
            "grid_template_areas": null,
            "grid_template_columns": null,
            "grid_template_rows": null,
            "height": null,
            "justify_content": null,
            "justify_items": null,
            "left": null,
            "margin": null,
            "max_height": null,
            "max_width": null,
            "min_height": null,
            "min_width": null,
            "object_fit": null,
            "object_position": null,
            "order": null,
            "overflow": null,
            "overflow_x": null,
            "overflow_y": null,
            "padding": null,
            "right": null,
            "top": null,
            "visibility": null,
            "width": null
          }
        },
        "d8f7bd5c60ed4c64af353bf7e9a35854": {
          "model_module": "@jupyter-widgets/controls",
          "model_name": "DescriptionStyleModel",
          "model_module_version": "1.5.0",
          "state": {
            "_model_module": "@jupyter-widgets/controls",
            "_model_module_version": "1.5.0",
            "_model_name": "DescriptionStyleModel",
            "_view_count": null,
            "_view_module": "@jupyter-widgets/base",
            "_view_module_version": "1.2.0",
            "_view_name": "StyleView",
            "description_width": ""
          }
        },
        "e91b60d0ac3a442fb5346b269bd63c8d": {
          "model_module": "@jupyter-widgets/base",
          "model_name": "LayoutModel",
          "model_module_version": "1.2.0",
          "state": {
            "_model_module": "@jupyter-widgets/base",
            "_model_module_version": "1.2.0",
            "_model_name": "LayoutModel",
            "_view_count": null,
            "_view_module": "@jupyter-widgets/base",
            "_view_module_version": "1.2.0",
            "_view_name": "LayoutView",
            "align_content": null,
            "align_items": null,
            "align_self": null,
            "border": null,
            "bottom": null,
            "display": null,
            "flex": null,
            "flex_flow": null,
            "grid_area": null,
            "grid_auto_columns": null,
            "grid_auto_flow": null,
            "grid_auto_rows": null,
            "grid_column": null,
            "grid_gap": null,
            "grid_row": null,
            "grid_template_areas": null,
            "grid_template_columns": null,
            "grid_template_rows": null,
            "height": null,
            "justify_content": null,
            "justify_items": null,
            "left": null,
            "margin": null,
            "max_height": null,
            "max_width": null,
            "min_height": null,
            "min_width": null,
            "object_fit": null,
            "object_position": null,
            "order": null,
            "overflow": null,
            "overflow_x": null,
            "overflow_y": null,
            "padding": null,
            "right": null,
            "top": null,
            "visibility": null,
            "width": null
          }
        },
        "b70fb9437bab4ebba7fccc64e8adef31": {
          "model_module": "@jupyter-widgets/controls",
          "model_name": "ProgressStyleModel",
          "model_module_version": "1.5.0",
          "state": {
            "_model_module": "@jupyter-widgets/controls",
            "_model_module_version": "1.5.0",
            "_model_name": "ProgressStyleModel",
            "_view_count": null,
            "_view_module": "@jupyter-widgets/base",
            "_view_module_version": "1.2.0",
            "_view_name": "StyleView",
            "bar_color": null,
            "description_width": ""
          }
        },
        "b227eabaf847432b9a5b0d5e94869861": {
          "model_module": "@jupyter-widgets/base",
          "model_name": "LayoutModel",
          "model_module_version": "1.2.0",
          "state": {
            "_model_module": "@jupyter-widgets/base",
            "_model_module_version": "1.2.0",
            "_model_name": "LayoutModel",
            "_view_count": null,
            "_view_module": "@jupyter-widgets/base",
            "_view_module_version": "1.2.0",
            "_view_name": "LayoutView",
            "align_content": null,
            "align_items": null,
            "align_self": null,
            "border": null,
            "bottom": null,
            "display": null,
            "flex": null,
            "flex_flow": null,
            "grid_area": null,
            "grid_auto_columns": null,
            "grid_auto_flow": null,
            "grid_auto_rows": null,
            "grid_column": null,
            "grid_gap": null,
            "grid_row": null,
            "grid_template_areas": null,
            "grid_template_columns": null,
            "grid_template_rows": null,
            "height": null,
            "justify_content": null,
            "justify_items": null,
            "left": null,
            "margin": null,
            "max_height": null,
            "max_width": null,
            "min_height": null,
            "min_width": null,
            "object_fit": null,
            "object_position": null,
            "order": null,
            "overflow": null,
            "overflow_x": null,
            "overflow_y": null,
            "padding": null,
            "right": null,
            "top": null,
            "visibility": null,
            "width": null
          }
        },
        "93b50496f1874858be527431266c0776": {
          "model_module": "@jupyter-widgets/controls",
          "model_name": "DescriptionStyleModel",
          "model_module_version": "1.5.0",
          "state": {
            "_model_module": "@jupyter-widgets/controls",
            "_model_module_version": "1.5.0",
            "_model_name": "DescriptionStyleModel",
            "_view_count": null,
            "_view_module": "@jupyter-widgets/base",
            "_view_module_version": "1.2.0",
            "_view_name": "StyleView",
            "description_width": ""
          }
        },
        "5966b6ac83634db382d2be5db4b2056e": {
          "model_module": "@jupyter-widgets/controls",
          "model_name": "HBoxModel",
          "model_module_version": "1.5.0",
          "state": {
            "_dom_classes": [],
            "_model_module": "@jupyter-widgets/controls",
            "_model_module_version": "1.5.0",
            "_model_name": "HBoxModel",
            "_view_count": null,
            "_view_module": "@jupyter-widgets/controls",
            "_view_module_version": "1.5.0",
            "_view_name": "HBoxView",
            "box_style": "",
            "children": [
              "IPY_MODEL_947a4cc47834458783a38f4dcf41a93b",
              "IPY_MODEL_b3253b5d5a7244d8816e295139996e99",
              "IPY_MODEL_c1725d88162744adac02d022b10c07f8"
            ],
            "layout": "IPY_MODEL_f3b762d012c4485bb11b2546edf188f5"
          }
        },
        "947a4cc47834458783a38f4dcf41a93b": {
          "model_module": "@jupyter-widgets/controls",
          "model_name": "HTMLModel",
          "model_module_version": "1.5.0",
          "state": {
            "_dom_classes": [],
            "_model_module": "@jupyter-widgets/controls",
            "_model_module_version": "1.5.0",
            "_model_name": "HTMLModel",
            "_view_count": null,
            "_view_module": "@jupyter-widgets/controls",
            "_view_module_version": "1.5.0",
            "_view_name": "HTMLView",
            "description": "",
            "description_tooltip": null,
            "layout": "IPY_MODEL_c30004567da7473493a1952c1e4044b1",
            "placeholder": "​",
            "style": "IPY_MODEL_5a24217a713a4a74ac46023f9afc36b4",
            "value": "params.json: 100%"
          }
        },
        "b3253b5d5a7244d8816e295139996e99": {
          "model_module": "@jupyter-widgets/controls",
          "model_name": "FloatProgressModel",
          "model_module_version": "1.5.0",
          "state": {
            "_dom_classes": [],
            "_model_module": "@jupyter-widgets/controls",
            "_model_module_version": "1.5.0",
            "_model_name": "FloatProgressModel",
            "_view_count": null,
            "_view_module": "@jupyter-widgets/controls",
            "_view_module_version": "1.5.0",
            "_view_name": "ProgressView",
            "bar_style": "success",
            "description": "",
            "description_tooltip": null,
            "layout": "IPY_MODEL_f6112513adba41949d1d03178239140f",
            "max": 202,
            "min": 0,
            "orientation": "horizontal",
            "style": "IPY_MODEL_71e097f261254ed08fef499807f31b17",
            "value": 202
          }
        },
        "c1725d88162744adac02d022b10c07f8": {
          "model_module": "@jupyter-widgets/controls",
          "model_name": "HTMLModel",
          "model_module_version": "1.5.0",
          "state": {
            "_dom_classes": [],
            "_model_module": "@jupyter-widgets/controls",
            "_model_module_version": "1.5.0",
            "_model_name": "HTMLModel",
            "_view_count": null,
            "_view_module": "@jupyter-widgets/controls",
            "_view_module_version": "1.5.0",
            "_view_name": "HTMLView",
            "description": "",
            "description_tooltip": null,
            "layout": "IPY_MODEL_fe3f2c311b394a02a47767058b5b307d",
            "placeholder": "​",
            "style": "IPY_MODEL_4fd17ee2302b4e118b78d4fb3b4bfdba",
            "value": " 202/202 [00:00&lt;00:00, 15.4kB/s]"
          }
        },
        "f3b762d012c4485bb11b2546edf188f5": {
          "model_module": "@jupyter-widgets/base",
          "model_name": "LayoutModel",
          "model_module_version": "1.2.0",
          "state": {
            "_model_module": "@jupyter-widgets/base",
            "_model_module_version": "1.2.0",
            "_model_name": "LayoutModel",
            "_view_count": null,
            "_view_module": "@jupyter-widgets/base",
            "_view_module_version": "1.2.0",
            "_view_name": "LayoutView",
            "align_content": null,
            "align_items": null,
            "align_self": null,
            "border": null,
            "bottom": null,
            "display": null,
            "flex": null,
            "flex_flow": null,
            "grid_area": null,
            "grid_auto_columns": null,
            "grid_auto_flow": null,
            "grid_auto_rows": null,
            "grid_column": null,
            "grid_gap": null,
            "grid_row": null,
            "grid_template_areas": null,
            "grid_template_columns": null,
            "grid_template_rows": null,
            "height": null,
            "justify_content": null,
            "justify_items": null,
            "left": null,
            "margin": null,
            "max_height": null,
            "max_width": null,
            "min_height": null,
            "min_width": null,
            "object_fit": null,
            "object_position": null,
            "order": null,
            "overflow": null,
            "overflow_x": null,
            "overflow_y": null,
            "padding": null,
            "right": null,
            "top": null,
            "visibility": null,
            "width": null
          }
        },
        "c30004567da7473493a1952c1e4044b1": {
          "model_module": "@jupyter-widgets/base",
          "model_name": "LayoutModel",
          "model_module_version": "1.2.0",
          "state": {
            "_model_module": "@jupyter-widgets/base",
            "_model_module_version": "1.2.0",
            "_model_name": "LayoutModel",
            "_view_count": null,
            "_view_module": "@jupyter-widgets/base",
            "_view_module_version": "1.2.0",
            "_view_name": "LayoutView",
            "align_content": null,
            "align_items": null,
            "align_self": null,
            "border": null,
            "bottom": null,
            "display": null,
            "flex": null,
            "flex_flow": null,
            "grid_area": null,
            "grid_auto_columns": null,
            "grid_auto_flow": null,
            "grid_auto_rows": null,
            "grid_column": null,
            "grid_gap": null,
            "grid_row": null,
            "grid_template_areas": null,
            "grid_template_columns": null,
            "grid_template_rows": null,
            "height": null,
            "justify_content": null,
            "justify_items": null,
            "left": null,
            "margin": null,
            "max_height": null,
            "max_width": null,
            "min_height": null,
            "min_width": null,
            "object_fit": null,
            "object_position": null,
            "order": null,
            "overflow": null,
            "overflow_x": null,
            "overflow_y": null,
            "padding": null,
            "right": null,
            "top": null,
            "visibility": null,
            "width": null
          }
        },
        "5a24217a713a4a74ac46023f9afc36b4": {
          "model_module": "@jupyter-widgets/controls",
          "model_name": "DescriptionStyleModel",
          "model_module_version": "1.5.0",
          "state": {
            "_model_module": "@jupyter-widgets/controls",
            "_model_module_version": "1.5.0",
            "_model_name": "DescriptionStyleModel",
            "_view_count": null,
            "_view_module": "@jupyter-widgets/base",
            "_view_module_version": "1.2.0",
            "_view_name": "StyleView",
            "description_width": ""
          }
        },
        "f6112513adba41949d1d03178239140f": {
          "model_module": "@jupyter-widgets/base",
          "model_name": "LayoutModel",
          "model_module_version": "1.2.0",
          "state": {
            "_model_module": "@jupyter-widgets/base",
            "_model_module_version": "1.2.0",
            "_model_name": "LayoutModel",
            "_view_count": null,
            "_view_module": "@jupyter-widgets/base",
            "_view_module_version": "1.2.0",
            "_view_name": "LayoutView",
            "align_content": null,
            "align_items": null,
            "align_self": null,
            "border": null,
            "bottom": null,
            "display": null,
            "flex": null,
            "flex_flow": null,
            "grid_area": null,
            "grid_auto_columns": null,
            "grid_auto_flow": null,
            "grid_auto_rows": null,
            "grid_column": null,
            "grid_gap": null,
            "grid_row": null,
            "grid_template_areas": null,
            "grid_template_columns": null,
            "grid_template_rows": null,
            "height": null,
            "justify_content": null,
            "justify_items": null,
            "left": null,
            "margin": null,
            "max_height": null,
            "max_width": null,
            "min_height": null,
            "min_width": null,
            "object_fit": null,
            "object_position": null,
            "order": null,
            "overflow": null,
            "overflow_x": null,
            "overflow_y": null,
            "padding": null,
            "right": null,
            "top": null,
            "visibility": null,
            "width": null
          }
        },
        "71e097f261254ed08fef499807f31b17": {
          "model_module": "@jupyter-widgets/controls",
          "model_name": "ProgressStyleModel",
          "model_module_version": "1.5.0",
          "state": {
            "_model_module": "@jupyter-widgets/controls",
            "_model_module_version": "1.5.0",
            "_model_name": "ProgressStyleModel",
            "_view_count": null,
            "_view_module": "@jupyter-widgets/base",
            "_view_module_version": "1.2.0",
            "_view_name": "StyleView",
            "bar_color": null,
            "description_width": ""
          }
        },
        "fe3f2c311b394a02a47767058b5b307d": {
          "model_module": "@jupyter-widgets/base",
          "model_name": "LayoutModel",
          "model_module_version": "1.2.0",
          "state": {
            "_model_module": "@jupyter-widgets/base",
            "_model_module_version": "1.2.0",
            "_model_name": "LayoutModel",
            "_view_count": null,
            "_view_module": "@jupyter-widgets/base",
            "_view_module_version": "1.2.0",
            "_view_name": "LayoutView",
            "align_content": null,
            "align_items": null,
            "align_self": null,
            "border": null,
            "bottom": null,
            "display": null,
            "flex": null,
            "flex_flow": null,
            "grid_area": null,
            "grid_auto_columns": null,
            "grid_auto_flow": null,
            "grid_auto_rows": null,
            "grid_column": null,
            "grid_gap": null,
            "grid_row": null,
            "grid_template_areas": null,
            "grid_template_columns": null,
            "grid_template_rows": null,
            "height": null,
            "justify_content": null,
            "justify_items": null,
            "left": null,
            "margin": null,
            "max_height": null,
            "max_width": null,
            "min_height": null,
            "min_width": null,
            "object_fit": null,
            "object_position": null,
            "order": null,
            "overflow": null,
            "overflow_x": null,
            "overflow_y": null,
            "padding": null,
            "right": null,
            "top": null,
            "visibility": null,
            "width": null
          }
        },
        "4fd17ee2302b4e118b78d4fb3b4bfdba": {
          "model_module": "@jupyter-widgets/controls",
          "model_name": "DescriptionStyleModel",
          "model_module_version": "1.5.0",
          "state": {
            "_model_module": "@jupyter-widgets/controls",
            "_model_module_version": "1.5.0",
            "_model_name": "DescriptionStyleModel",
            "_view_count": null,
            "_view_module": "@jupyter-widgets/base",
            "_view_module_version": "1.2.0",
            "_view_name": "StyleView",
            "description_width": ""
          }
        },
        "77eb4c0a6fa146f4a3e47ffc987012f7": {
          "model_module": "@jupyter-widgets/controls",
          "model_name": "HBoxModel",
          "model_module_version": "1.5.0",
          "state": {
            "_dom_classes": [],
            "_model_module": "@jupyter-widgets/controls",
            "_model_module_version": "1.5.0",
            "_model_name": "HBoxModel",
            "_view_count": null,
            "_view_module": "@jupyter-widgets/controls",
            "_view_module_version": "1.5.0",
            "_view_name": "HBoxView",
            "box_style": "",
            "children": [
              "IPY_MODEL_ad40a2512633429da76e2f8f205ce3bf",
              "IPY_MODEL_cbc97e7fd4b34d0db8e45ad9a19bd076",
              "IPY_MODEL_2732961e969943dbbb8d2466471af413"
            ],
            "layout": "IPY_MODEL_eaa9401c83d94771aa339d5cb6a3c498"
          }
        },
        "ad40a2512633429da76e2f8f205ce3bf": {
          "model_module": "@jupyter-widgets/controls",
          "model_name": "HTMLModel",
          "model_module_version": "1.5.0",
          "state": {
            "_dom_classes": [],
            "_model_module": "@jupyter-widgets/controls",
            "_model_module_version": "1.5.0",
            "_model_name": "HTMLModel",
            "_view_count": null,
            "_view_module": "@jupyter-widgets/controls",
            "_view_module_version": "1.5.0",
            "_view_name": "HTMLView",
            "description": "",
            "description_tooltip": null,
            "layout": "IPY_MODEL_4239540fb0f142969b56363b53db0b60",
            "placeholder": "​",
            "style": "IPY_MODEL_4ee9c78f42784c2290d9f73ed23f6f0e",
            "value": "tokenizer.model.v3: 100%"
          }
        },
        "cbc97e7fd4b34d0db8e45ad9a19bd076": {
          "model_module": "@jupyter-widgets/controls",
          "model_name": "FloatProgressModel",
          "model_module_version": "1.5.0",
          "state": {
            "_dom_classes": [],
            "_model_module": "@jupyter-widgets/controls",
            "_model_module_version": "1.5.0",
            "_model_name": "FloatProgressModel",
            "_view_count": null,
            "_view_module": "@jupyter-widgets/controls",
            "_view_module_version": "1.5.0",
            "_view_name": "ProgressView",
            "bar_style": "success",
            "description": "",
            "description_tooltip": null,
            "layout": "IPY_MODEL_f1347bd5f611464f8b0fd4c4aa794f10",
            "max": 587404,
            "min": 0,
            "orientation": "horizontal",
            "style": "IPY_MODEL_36c9e091fef146769584ce9b5a7ed774",
            "value": 587404
          }
        },
        "2732961e969943dbbb8d2466471af413": {
          "model_module": "@jupyter-widgets/controls",
          "model_name": "HTMLModel",
          "model_module_version": "1.5.0",
          "state": {
            "_dom_classes": [],
            "_model_module": "@jupyter-widgets/controls",
            "_model_module_version": "1.5.0",
            "_model_name": "HTMLModel",
            "_view_count": null,
            "_view_module": "@jupyter-widgets/controls",
            "_view_module_version": "1.5.0",
            "_view_name": "HTMLView",
            "description": "",
            "description_tooltip": null,
            "layout": "IPY_MODEL_42991c2f3eec42f2aac0b329d1c57048",
            "placeholder": "​",
            "style": "IPY_MODEL_d3727273bf934e00a993b77eb0fedf85",
            "value": " 587k/587k [00:00&lt;00:00, 2.34MB/s]"
          }
        },
        "eaa9401c83d94771aa339d5cb6a3c498": {
          "model_module": "@jupyter-widgets/base",
          "model_name": "LayoutModel",
          "model_module_version": "1.2.0",
          "state": {
            "_model_module": "@jupyter-widgets/base",
            "_model_module_version": "1.2.0",
            "_model_name": "LayoutModel",
            "_view_count": null,
            "_view_module": "@jupyter-widgets/base",
            "_view_module_version": "1.2.0",
            "_view_name": "LayoutView",
            "align_content": null,
            "align_items": null,
            "align_self": null,
            "border": null,
            "bottom": null,
            "display": null,
            "flex": null,
            "flex_flow": null,
            "grid_area": null,
            "grid_auto_columns": null,
            "grid_auto_flow": null,
            "grid_auto_rows": null,
            "grid_column": null,
            "grid_gap": null,
            "grid_row": null,
            "grid_template_areas": null,
            "grid_template_columns": null,
            "grid_template_rows": null,
            "height": null,
            "justify_content": null,
            "justify_items": null,
            "left": null,
            "margin": null,
            "max_height": null,
            "max_width": null,
            "min_height": null,
            "min_width": null,
            "object_fit": null,
            "object_position": null,
            "order": null,
            "overflow": null,
            "overflow_x": null,
            "overflow_y": null,
            "padding": null,
            "right": null,
            "top": null,
            "visibility": null,
            "width": null
          }
        },
        "4239540fb0f142969b56363b53db0b60": {
          "model_module": "@jupyter-widgets/base",
          "model_name": "LayoutModel",
          "model_module_version": "1.2.0",
          "state": {
            "_model_module": "@jupyter-widgets/base",
            "_model_module_version": "1.2.0",
            "_model_name": "LayoutModel",
            "_view_count": null,
            "_view_module": "@jupyter-widgets/base",
            "_view_module_version": "1.2.0",
            "_view_name": "LayoutView",
            "align_content": null,
            "align_items": null,
            "align_self": null,
            "border": null,
            "bottom": null,
            "display": null,
            "flex": null,
            "flex_flow": null,
            "grid_area": null,
            "grid_auto_columns": null,
            "grid_auto_flow": null,
            "grid_auto_rows": null,
            "grid_column": null,
            "grid_gap": null,
            "grid_row": null,
            "grid_template_areas": null,
            "grid_template_columns": null,
            "grid_template_rows": null,
            "height": null,
            "justify_content": null,
            "justify_items": null,
            "left": null,
            "margin": null,
            "max_height": null,
            "max_width": null,
            "min_height": null,
            "min_width": null,
            "object_fit": null,
            "object_position": null,
            "order": null,
            "overflow": null,
            "overflow_x": null,
            "overflow_y": null,
            "padding": null,
            "right": null,
            "top": null,
            "visibility": null,
            "width": null
          }
        },
        "4ee9c78f42784c2290d9f73ed23f6f0e": {
          "model_module": "@jupyter-widgets/controls",
          "model_name": "DescriptionStyleModel",
          "model_module_version": "1.5.0",
          "state": {
            "_model_module": "@jupyter-widgets/controls",
            "_model_module_version": "1.5.0",
            "_model_name": "DescriptionStyleModel",
            "_view_count": null,
            "_view_module": "@jupyter-widgets/base",
            "_view_module_version": "1.2.0",
            "_view_name": "StyleView",
            "description_width": ""
          }
        },
        "f1347bd5f611464f8b0fd4c4aa794f10": {
          "model_module": "@jupyter-widgets/base",
          "model_name": "LayoutModel",
          "model_module_version": "1.2.0",
          "state": {
            "_model_module": "@jupyter-widgets/base",
            "_model_module_version": "1.2.0",
            "_model_name": "LayoutModel",
            "_view_count": null,
            "_view_module": "@jupyter-widgets/base",
            "_view_module_version": "1.2.0",
            "_view_name": "LayoutView",
            "align_content": null,
            "align_items": null,
            "align_self": null,
            "border": null,
            "bottom": null,
            "display": null,
            "flex": null,
            "flex_flow": null,
            "grid_area": null,
            "grid_auto_columns": null,
            "grid_auto_flow": null,
            "grid_auto_rows": null,
            "grid_column": null,
            "grid_gap": null,
            "grid_row": null,
            "grid_template_areas": null,
            "grid_template_columns": null,
            "grid_template_rows": null,
            "height": null,
            "justify_content": null,
            "justify_items": null,
            "left": null,
            "margin": null,
            "max_height": null,
            "max_width": null,
            "min_height": null,
            "min_width": null,
            "object_fit": null,
            "object_position": null,
            "order": null,
            "overflow": null,
            "overflow_x": null,
            "overflow_y": null,
            "padding": null,
            "right": null,
            "top": null,
            "visibility": null,
            "width": null
          }
        },
        "36c9e091fef146769584ce9b5a7ed774": {
          "model_module": "@jupyter-widgets/controls",
          "model_name": "ProgressStyleModel",
          "model_module_version": "1.5.0",
          "state": {
            "_model_module": "@jupyter-widgets/controls",
            "_model_module_version": "1.5.0",
            "_model_name": "ProgressStyleModel",
            "_view_count": null,
            "_view_module": "@jupyter-widgets/base",
            "_view_module_version": "1.2.0",
            "_view_name": "StyleView",
            "bar_color": null,
            "description_width": ""
          }
        },
        "42991c2f3eec42f2aac0b329d1c57048": {
          "model_module": "@jupyter-widgets/base",
          "model_name": "LayoutModel",
          "model_module_version": "1.2.0",
          "state": {
            "_model_module": "@jupyter-widgets/base",
            "_model_module_version": "1.2.0",
            "_model_name": "LayoutModel",
            "_view_count": null,
            "_view_module": "@jupyter-widgets/base",
            "_view_module_version": "1.2.0",
            "_view_name": "LayoutView",
            "align_content": null,
            "align_items": null,
            "align_self": null,
            "border": null,
            "bottom": null,
            "display": null,
            "flex": null,
            "flex_flow": null,
            "grid_area": null,
            "grid_auto_columns": null,
            "grid_auto_flow": null,
            "grid_auto_rows": null,
            "grid_column": null,
            "grid_gap": null,
            "grid_row": null,
            "grid_template_areas": null,
            "grid_template_columns": null,
            "grid_template_rows": null,
            "height": null,
            "justify_content": null,
            "justify_items": null,
            "left": null,
            "margin": null,
            "max_height": null,
            "max_width": null,
            "min_height": null,
            "min_width": null,
            "object_fit": null,
            "object_position": null,
            "order": null,
            "overflow": null,
            "overflow_x": null,
            "overflow_y": null,
            "padding": null,
            "right": null,
            "top": null,
            "visibility": null,
            "width": null
          }
        },
        "d3727273bf934e00a993b77eb0fedf85": {
          "model_module": "@jupyter-widgets/controls",
          "model_name": "DescriptionStyleModel",
          "model_module_version": "1.5.0",
          "state": {
            "_model_module": "@jupyter-widgets/controls",
            "_model_module_version": "1.5.0",
            "_model_name": "DescriptionStyleModel",
            "_view_count": null,
            "_view_module": "@jupyter-widgets/base",
            "_view_module_version": "1.2.0",
            "_view_name": "StyleView",
            "description_width": ""
          }
        }
      }
    }
  },
  "cells": [
    {
      "cell_type": "markdown",
      "source": [
        "## Mistral v0.3: Multi-Function Calling & Dependencies! 🚀\n",
        "\n",
        "Mistral just dropped version 0.3, and it natively supports function calling! 🛠️\n",
        "\n",
        "I tested multi-functions & dependencies. It didn't work initially, but I found a solution that works like a charm. Check out my video and try it on Colab. Enjoy!\n",
        "\n",
        "Btw, @enginerrprompt (https://x.com/enginerrprompt) suggested a better name which is \"nested call\" for dependencies. Thanks!\n",
        "\n",
        "Watch video here: https://youtu.be/MZlRaclJ4YI\n",
        "\n",
        "Follow me on X: https://x.com/unclecode"
      ],
      "metadata": {
        "id": "7ufUS-chEifn"
      }
    },
    {
      "cell_type": "code",
      "execution_count": null,
      "metadata": {
        "id": "xDPIZJwA2XKU"
      },
      "outputs": [],
      "source": [
        "%%capture\n",
        "!pip install mistral_inference"
      ]
    },
    {
      "cell_type": "code",
      "source": [
        "from huggingface_hub import snapshot_download\n",
        "from pathlib import Path\n",
        "\n",
        "mistral_models_path = Path.home().joinpath('mistral_models', '7B-Instruct-v0.3')\n",
        "mistral_models_path.mkdir(parents=True, exist_ok=True)\n",
        "\n",
        "snapshot_download(repo_id=\"mistralai/Mistral-7B-Instruct-v0.3\", allow_patterns=[\"params.json\", \"consolidated.safetensors\", \"tokenizer.model.v3\"], local_dir=mistral_models_path)\n"
      ],
      "metadata": {
        "colab": {
          "base_uri": "https://localhost:8080/",
          "height": 163,
          "referenced_widgets": [
            "019ca69e3e2c484aba6603d6cccc4f92",
            "d1a2ed926075413393c8c01a61fc9e5b",
            "8641ef06198149fa9b751abc8ff8f114",
            "6ecdc4eae19c42cabea84580a508ecde",
            "82b912855d0d4ef9a099e2f06685e1d3",
            "40a4ad69a58a43d78430e3700ba6d7c2",
            "4cca16f3429a496990be8bcb80f3528f",
            "d1f6a10646a741b29d965c6aec67047f",
            "c30bdf846141479b8f08953ef779520d",
            "e606070cd5c84e75a456faf9420ce794",
            "1ae0ee05a2364e49a616e4d9d5873272",
            "81edb0358d8341fdac359ef77699bec2",
            "ba3382c3dad849af93378430a97e1063",
            "a172dab51d26495ca22aeccc7e86d720",
            "12274540f4e744588ee6dfb09785e6d0",
            "a7226dec74bd4c7fa5719638d7189a3f",
            "fbb753f94458444cb7ead7c7b2245b26",
            "d8f7bd5c60ed4c64af353bf7e9a35854",
            "e91b60d0ac3a442fb5346b269bd63c8d",
            "b70fb9437bab4ebba7fccc64e8adef31",
            "b227eabaf847432b9a5b0d5e94869861",
            "93b50496f1874858be527431266c0776",
            "5966b6ac83634db382d2be5db4b2056e",
            "947a4cc47834458783a38f4dcf41a93b",
            "b3253b5d5a7244d8816e295139996e99",
            "c1725d88162744adac02d022b10c07f8",
            "f3b762d012c4485bb11b2546edf188f5",
            "c30004567da7473493a1952c1e4044b1",
            "5a24217a713a4a74ac46023f9afc36b4",
            "f6112513adba41949d1d03178239140f",
            "71e097f261254ed08fef499807f31b17",
            "fe3f2c311b394a02a47767058b5b307d",
            "4fd17ee2302b4e118b78d4fb3b4bfdba",
            "77eb4c0a6fa146f4a3e47ffc987012f7",
            "ad40a2512633429da76e2f8f205ce3bf",
            "cbc97e7fd4b34d0db8e45ad9a19bd076",
            "2732961e969943dbbb8d2466471af413",
            "eaa9401c83d94771aa339d5cb6a3c498",
            "4239540fb0f142969b56363b53db0b60",
            "4ee9c78f42784c2290d9f73ed23f6f0e",
            "f1347bd5f611464f8b0fd4c4aa794f10",
            "36c9e091fef146769584ce9b5a7ed774",
            "42991c2f3eec42f2aac0b329d1c57048",
            "d3727273bf934e00a993b77eb0fedf85"
          ]
        },
        "id": "0ACLMnsB27oj",
        "outputId": "e9ca8c3d-ecbe-4c6d-c8d9-045e0b2e1542"
      },
      "execution_count": null,
      "outputs": [
        {
          "output_type": "display_data",
          "data": {
            "text/plain": [
              "Fetching 3 files:   0%|          | 0/3 [00:00<?, ?it/s]"
            ],
            "application/vnd.jupyter.widget-view+json": {
              "version_major": 2,
              "version_minor": 0,
              "model_id": "019ca69e3e2c484aba6603d6cccc4f92"
            }
          },
          "metadata": {}
        },
        {
          "output_type": "display_data",
          "data": {
            "text/plain": [
              "consolidated.safetensors:   0%|          | 0.00/14.5G [00:00<?, ?B/s]"
            ],
            "application/vnd.jupyter.widget-view+json": {
              "version_major": 2,
              "version_minor": 0,
              "model_id": "81edb0358d8341fdac359ef77699bec2"
            }
          },
          "metadata": {}
        },
        {
          "output_type": "display_data",
          "data": {
            "text/plain": [
              "params.json:   0%|          | 0.00/202 [00:00<?, ?B/s]"
            ],
            "application/vnd.jupyter.widget-view+json": {
              "version_major": 2,
              "version_minor": 0,
              "model_id": "5966b6ac83634db382d2be5db4b2056e"
            }
          },
          "metadata": {}
        },
        {
          "output_type": "display_data",
          "data": {
            "text/plain": [
              "tokenizer.model.v3:   0%|          | 0.00/587k [00:00<?, ?B/s]"
            ],
            "application/vnd.jupyter.widget-view+json": {
              "version_major": 2,
              "version_minor": 0,
              "model_id": "77eb4c0a6fa146f4a3e47ffc987012f7"
            }
          },
          "metadata": {}
        },
        {
          "output_type": "execute_result",
          "data": {
            "text/plain": [
              "'/root/mistral_models/7B-Instruct-v0.3'"
            ],
            "application/vnd.google.colaboratory.intrinsic+json": {
              "type": "string"
            }
          },
          "metadata": {},
          "execution_count": 2
        }
      ]
    },
    {
      "cell_type": "code",
      "source": [
        "import json\n",
        "from mistral_common.protocol.instruct.tool_calls import Function, Tool\n",
        "from mistral_inference.model import Transformer\n",
        "from mistral_inference.generate import generate\n",
        "\n",
        "from mistral_common.tokens.tokenizers.mistral import MistralTokenizer\n",
        "from mistral_common.protocol.instruct.messages import UserMessage, SystemMessage\n",
        "from mistral_common.protocol.instruct.request import ChatCompletionRequest\n",
        "\n",
        "\n",
        "tokenizer = MistralTokenizer.from_file(f\"{mistral_models_path}/tokenizer.model.v3\")\n",
        "model = Transformer.from_folder(mistral_models_path)\n",
        "\n",
        "completion_request = ChatCompletionRequest(\n",
        "    tools=[\n",
        "        Tool(\n",
        "            function=Function(\n",
        "                name=\"get_current_weather\",\n",
        "                description=\"Get the current weather\",\n",
        "                parameters={\n",
        "                    \"type\": \"object\",\n",
        "                    \"properties\": {\n",
        "                        \"location\": {\n",
        "                            \"type\": \"string\",\n",
        "                            \"description\": \"The city and state, e.g. San Francisco, CA\",\n",
        "                        },\n",
        "                        \"format\": {\n",
        "                            \"type\": \"string\",\n",
        "                            \"enum\": [\"celsius\", \"fahrenheit\"],\n",
        "                            \"description\": \"The temperature unit to use. Infer this from the users location.\",\n",
        "                        },\n",
        "                    },\n",
        "                    \"required\": [\"location\", \"format\"],\n",
        "                },\n",
        "            )\n",
        "        ),\n",
        "        Tool(\n",
        "            function=Function(\n",
        "                name=\"get_current_time\",\n",
        "                description=\"Get the current time\",\n",
        "                parameters={\n",
        "                    \"type\": \"object\",\n",
        "                    \"properties\": {\n",
        "                        \"location\": {\n",
        "                            \"type\": \"string\",\n",
        "                            \"description\": \"The city and state, e.g. San Francisco, CA\",\n",
        "                        }\n",
        "                    },\n",
        "                    \"required\": [\"location\"],\n",
        "                },\n",
        "            )\n",
        "        )\n",
        "    ],\n",
        "    messages=[\n",
        "        UserMessage(content=\"What's the weather like today in Paris? Also tell me the time in San Francisco?\"),\n",
        "    ],\n",
        ")\n",
        "\n",
        "tokens = tokenizer.encode_chat_completion(completion_request).tokens\n",
        "\n",
        "out_tokens, _ = generate([tokens], model, max_tokens=64, temperature=0.0, eos_id=tokenizer.instruct_tokenizer.tokenizer.eos_id)\n",
        "result = tokenizer.instruct_tokenizer.tokenizer.decode(out_tokens[0])\n",
        "\n",
        "json.loads(result)\n"
      ],
      "metadata": {
        "id": "oa-5mML-3KVu"
      },
      "execution_count": null,
      "outputs": []
    },
    {
      "cell_type": "code",
      "source": [
        "tokenizer.encode_chat_completion(completion_request).text"
      ],
      "metadata": {
        "colab": {
          "base_uri": "https://localhost:8080/",
          "height": 107
        },
        "id": "t468Fzy4tlZe",
        "outputId": "b0f024a2-b184-40fe-88a2-3ae90f1e9691"
      },
      "execution_count": null,
      "outputs": [
        {
          "output_type": "execute_result",
          "data": {
            "text/plain": [
              "'<s>[AVAILABLE_TOOLS]▁[{\"type\":▁\"function\",▁\"function\":▁{\"name\":▁\"get_current_weather\",▁\"description\":▁\"Get▁the▁current▁weather\",▁\"parameters\":▁{\"type\":▁\"object\",▁\"properties\":▁{\"location\":▁{\"type\":▁\"string\",▁\"description\":▁\"The▁city▁and▁state,▁e.g.▁San▁Francisco,▁CA\"},▁\"format\":▁{\"type\":▁\"string\",▁\"enum\":▁[\"celsius\",▁\"fahrenheit\"],▁\"description\":▁\"The▁temperature▁unit▁to▁use.▁Infer▁this▁from▁the▁users▁location.\"}},▁\"required\":▁[\"location\",▁\"format\"]}}},▁{\"type\":▁\"function\",▁\"function\":▁{\"name\":▁\"get_current_time\",▁\"description\":▁\"Get▁the▁current▁time\",▁\"parameters\":▁{\"type\":▁\"object\",▁\"properties\":▁{\"location\":▁{\"type\":▁\"string\",▁\"description\":▁\"The▁city▁and▁state,▁e.g.▁San▁Francisco,▁CA\"}},▁\"required\":▁[\"location\"]}}}][/AVAILABLE_TOOLS][INST]▁You▁are▁a▁helpful▁assistant.▁And▁this▁is▁a▁test.<0x0A><0x0A>What\\'s▁the▁weather▁like▁today▁in▁Paris?▁Also▁tell▁me▁the▁time▁in▁San▁Francisco?[/INST]'"
            ],
            "application/vnd.google.colaboratory.intrinsic+json": {
              "type": "string"
            }
          },
          "metadata": {},
          "execution_count": 11
        }
      ]
    },
    {
      "cell_type": "code",
      "source": [
        "completion_request = ChatCompletionRequest(\n",
        "    tools=[\n",
        "        Tool(\n",
        "            function=Function(\n",
        "                name=\"get_current_temperature\",\n",
        "                description=\"Get the current temperature in celsius\",\n",
        "                parameters={\n",
        "                    \"type\": \"object\",\n",
        "                    \"properties\": {\n",
        "                        \"location\": {\n",
        "                            \"type\": \"string\",\n",
        "                            \"description\": \"The city and state, e.g. San Francisco, CA\",\n",
        "                        }\n",
        "                    },\n",
        "                    \"required\": [\"location\"],\n",
        "                },\n",
        "            )\n",
        "        ),\n",
        "        Tool(\n",
        "            function=Function(\n",
        "                name=\"convert_temperature\",\n",
        "                description=\"Convert temperature\",\n",
        "                parameters={\n",
        "                    \"type\": \"object\",\n",
        "                    \"properties\": {\n",
        "                        \"temperature\": {\n",
        "                            \"type\": \"number\",\n",
        "                            \"description\": \"The temperature to convert\",\n",
        "                        },\n",
        "                        \"from_unit\": {\n",
        "                            \"type\": \"string\",\n",
        "                            \"enum\": [\"celsius\", \"fahrenheit\"],\n",
        "                            \"description\": \"The temperature unit to use. Infer this from the users location.\",\n",
        "                        },\n",
        "                        \"to_unit\": {\n",
        "                            \"type\": \"string\",\n",
        "                            \"enum\": [\"celsius\", \"fahrenheit\"],\n",
        "                            \"description\": \"The temperature unit to use. Infer this from the users location.\",\n",
        "                        },\n",
        "                    },\n",
        "                    \"required\": [\"temperature\", \"from_unit\", \"to_unit\"],\n",
        "                },\n",
        "            )\n",
        "        )\n",
        "    ],\n",
        "    messages=[\n",
        "        UserMessage(content=\"What's the weather like today in Paris? Also convert it to fahrenheit?\"),\n",
        "    ],\n",
        ")\n",
        "\n",
        "tokens = tokenizer.encode_chat_completion(completion_request).tokens\n",
        "\n",
        "out_tokens, _ = generate([tokens], model, max_tokens=256, temperature=0.0, eos_id=tokenizer.instruct_tokenizer.tokenizer.eos_id)\n",
        "result = tokenizer.instruct_tokenizer.tokenizer.decode(out_tokens[0])\n",
        "\n",
        "print(result)\n"
      ],
      "metadata": {
        "colab": {
          "base_uri": "https://localhost:8080/"
        },
        "id": "01fP22gb9VSC",
        "outputId": "5411d32b-19ec-47e5-b5c6-80801e783274"
      },
      "execution_count": null,
      "outputs": [
        {
          "output_type": "stream",
          "name": "stdout",
          "text": [
            "[{\"name\": \"get_current_temperature\", \"arguments\": {\"location\": \"Paris\"}}], [{\"name\": \"convert_temperature\", \"arguments\": {\"temperature\": \"$(get_current_temperature.result)\", \"from_unit\": \"celsius\", \"to_unit\": \"fahrenheit\"}}]\n"
          ]
        }
      ]
    },
    {
      "cell_type": "markdown",
      "source": [
        "## Okay, it seems it can understand, but running it multiple times yields different responses. Let’s add a bit of a system message to get more consistent responses. 🤓\n",
        "\n",
        "Also, I noticed that sometimes the JSON response is not proper, so I’ve added that into the system message as well."
      ],
      "metadata": {
        "id": "Dk5ZMzmvX3BI"
      }
    },
    {
      "cell_type": "code",
      "source": [
        "completion_request = ChatCompletionRequest(\n",
        "    tools=[\n",
        "        Tool(\n",
        "            function=Function(\n",
        "                name=\"get_current_temperature\",\n",
        "                description=\"Get the current temperature in celsius\",\n",
        "                parameters={\n",
        "                    \"type\": \"object\",\n",
        "                    \"properties\": {\n",
        "                        \"location\": {\n",
        "                            \"type\": \"string\",\n",
        "                            \"description\": \"The city and state, e.g. San Francisco, CA\",\n",
        "                        }\n",
        "                    },\n",
        "                    \"required\": [\"location\"],\n",
        "                },\n",
        "            )\n",
        "        ),\n",
        "        Tool(\n",
        "            function=Function(\n",
        "                name=\"convert_temperature\",\n",
        "                description=\"Convert temperature\",\n",
        "                parameters={\n",
        "                    \"type\": \"object\",\n",
        "                    \"properties\": {\n",
        "                        \"temperature\": {\n",
        "                            \"type\": \"number\",\n",
        "                            \"description\": \"The temperature to convert\",\n",
        "                        },\n",
        "                        \"from_unit\": {\n",
        "                            \"type\": \"string\",\n",
        "                            \"enum\": [\"celsius\", \"fahrenheit\"],\n",
        "                            \"description\": \"The temperature unit to use. Infer this from the users location.\",\n",
        "                        },\n",
        "                        \"to_unit\": {\n",
        "                            \"type\": \"string\",\n",
        "                            \"enum\": [\"celsius\", \"fahrenheit\"],\n",
        "                            \"description\": \"The temperature unit to use. Infer this from the users location.\",\n",
        "                        },\n",
        "                    },\n",
        "                    \"required\": [\"temperature\", \"from_unit\", \"to_unit\"],\n",
        "                },\n",
        "            )\n",
        "        )\n",
        "    ],\n",
        "    messages=[\n",
        "        SystemMessage(content=\"You are a helpful assistant. Your job is to select tools relevant to the user query. In the case of multiple tools, if the tools are dependent on each other, and one tool's input parameters come from another function, use @ followed by the function name for the parameter value. Remember you response type is List[Dict<String, Any>].\"),\n",
        "        UserMessage(content=\"What's the weather like today in Paris? Also convert it to fahrenheit?\"),\n",
        "    ],\n",
        ")\n",
        "\n",
        "tokens = tokenizer.encode_chat_completion(completion_request).tokens\n",
        "\n",
        "out_tokens, _ = generate([tokens], model, max_tokens=128, temperature=0.0, eos_id=tokenizer.instruct_tokenizer.tokenizer.eos_id)\n",
        "result = tokenizer.instruct_tokenizer.tokenizer.decode(out_tokens[0])\n",
        "\n",
        "json.loads(result)\n"
      ],
      "metadata": {
        "colab": {
          "base_uri": "https://localhost:8080/"
        },
        "id": "8XuBjDns4uTu",
        "outputId": "acd66d73-ff2a-484a-bd17-97c0e6304234"
      },
      "execution_count": null,
      "outputs": [
        {
          "output_type": "execute_result",
          "data": {
            "text/plain": [
              "[{'name': 'get_current_temperature',\n",
              "  'arguments': {'location': 'Paris, France'}},\n",
              " {'name': 'convert_temperature',\n",
              "  'arguments': {'temperature': '@get_current_temperature.result',\n",
              "   'from_unit': 'celsius',\n",
              "   'to_unit': 'fahrenheit'}}]"
            ]
          },
          "metadata": {},
          "execution_count": 12
        }
      ]
    },
    {
      "cell_type": "markdown",
      "source": [
        "## 😎 More Complexity: I've noticed OpenAI doesn't perform well when more than two functions are needed. Let's test it with additional functions."
      ],
      "metadata": {
        "id": "S12VyiVBJwhl"
      }
    },
    {
      "cell_type": "code",
      "source": [
        "tools=[\n",
        "        Tool(\n",
        "            function=Function(\n",
        "                name=\"get_current_temperature\",\n",
        "                description=\"Get the current temperature in celsius\",\n",
        "                parameters={\n",
        "                    \"type\": \"object\",\n",
        "                    \"properties\": {\n",
        "                        \"location\": {\n",
        "                            \"type\": \"string\",\n",
        "                            \"description\": \"The city and state, e.g. San Francisco, CA\",\n",
        "                        }\n",
        "                    },\n",
        "                    \"required\": [\"location\"],\n",
        "                },\n",
        "            )\n",
        "        ),\n",
        "        Tool(\n",
        "            function=Function(\n",
        "                name=\"convert_temperature\",\n",
        "                description=\"Convert temperature\",\n",
        "                parameters={\n",
        "                    \"type\": \"object\",\n",
        "                    \"properties\": {\n",
        "                        \"temperature\": {\n",
        "                            \"type\": \"number\",\n",
        "                            \"description\": \"The temperature to convert\",\n",
        "                        },\n",
        "                        \"from_unit\": {\n",
        "                            \"type\": \"string\",\n",
        "                            \"enum\": [\"celsius\", \"fahrenheit\"],\n",
        "                            \"description\": \"The temperature unit to use. Infer this from the users location.\",\n",
        "                        },\n",
        "                        \"to_unit\": {\n",
        "                            \"type\": \"string\",\n",
        "                            \"enum\": [\"celsius\", \"fahrenheit\"],\n",
        "                            \"description\": \"The temperature unit to use. Infer this from the users location.\",\n",
        "                        },\n",
        "                    },\n",
        "                    \"required\": [\"temperature\", \"from_unit\", \"to_unit\"],\n",
        "                },\n",
        "            )\n",
        "        ),\n",
        "        Tool(\n",
        "            function=Function(\n",
        "                name=\"adjust_air_conditioner\",\n",
        "                description=\"Adjust the air conditioner based on the temperature\",\n",
        "                parameters={\n",
        "                    \"type\": \"object\",\n",
        "                    \"properties\": {\n",
        "                        \"temperature\": {\n",
        "                            \"type\": \"number\",\n",
        "                            \"description\": \"The temperature in fahrenheit to set the air conditioner\",\n",
        "                        },\n",
        "                    },\n",
        "                    \"required\": [\"temperature\"],\n",
        "                },\n",
        "            )\n",
        "        ),\n",
        "        Tool(\n",
        "            function=Function(\n",
        "                name=\"email_temperature\",\n",
        "                description=\"Email the temperature to the home owner\",\n",
        "                parameters={\n",
        "                    \"type\": \"object\",\n",
        "                    \"properties\": {\n",
        "                        \"email\": {\n",
        "                            \"type\": \"string\",\n",
        "                            \"description\": \"The email address to send the temperature to\",\n",
        "                        },\n",
        "                        \"temperature\": {\n",
        "                            \"type\": \"number\",\n",
        "                            \"description\": \"The temperature in fahrenheit to email\",\n",
        "                        },\n",
        "                    },\n",
        "                    \"required\": [\"email\", \"temperature\"],\n",
        "                },\n",
        "            )\n",
        "        ),\n",
        "    ]\n",
        "\n",
        "completion_request = ChatCompletionRequest(\n",
        "    tools=tools,\n",
        "    messages=[\n",
        "        SystemMessage(content=\"You are a helpful assistant. Your job is to select tools relevant to the user query. In the case of multiple tools, if the tools are dependent on each other, and one tool's input parameters come from another function, use @ followed by the function name for the parameter value. Remember you response type is List[Dict<String, Any>].\"),\n",
        "        UserMessage(content=\"What's the weather like today in Paris? Also convert it to fahrenheit, email this converted  temperature to the home owner (tom@unclecode.com), then use it to adjust the air conditioner.\"),\n",
        "    ],\n",
        ")\n",
        "\n",
        "tokens = tokenizer.encode_chat_completion(completion_request).tokens\n",
        "\n",
        "out_tokens, _ = generate([tokens], model, max_tokens=256, temperature=0.0, eos_id=tokenizer.instruct_tokenizer.tokenizer.eos_id)\n",
        "result = tokenizer.instruct_tokenizer.tokenizer.decode(out_tokens[0])\n",
        "\n",
        "json.loads(result)\n"
      ],
      "metadata": {
        "colab": {
          "base_uri": "https://localhost:8080/"
        },
        "id": "asUpBk2IJwPU",
        "outputId": "a36b11b0-16a0-4de2-d382-6d528037a57b"
      },
      "execution_count": null,
      "outputs": [
        {
          "output_type": "execute_result",
          "data": {
            "text/plain": [
              "[{'name': 'get_current_temperature',\n",
              "  'arguments': {'location': 'Paris, France'}},\n",
              " {'name': 'convert_temperature',\n",
              "  'arguments': {'temperature': '@get_current_temperature.result',\n",
              "   'from_unit': 'celsius',\n",
              "   'to_unit': 'fahrenheit'}},\n",
              " {'name': 'email_temperature',\n",
              "  'arguments': {'email': 'tom@unclecode.com',\n",
              "   'temperature': '@convert_temperature.result'}},\n",
              " {'name': 'adjust_air_conditioner',\n",
              "  'arguments': {'temperature': '@convert_temperature.result'}}]"
            ]
          },
          "metadata": {},
          "execution_count": 17
        }
      ]
    },
    {
      "cell_type": "markdown",
      "source": [
        "## Nicely done! Let's really push hard and see if we can break it! 🤔 This time, I challenge its context-awareness and reasoning."
      ],
      "metadata": {
        "id": "QjpDm0uRLGR3"
      }
    },
    {
      "cell_type": "code",
      "source": [
        "completion_request = ChatCompletionRequest(\n",
        "    tools=tools,\n",
        "    messages=[\n",
        "        SystemMessage(content=\"You are a helpful assistant. Your job is to select tools relevant to the user query. In the case of multiple tools, if the tools are dependent on each other, and one tool's input parameters come from another function, use @ followed by the function name for the parameter value. Remember you response type is List[Dict<String, Any>].\"),\n",
        "        UserMessage(content=\"What's the weather like today in Paris? Also convert it to fahrenheit, email the initial temperature in celsius to the home owner (tom@unclecode.com), then use the fahrenheit to adjust the air conditioner.\"),\n",
        "    ],\n",
        ")\n",
        "\n",
        "tokens = tokenizer.encode_chat_completion(completion_request).tokens\n",
        "out_tokens, _ = generate([tokens], model, max_tokens=256, temperature=0.0, eos_id=tokenizer.instruct_tokenizer.tokenizer.eos_id)\n",
        "result = tokenizer.instruct_tokenizer.tokenizer.decode(out_tokens[0])\n",
        "\n",
        "json.loads(result)"
      ],
      "metadata": {
        "colab": {
          "base_uri": "https://localhost:8080/"
        },
        "id": "P15z-jQDLJDA",
        "outputId": "3f21e5f2-f538-4f56-fe29-b38ffd5a0afc"
      },
      "execution_count": null,
      "outputs": [
        {
          "output_type": "execute_result",
          "data": {
            "text/plain": [
              "[{'name': 'get_current_temperature', 'arguments': {'location': 'Paris'}},\n",
              " {'name': 'convert_temperature',\n",
              "  'arguments': {'temperature': '@get_current_temperature.result',\n",
              "   'from_unit': 'celsius',\n",
              "   'to_unit': 'fahrenheit'}},\n",
              " {'name': 'email_temperature',\n",
              "  'arguments': {'email': 'tom@unclecode.com',\n",
              "   'temperature': '@get_current_temperature.result'}},\n",
              " {'name': 'adjust_air_conditioner',\n",
              "  'arguments': {'temperature': '@convert_temperature.result'}}]"
            ]
          },
          "metadata": {},
          "execution_count": 18
        }
      ]
    },
    {
      "cell_type": "markdown",
      "source": [
        "## Again, Nicely done! Okay I wanna go for a crazy one. 😈"
      ],
      "metadata": {
        "id": "4fLhVTn9Mh1W"
      }
    },
    {
      "cell_type": "code",
      "source": [
        "tools = [\n",
        "        Tool(\n",
        "            function=Function(\n",
        "                name=\"sin\",\n",
        "                description=\"Calculate the sine of a number\",\n",
        "                parameters={\n",
        "                    \"type\": \"object\",\n",
        "                    \"properties\": {\n",
        "                        \"value\": {\n",
        "                            \"type\": \"number\",\n",
        "                            \"description\": \"The value to calculate the sine of\",\n",
        "                        }\n",
        "                    },\n",
        "                    \"required\": [\"value\"],\n",
        "                },\n",
        "            )\n",
        "        ),\n",
        "        Tool(\n",
        "            function=Function(\n",
        "                name=\"cos\",\n",
        "                description=\"Calculate the cosine of a number\",\n",
        "                parameters={\n",
        "                    \"type\": \"object\",\n",
        "                    \"properties\": {\n",
        "                        \"value\": {\n",
        "                            \"type\": \"number\",\n",
        "                            \"description\": \"The value to calculate the cosine of\",\n",
        "                        }\n",
        "                    },\n",
        "                    \"required\": [\"value\"],\n",
        "                },\n",
        "            )\n",
        "        ),\n",
        "        Tool(\n",
        "            function=Function(\n",
        "                name=\"exp\",\n",
        "                description=\"Calculate the exponential of a number\",\n",
        "                parameters={\n",
        "                    \"type\": \"object\",\n",
        "                    \"properties\": {\n",
        "                        \"value\": {\n",
        "                            \"type\": \"number\",\n",
        "                            \"description\": \"The value to calculate the exponential of\",\n",
        "                        }\n",
        "                    },\n",
        "                    \"required\": [\"value\"],\n",
        "                },\n",
        "            )\n",
        "        ),\n",
        "        Tool(\n",
        "            function=Function(\n",
        "                name=\"pow\",\n",
        "                description=\"Calculate the power of a number\",\n",
        "                parameters={\n",
        "                    \"type\": \"object\",\n",
        "                    \"properties\": {\n",
        "                        \"base\": {\n",
        "                            \"type\": \"number\",\n",
        "                            \"description\": \"The base value\",\n",
        "                        },\n",
        "                        \"exponent\": {\n",
        "                            \"type\": \"number\",\n",
        "                            \"description\": \"The exponent value\",\n",
        "                        },\n",
        "                    },\n",
        "                    \"required\": [\"base\", \"exponent\"],\n",
        "                },\n",
        "            )\n",
        "        ),\n",
        "    ]\n",
        "completion_request = ChatCompletionRequest(\n",
        "    tools=tools,\n",
        "    messages=[\n",
        "        SystemMessage(content=\"You are a helpful assistant. Your job is to select tools relevant to the user query. In the case of multiple tools, if the tools are dependent on each other, and one tool's input parameters come from another function, use @ followed by the function name for the parameter value. Remember you response type is List[Dict<String, Any>].\"),\n",
        "        UserMessage(content=\"Calculate the result of pow( (sin(exp(10)) + cos(pow(2, 3))) , 4) + exp(10). Make sure break it done properly an duse all available tools. Response only JSON, make sure the order matches with the mathematical priority order.\"),\n",
        "    ],\n",
        ")\n",
        "\n",
        "tokens = tokenizer.encode_chat_completion(completion_request).tokens\n",
        "out_tokens, _ = generate([tokens], model, max_tokens=256, temperature=0.0, eos_id=tokenizer.instruct_tokenizer.tokenizer.eos_id)\n",
        "result = tokenizer.instruct_tokenizer.tokenizer.decode(out_tokens[0])\n",
        "\n",
        "# json.loads(result)\n",
        "print(result)\n"
      ],
      "metadata": {
        "colab": {
          "base_uri": "https://localhost:8080/"
        },
        "id": "CwOhlJkWMwCE",
        "outputId": "1f77d250-1288-44d1-b334-3f4fda8af76b"
      },
      "execution_count": null,
      "outputs": [
        {
          "output_type": "stream",
          "name": "stdout",
          "text": [
            "[\n",
            "  {\n",
            "    \"name\": \"exp\",\n",
            "    \"arguments\": {\"value\": 10}\n",
            "  },\n",
            "  {\n",
            "    \"name\": \"sin\",\n",
            "    \"arguments\": {\"value\": \"@result_of_exp\"}\n",
            "  },\n",
            "  {\n",
            "    \"name\": \"cos\",\n",
            "    \"arguments\": {\"value\": \"@result_of_pow_2_3\"}\n",
            "  },\n",
            "  {\n",
            "    \"name\": \"pow\",\n",
            "    \"arguments\": {\"base\": \"@result_of_sin\", \"exponent\": 4}\n",
            "  },\n",
            "  {\n",
            "    \"name\": \"pow\",\n",
            "    \"arguments\": {\"base\": \"@result_of_sum\", \"exponent\": 4}\n",
            "  },\n",
            "  {\n",
            "    \"name\": \"pow\",\n",
            "    \"arguments\": {\"base\": 2, \"exponent\": 3}\n",
            "  },\n",
            "  {\n",
            "    \"name\": \"add\",\n",
            "    \"arguments\": {\"value1\": \"@result_of_sin\", \"value2\": \"@result_of_cos\"}\n",
            "  },\n",
            "  {\n",
            "    \"name\": \"exp\",\n",
            "    \"arguments\": {\"value\": 10\n"
          ]
        }
      ]
    },
    {
      "cell_type": "markdown",
      "source": [
        "## Well, honestly not bad. This definitely needs a bit more fine-tuning. I'm trying to come up with more weird and tricky examples, then generate a synthetic dataset and fine-tune 😅. Please stay tuned."
      ],
      "metadata": {
        "id": "U5BDgwPxXJxY"
      }
    },
    {
      "cell_type": "markdown",
      "source": [
        "## One more thing, before we end, let's try OpenAI as well."
      ],
      "metadata": {
        "id": "dZxu7lpdb0xq"
      }
    },
    {
      "cell_type": "code",
      "source": [
        "%%capture\n",
        "!pip install openai"
      ],
      "metadata": {
        "id": "_Ft92dLuauY_"
      },
      "execution_count": null,
      "outputs": []
    },
    {
      "cell_type": "code",
      "source": [
        "from openai import OpenAI\n",
        "from google.colab import userdata\n",
        "dict_tools = [t.model_dump() for t in tools]\n",
        "client = OpenAI(api_key=userdata.get('OPENAI_API_KEY'))\n",
        "\n",
        "messages=[\n",
        "        # {'role': 'system','content': \"You are a helpful assistant. Your job is to select tools relevant to the user query. In the case of multiple tools, if the tools are dependent on each other, and one tool's input parameters come from another function, use @ followed by the function name for the parameter value. Remember you response type is List[Dict<String, Any>].\"},\n",
        "        {'role': 'user','content':\"Calculate the result of pow( (sin(exp(10)) + cos(pow(2, 3))) , 4) + exp(10). Make sure break it done properly an duse all available tools. Response only JSON, make sure the order matches with the mathematical priority order.\"}\n",
        "]"
      ],
      "metadata": {
        "id": "F-2ZslZZafn0"
      },
      "execution_count": null,
      "outputs": []
    },
    {
      "cell_type": "code",
      "source": [
        "response = client.chat.completions.create(\n",
        "    model = \"gpt-4o\",\n",
        "    messages = messages,\n",
        "    tool_choice=\"required\",\n",
        "    tools=dict_tools\n",
        ")"
      ],
      "metadata": {
        "id": "Gm19pqQsa_N8"
      },
      "execution_count": null,
      "outputs": []
    },
    {
      "cell_type": "code",
      "source": [
        "response.choices[0].message"
      ],
      "metadata": {
        "colab": {
          "base_uri": "https://localhost:8080/"
        },
        "id": "HTBYtKfPbV5H",
        "outputId": "3d0b33cc-7120-4f02-ec83-7e3a597b5136"
      },
      "execution_count": null,
      "outputs": [
        {
          "output_type": "execute_result",
          "data": {
            "text/plain": [
              "ChatCompletionMessage(content=None, role='assistant', function_call=None, tool_calls=[ChatCompletionMessageToolCall(id='call_Vs5qjLoUSVsabga3LGjx2iH9', function=Function(arguments='{\"value\": 10}', name='exp'), type='function'), ChatCompletionMessageToolCall(id='call_Gr2usuJMUgaeg8KQ3kucdLk4', function=Function(arguments='{\"base\": 2, \"exponent\": 3}', name='pow'), type='function')])"
            ]
          },
          "metadata": {},
          "execution_count": 40
        }
      ]
    },
    {
      "cell_type": "code",
      "source": [
        "response = client.chat.completions.create(\n",
        "    model = \"gpt-4o\",\n",
        "    messages = messages,\n",
        "    tools=dict_tools\n",
        ")"
      ],
      "metadata": {
        "id": "1QMoji_DbYQb"
      },
      "execution_count": null,
      "outputs": []
    },
    {
      "cell_type": "code",
      "source": [
        "response.choices[0].message"
      ],
      "metadata": {
        "colab": {
          "base_uri": "https://localhost:8080/"
        },
        "id": "dgpT-mBDbsLv",
        "outputId": "c3c58a2a-f66f-4797-9307-92f016591eb3"
      },
      "execution_count": null,
      "outputs": [
        {
          "output_type": "execute_result",
          "data": {
            "text/plain": [
              "ChatCompletionMessage(content=None, role='assistant', function_call=None, tool_calls=[ChatCompletionMessageToolCall(id='call_u3JEHnqTxAZZBAdt9EixtcRc', function=Function(arguments='{\"value\":10}', name='exp'), type='function')])"
            ]
          },
          "metadata": {},
          "execution_count": 42
        }
      ]
    },
    {
      "cell_type": "markdown",
      "source": [
        "## 🤨🤨🤨"
      ],
      "metadata": {
        "id": "aVtz13IEcSyu"
      }
    },
    {
      "cell_type": "markdown",
      "source": [
        "## Well, I know OpenAI doesn't perform well when you need more than two tools. One way to handle this is to wrap everything into one function. Anyway, I keep liking Mistral v0.3 more and more. Let's see how it turns out after fine-tuning."
      ],
      "metadata": {
        "id": "5n2ZbgyIb-Ie"
      }
    },
    {
      "cell_type": "code",
      "source": [],
      "metadata": {
        "id": "Nmv7JpJMcQgK"
      },
      "execution_count": null,
      "outputs": []
    }
  ]
}