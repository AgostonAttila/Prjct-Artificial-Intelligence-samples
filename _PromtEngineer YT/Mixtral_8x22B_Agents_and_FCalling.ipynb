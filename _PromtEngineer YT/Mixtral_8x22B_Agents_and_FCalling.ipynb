{
  "nbformat": 4,
  "nbformat_minor": 0,
  "metadata": {
    "colab": {
      "provenance": []
    },
    "kernelspec": {
      "name": "python3",
      "display_name": "Python 3"
    },
    "language_info": {
      "name": "python"
    }
  },
  "cells": [
    {
      "cell_type": "code",
      "execution_count": null,
      "metadata": {
        "colab": {
          "base_uri": "https://localhost:8080/"
        },
        "id": "Zib3r5vCmiP2",
        "outputId": "085975af-1350-4a9d-dc9b-f78678843dcf"
      },
      "outputs": [
        {
          "output_type": "stream",
          "name": "stdout",
          "text": [
            "\u001b[2K     \u001b[90m━━━━━━━━━━━━━━━━━━━━━━━━━━━━━━━━━━━━━━━━\u001b[0m \u001b[32m75.0/75.0 kB\u001b[0m \u001b[31m4.8 MB/s\u001b[0m eta \u001b[36m0:00:00\u001b[0m\n",
            "\u001b[2K     \u001b[90m━━━━━━━━━━━━━━━━━━━━━━━━━━━━━━━━━━━━━━━━\u001b[0m \u001b[32m141.1/141.1 kB\u001b[0m \u001b[31m10.5 MB/s\u001b[0m eta \u001b[36m0:00:00\u001b[0m\n",
            "\u001b[?25hRequirement already satisfied: mistralai in /usr/local/lib/python3.10/dist-packages (0.1.8)\n",
            "Requirement already satisfied: pypdf in /usr/local/lib/python3.10/dist-packages (4.2.0)\n",
            "Requirement already satisfied: httpx<0.26.0,>=0.25.2 in /usr/local/lib/python3.10/dist-packages (from mistralai) (0.25.2)\n",
            "Requirement already satisfied: orjson<4.0.0,>=3.9.10 in /usr/local/lib/python3.10/dist-packages (from mistralai) (3.10.1)\n",
            "Requirement already satisfied: pydantic<3.0.0,>=2.5.2 in /usr/local/lib/python3.10/dist-packages (from mistralai) (2.6.4)\n",
            "Requirement already satisfied: typing_extensions>=4.0 in /usr/local/lib/python3.10/dist-packages (from pypdf) (4.11.0)\n",
            "Requirement already satisfied: anyio in /usr/local/lib/python3.10/dist-packages (from httpx<0.26.0,>=0.25.2->mistralai) (3.7.1)\n",
            "Requirement already satisfied: certifi in /usr/local/lib/python3.10/dist-packages (from httpx<0.26.0,>=0.25.2->mistralai) (2024.2.2)\n",
            "Requirement already satisfied: httpcore==1.* in /usr/local/lib/python3.10/dist-packages (from httpx<0.26.0,>=0.25.2->mistralai) (1.0.5)\n",
            "Requirement already satisfied: idna in /usr/local/lib/python3.10/dist-packages (from httpx<0.26.0,>=0.25.2->mistralai) (3.6)\n",
            "Requirement already satisfied: sniffio in /usr/local/lib/python3.10/dist-packages (from httpx<0.26.0,>=0.25.2->mistralai) (1.3.1)\n",
            "Requirement already satisfied: h11<0.15,>=0.13 in /usr/local/lib/python3.10/dist-packages (from httpcore==1.*->httpx<0.26.0,>=0.25.2->mistralai) (0.14.0)\n",
            "Requirement already satisfied: annotated-types>=0.4.0 in /usr/local/lib/python3.10/dist-packages (from pydantic<3.0.0,>=2.5.2->mistralai) (0.6.0)\n",
            "Requirement already satisfied: pydantic-core==2.16.3 in /usr/local/lib/python3.10/dist-packages (from pydantic<3.0.0,>=2.5.2->mistralai) (2.16.3)\n",
            "Requirement already satisfied: exceptiongroup in /usr/local/lib/python3.10/dist-packages (from anyio->httpx<0.26.0,>=0.25.2->mistralai) (1.2.0)\n"
          ]
        }
      ],
      "source": [
        "!pip install -q llama-index-core\n",
        "!pip install -q llama-index-embeddings-mistralai\n",
        "!pip install -q llama-index-llms-mistralai\n",
        "!pip install -q llama-index-readers-file\n",
        "!pip install mistralai pypdf"
      ]
    },
    {
      "cell_type": "code",
      "source": [
        "\n",
        "import nest_asyncio\n",
        "\n",
        "nest_asyncio.apply()\n",
        "\n",
        "import os"
      ],
      "metadata": {
        "id": "8AlH4-GanAVH"
      },
      "execution_count": null,
      "outputs": []
    },
    {
      "cell_type": "code",
      "source": [
        "from llama_index.llms.mistralai import MistralAI\n",
        "from llama_index.embeddings.mistralai import MistralAIEmbedding\n",
        "from llama_index.core import Settings"
      ],
      "metadata": {
        "id": "rgzVkX-JnEN2"
      },
      "execution_count": null,
      "outputs": []
    },
    {
      "cell_type": "code",
      "source": [
        "from google.colab import userdata\n",
        "\n",
        "os.environ[\"MISTRAL_API_KEY\"] = userdata.get('MISTRAL_API_KEY')"
      ],
      "metadata": {
        "id": "0U5PtkxRoltB"
      },
      "execution_count": null,
      "outputs": []
    },
    {
      "cell_type": "code",
      "source": [
        "llm = MistralAI(model=\"open-mixtral-8x22b\", temperature=0.1)\n",
        "embed_model = MistralAIEmbedding(model_name=\"mistral-embed\")\n",
        "\n",
        "Settings.llm = llm\n",
        "Settings.embed_model = embed_model"
      ],
      "metadata": {
        "id": "YV6N_sJYnG4n"
      },
      "execution_count": null,
      "outputs": []
    },
    {
      "cell_type": "markdown",
      "source": [
        "### Download Data\n",
        "We will use Uber-2021 and Lyft-2021 10K SEC filings."
      ],
      "metadata": {
        "id": "VfhBdqdKoyw9"
      }
    },
    {
      "cell_type": "code",
      "source": [
        "!wget 'https://raw.githubusercontent.com/run-llama/llama_index/main/docs/docs/examples/data/10k/uber_2021.pdf' -O './uber_2021.pdf'\n",
        "!wget 'https://raw.githubusercontent.com/run-llama/llama_index/main/docs/docs/examples/data/10k/lyft_2021.pdf' -O './lyft_2021.pdf'"
      ],
      "metadata": {
        "colab": {
          "base_uri": "https://localhost:8080/"
        },
        "id": "QxPJOiD5ovZt",
        "outputId": "b3042f83-6b3e-4132-b7fa-1ebd04a94a35"
      },
      "execution_count": null,
      "outputs": [
        {
          "output_type": "stream",
          "name": "stdout",
          "text": [
            "--2024-04-17 19:58:36--  https://raw.githubusercontent.com/run-llama/llama_index/main/docs/docs/examples/data/10k/uber_2021.pdf\n",
            "Resolving raw.githubusercontent.com (raw.githubusercontent.com)... 185.199.109.133, 185.199.111.133, 185.199.108.133, ...\n",
            "Connecting to raw.githubusercontent.com (raw.githubusercontent.com)|185.199.109.133|:443... connected.\n",
            "HTTP request sent, awaiting response... 200 OK\n",
            "Length: 1880483 (1.8M) [application/octet-stream]\n",
            "Saving to: ‘./uber_2021.pdf’\n",
            "\n",
            "./uber_2021.pdf     100%[===================>]   1.79M  --.-KB/s    in 0.04s   \n",
            "\n",
            "2024-04-17 19:58:37 (47.2 MB/s) - ‘./uber_2021.pdf’ saved [1880483/1880483]\n",
            "\n",
            "--2024-04-17 19:58:37--  https://raw.githubusercontent.com/run-llama/llama_index/main/docs/docs/examples/data/10k/lyft_2021.pdf\n",
            "Resolving raw.githubusercontent.com (raw.githubusercontent.com)... 185.199.111.133, 185.199.109.133, 185.199.110.133, ...\n",
            "Connecting to raw.githubusercontent.com (raw.githubusercontent.com)|185.199.111.133|:443... connected.\n",
            "HTTP request sent, awaiting response... 200 OK\n",
            "Length: 1440303 (1.4M) [application/octet-stream]\n",
            "Saving to: ‘./lyft_2021.pdf’\n",
            "\n",
            "./lyft_2021.pdf     100%[===================>]   1.37M  --.-KB/s    in 0.04s   \n",
            "\n",
            "2024-04-17 19:58:37 (34.3 MB/s) - ‘./lyft_2021.pdf’ saved [1440303/1440303]\n",
            "\n"
          ]
        }
      ]
    },
    {
      "cell_type": "markdown",
      "source": [
        "### Load the Data\n"
      ],
      "metadata": {
        "id": "XOc2_WWcpApw"
      }
    },
    {
      "cell_type": "code",
      "source": [
        "from llama_index.core import SimpleDirectoryReader\n",
        "\n",
        "uber_docs = SimpleDirectoryReader(input_files=[\"./uber_2021.pdf\"]).load_data()\n",
        "lyft_docs = SimpleDirectoryReader(input_files=[\"./lyft_2021.pdf\"]).load_data()"
      ],
      "metadata": {
        "id": "E19XiPXyo8Kt"
      },
      "execution_count": null,
      "outputs": []
    },
    {
      "cell_type": "code",
      "source": [
        "# uber_docs"
      ],
      "metadata": {
        "id": "R378Q6wppNxb"
      },
      "execution_count": null,
      "outputs": []
    },
    {
      "cell_type": "markdown",
      "source": [
        "### Build RAG on uber and lyft docs\n",
        "\n",
        "Separte Vector Stores for both companies\n"
      ],
      "metadata": {
        "id": "vdFHRojypLIX"
      }
    },
    {
      "cell_type": "code",
      "source": [
        "from llama_index.core import VectorStoreIndex\n",
        "\n",
        "uber_index = VectorStoreIndex.from_documents(uber_docs)\n",
        "uber_query_engine = uber_index.as_query_engine(similarity_top_k=5)\n",
        "\n",
        "lyft_index = VectorStoreIndex.from_documents(lyft_docs)\n",
        "lyft_query_engine = lyft_index.as_query_engine(similarity_top_k=5)"
      ],
      "metadata": {
        "id": "EtL9otPcpDhm"
      },
      "execution_count": null,
      "outputs": []
    },
    {
      "cell_type": "markdown",
      "source": [
        "#### Ask questions"
      ],
      "metadata": {
        "id": "hqMpS4yppyvQ"
      }
    },
    {
      "cell_type": "code",
      "source": [
        "response = uber_query_engine.query(\"What is the revenue of uber in 2021?\")\n",
        "print(response)"
      ],
      "metadata": {
        "colab": {
          "base_uri": "https://localhost:8080/"
        },
        "id": "tERi27cspj0G",
        "outputId": "ccaf4252-7915-43b4-c454-b7803f0c0c13"
      },
      "execution_count": null,
      "outputs": [
        {
          "output_type": "stream",
          "name": "stdout",
          "text": [
            "Uber's revenue in 2021 was $17,455 million.\n"
          ]
        }
      ]
    },
    {
      "cell_type": "code",
      "source": [
        "# response"
      ],
      "metadata": {
        "id": "7bsgC-iKp2wz"
      },
      "execution_count": null,
      "outputs": []
    },
    {
      "cell_type": "code",
      "source": [
        "response = lyft_query_engine.query(\"What are lyft investments in 2021?\")\n",
        "print(response)"
      ],
      "metadata": {
        "colab": {
          "base_uri": "https://localhost:8080/"
        },
        "id": "L607S2oHp025",
        "outputId": "f7e3b87b-4e4d-4193-daf3-e6d6824445b5"
      },
      "execution_count": null,
      "outputs": [
        {
          "output_type": "stream",
          "name": "stdout",
          "text": [
            "In 2021, Lyft invested in various areas to improve its services and expand its offerings. These investments include:\n",
            "\n",
            "1. Expansion of Light Vehicles and Lyft Autonomous: Lyft continued to invest in the expansion of its network of Light Vehicles and Lyft Autonomous, focusing on the deployment and scaling of third-party self-driving technology on the Lyft network.\n",
            "\n",
            "2. Improving Driver Experience: Lyft invested in its Express Drive program, which provides drivers with access to rental cars for ridesharing. The company also invested in its Driver Centers, Mobile Services, and related partnerships to offer drivers affordable and convenient vehicle maintenance services.\n",
            "\n",
            "3. Marketplace Technology: Lyft invested in its proprietary technology to deliver a convenient and high-quality experience to drivers and riders. These investments included mapping, routing, payments, in-app navigation, matching technologies, and data science.\n",
            "\n",
            "4. M&A and Strategic Partnerships: In 2021, Lyft continued to selectively consider acquisitions that contribute to the growth of its current business, help it expand into adjacent markets, or add new capabilities to its network. The company also built strong relationships with transportation suppliers, state and local governments, and technology solutions providers and intended to continue to pursue partnerships that contribute to its growth.\n",
            "\n",
            "5. Intellectual Property Protection: Lyft invested in a patent program to identify and protect a substantial portion of its strategic intellectual property in ridesharing, autonomous vehicle-related technology, telecommunications, networking, and other technologies relevant to its business. As of December 31, 2021, Lyft held 343 issued U.S. patents and had 310 U.S. patent applications pending.\n",
            "\n",
            "6. Brand and Growth Marketing: Lyft may make incremental investments in its brand and in growth marketing to maintain and drive increasing consumer preference for Lyft. The company may also offer discounts for first-time riders to try Lyft or provide incentives to existing riders to encourage increased ride frequency.\n",
            "\n",
            "7. Network Coverage: Lyft planned to continue to add density to its ridesharing marketplace by attracting and retaining more drivers on its network to deliver the best possible service levels. The company also evaluated ways to expand its network coverage beyond the geographies and markets\n"
          ]
        }
      ]
    },
    {
      "cell_type": "markdown",
      "source": [],
      "metadata": {
        "id": "2YKi_8KeqHNa"
      }
    },
    {
      "cell_type": "markdown",
      "source": [
        "#### FunctionCallingAgent with RAG QueryEngineTools\n",
        "\n",
        "Here we use Fuction Calling capabilities of the model. Automatically routing the query to appropriate VectorStore\n",
        "\n"
      ],
      "metadata": {
        "id": "qV3LKWrmqHmK"
      }
    },
    {
      "cell_type": "code",
      "source": [
        "from llama_index.core.tools import QueryEngineTool, ToolMetadata\n",
        "from llama_index.core.agent import FunctionCallingAgentWorker, AgentRunner\n",
        "\n"
      ],
      "metadata": {
        "id": "v9k4fVDTqUrZ"
      },
      "execution_count": null,
      "outputs": []
    },
    {
      "cell_type": "code",
      "source": [
        "query_engine_tools = [\n",
        "    QueryEngineTool(\n",
        "        query_engine=lyft_query_engine,\n",
        "        metadata=ToolMetadata(\n",
        "            name=\"lyft_10k\",\n",
        "            description=\"Provides information about Lyft financials for year 2021\",\n",
        "        ),\n",
        "    ),\n",
        "    QueryEngineTool(\n",
        "        query_engine=uber_query_engine,\n",
        "        metadata=ToolMetadata(\n",
        "            name=\"uber_10k\",\n",
        "            description=\"Provides information about Uber financials for year 2021\",\n",
        "        ),\n",
        "    ),\n",
        "]\n"
      ],
      "metadata": {
        "id": "TndMz1xQp_98"
      },
      "execution_count": null,
      "outputs": []
    },
    {
      "cell_type": "code",
      "source": [
        "agent_worker = FunctionCallingAgentWorker.from_tools(\n",
        "    query_engine_tools,\n",
        "    llm=llm,\n",
        "    verbose=True,\n",
        "    allow_parallel_tool_calls=False,\n",
        ")"
      ],
      "metadata": {
        "id": "INtkhj_Bqj4B"
      },
      "execution_count": null,
      "outputs": []
    },
    {
      "cell_type": "code",
      "source": [
        "agent = AgentRunner(agent_worker)"
      ],
      "metadata": {
        "id": "Qb0hdkKzqlol"
      },
      "execution_count": null,
      "outputs": []
    },
    {
      "cell_type": "code",
      "source": [
        "response = agent.chat(\"What is the revenue of uber in 2021.\")"
      ],
      "metadata": {
        "colab": {
          "base_uri": "https://localhost:8080/"
        },
        "id": "Qb62_LzNqmwh",
        "outputId": "eb7ff1dd-6983-408d-8532-e43a30bc29fe"
      },
      "execution_count": null,
      "outputs": [
        {
          "output_type": "stream",
          "name": "stdout",
          "text": [
            "Added user message to memory: What is the revenue of uber in 2021.\n",
            "=== Calling Function ===\n",
            "Calling function: uber_10k with args: {\"input\": \"revenue\"}\n",
            "=== Function Output ===\n",
            "Uber's revenue is primarily derived from fees paid by Mobility Drivers for using their platforms and related services to facilitate and complete Mobility services. Additionally, revenue is generated from fees paid by end-users for connection services obtained via the platform. Uber's revenue also includes immaterial revenue streams such as financial partnerships products and Vehicle Solutions.\n",
            "\n",
            "Uber's Delivery revenue is derived from Merchants' and Couriers' use of the Delivery platform and related services to facilitate and complete Delivery transactions. In certain markets where Uber is responsible for delivery services, delivery fees charged to end-users are also included in revenue. Delivery revenue also includes advertising revenue from sponsored listing fees paid by merchants and brands in exchange for advertising services.\n",
            "\n",
            "Uber's Freight revenue consists of revenue from freight transportation services provided to shippers. During the fourth quarter of 2021, Uber completed the acquisition of Transplace, and their Freight revenue also includes revenue from transportation management.\n",
            "\n",
            "All Other revenue primarily includes collaboration revenue related to Uber's Advanced Technologies Group (ATG) business and revenue from New Mobility offerings and products. ATG collaboration revenue was related to a three-year joint collaboration agreement Uber entered into in 2019. New Mobility offerings and products provided users access to rides through a variety of modes, including dockless e-bikes and e-scooters, platform incubator group offerings, and other immaterial revenue streams.\n",
            "\n",
            "Uber's revenue is presented in the following tables for the years ended December 31, 2019, 2020, and 2021, respectively (in millions):\n",
            "\n",
            "Year Ended December 31,\n",
            "2019 2020 2021\n",
            "Mobility revenue $ 10,707 $ 6,089 $ 6,953\n",
            "Delivery revenue 1,401 3,904 8,362\n",
            "Freight revenue 731 1,011 2,132\n",
            "All Other revenue 161 135 8\n",
            "Total revenue $ 13,000 $ 11,139 $ 17,455\n",
            "=== LLM Response ===\n",
            "According to the information provided, Uber's total revenue for the year 2021 was $17,455 million. This revenue is derived from various sources such as Mobility, Delivery, Freight, and All Other revenue streams. The Mobility revenue was $6,953 million, Delivery revenue was $8,362 million, Freight revenue was $2,132 million, and All Other revenue was $8 million.\n"
          ]
        }
      ]
    },
    {
      "cell_type": "code",
      "source": [
        "print(response)"
      ],
      "metadata": {
        "colab": {
          "base_uri": "https://localhost:8080/"
        },
        "id": "_Wp6sUCMqrKL",
        "outputId": "756aa59e-ad45-4a3a-c49a-03a348191601"
      },
      "execution_count": null,
      "outputs": [
        {
          "output_type": "stream",
          "name": "stdout",
          "text": [
            "assistant: According to the information provided, Uber's total revenue for the year 2021 was $17,455 million. This revenue is derived from various sources such as Mobility, Delivery, Freight, and All Other revenue streams. The Mobility revenue was $6,953 million, Delivery revenue was $8,362 million, Freight revenue was $2,132 million, and All Other revenue was $8 million.\n"
          ]
        }
      ]
    },
    {
      "cell_type": "code",
      "source": [
        "response = agent.chat(\"What are lyft investments in 2021?\")"
      ],
      "metadata": {
        "colab": {
          "base_uri": "https://localhost:8080/"
        },
        "id": "iFdRFPFvq4AK",
        "outputId": "8356cbf9-72a3-4227-b37c-b9fcf076fc5f"
      },
      "execution_count": null,
      "outputs": [
        {
          "output_type": "stream",
          "name": "stdout",
          "text": [
            "Added user message to memory: What are lyft investments in 2021?\n",
            "=== Calling Function ===\n",
            "Calling function: lyft_10k with args: {\"input\": \"investments\"}\n",
            "=== Function Output ===\n",
            "The company's investments include cash and cash equivalents, short-term investments, and restricted investments. Cash equivalents consist of certificates of deposits, commercial paper, and corporate bonds with an original maturity of 90 days or less. Short-term investments are comprised of commercial paper, certificates of deposit, and corporate bonds that mature in twelve months or less. Restricted investments are held in trust accounts at third-party financial institutions and include debt security investments in commercial paper, certificates of deposit, corporate bonds, and U.S. government securities. The company also has investments in non-marketable equity securities, which are measured at cost with remeasurements to fair value only upon the occurrence of observable transactions for identical or similar investments of the same issuer or impairment.\n",
            "=== LLM Response ===\n",
            "According to the information provided, Lyft's investments in 2021 include cash and cash equivalents, short-term investments, and restricted investments. Cash equivalents consist of certificates of deposits, commercial paper, and corporate bonds with an original maturity of 90 days or less. Short-term investments are comprised of commercial paper, certificates of deposit, and corporate bonds that mature in twelve months or less. Restricted investments are held in trust accounts at third-party financial institutions and include debt security investments in commercial paper, certificates of deposit, corporate bonds, and U.S. government securities. The company also has investments in non-marketable equity securities, which are measured at cost with remeasurements to fair value only upon the occurrence of observable transactions for identical or similar investments of the same issuer or impairment.\n"
          ]
        }
      ]
    },
    {
      "cell_type": "code",
      "source": [
        "print(response)"
      ],
      "metadata": {
        "colab": {
          "base_uri": "https://localhost:8080/"
        },
        "id": "GLU8Se6Lq-r5",
        "outputId": "fed3d7fe-d426-4602-c097-808227e351cc"
      },
      "execution_count": null,
      "outputs": [
        {
          "output_type": "stream",
          "name": "stdout",
          "text": [
            "assistant: According to the information provided, Lyft's investments in 2021 include cash and cash equivalents, short-term investments, and restricted investments. Cash equivalents consist of certificates of deposits, commercial paper, and corporate bonds with an original maturity of 90 days or less. Short-term investments are comprised of commercial paper, certificates of deposit, and corporate bonds that mature in twelve months or less. Restricted investments are held in trust accounts at third-party financial institutions and include debt security investments in commercial paper, certificates of deposit, corporate bonds, and U.S. government securities. The company also has investments in non-marketable equity securities, which are measured at cost with remeasurements to fair value only upon the occurrence of observable transactions for identical or similar investments of the same issuer or impairment.\n"
          ]
        }
      ]
    },
    {
      "cell_type": "markdown",
      "source": [
        "### Agents and Tools usage"
      ],
      "metadata": {
        "id": "b_NzZCz1rGVU"
      }
    },
    {
      "cell_type": "code",
      "source": [
        "from llama_index.core.tools import FunctionTool\n",
        "from llama_index.core.agent import (\n",
        "    FunctionCallingAgentWorker,\n",
        "    AgentRunner,\n",
        "    ReActAgent,\n",
        ")"
      ],
      "metadata": {
        "id": "FvJJZdDBrBsJ"
      },
      "execution_count": null,
      "outputs": []
    },
    {
      "cell_type": "code",
      "source": [
        "def multiply(a: int, b: int) -> int:\n",
        "    \"\"\"Multiply two integers and returns the result integer\"\"\"\n",
        "    return a * b\n",
        "\n",
        "\n",
        "def add(a: int, b: int) -> int:\n",
        "    \"\"\"Add two integers and returns the result integer\"\"\"\n",
        "    return a + b\n",
        "\n",
        "\n",
        "def subtract(a: int, b: int) -> int:\n",
        "    \"\"\"Subtract two integers and returns the result integer\"\"\"\n",
        "    return a - b\n",
        "\n",
        "\n",
        "multiply_tool = FunctionTool.from_defaults(fn=multiply)\n",
        "add_tool = FunctionTool.from_defaults(fn=add)\n",
        "subtract_tool = FunctionTool.from_defaults(fn=subtract)"
      ],
      "metadata": {
        "id": "T6q00t6qrOYd"
      },
      "execution_count": null,
      "outputs": []
    },
    {
      "cell_type": "code",
      "source": [],
      "metadata": {
        "id": "U1epiFKyrS8E"
      },
      "execution_count": null,
      "outputs": []
    },
    {
      "cell_type": "markdown",
      "source": [
        "#### With Function Calling."
      ],
      "metadata": {
        "id": "ZB6jeEuYrVhJ"
      }
    },
    {
      "cell_type": "code",
      "source": [
        "agent_worker = FunctionCallingAgentWorker.from_tools(\n",
        "    [multiply_tool, add_tool, subtract_tool],\n",
        "    llm=llm,\n",
        "    verbose=True,\n",
        "    allow_parallel_tool_calls=False,\n",
        ")\n",
        "agent = AgentRunner(agent_worker)"
      ],
      "metadata": {
        "id": "wdWk89YOrXTZ"
      },
      "execution_count": null,
      "outputs": []
    },
    {
      "cell_type": "code",
      "source": [
        "response = agent.chat(\"What is (26 * 2) + 2024?\")\n",
        "print(response)"
      ],
      "metadata": {
        "colab": {
          "base_uri": "https://localhost:8080/"
        },
        "id": "p9dkKNa8rcb-",
        "outputId": "07edfc2d-279d-412e-9ccd-50a87f9fef72"
      },
      "execution_count": null,
      "outputs": [
        {
          "output_type": "stream",
          "name": "stdout",
          "text": [
            "Added user message to memory: What is (26 * 2) + 2024?\n",
            "=== Calling Function ===\n",
            "Calling function: multiply with args: {\"a\": 26, \"b\": 2}\n",
            "=== Function Output ===\n",
            "52\n",
            "=== LLM Response ===\n",
            "The result of 26 * 2 is 52.\n",
            "Now, let's add 2024 to this result.\n",
            "\n",
            "Next, I will call the add function with arguments a=52 and b=2024.\n",
            "\n",
            "Here is the code:\n",
            "\n",
            "[{\"name\": \"add\", \"arguments\": {\"a\": 52, \"b\": 2024}}]\n",
            "assistant: The result of 26 * 2 is 52.\n",
            "Now, let's add 2024 to this result.\n",
            "\n",
            "Next, I will call the add function with arguments a=52 and b=2024.\n",
            "\n",
            "Here is the code:\n",
            "\n",
            "[{\"name\": \"add\", \"arguments\": {\"a\": 52, \"b\": 2024}}]\n"
          ]
        }
      ]
    },
    {
      "cell_type": "code",
      "source": [],
      "metadata": {
        "id": "0G5fAACKrd_J"
      },
      "execution_count": null,
      "outputs": []
    }
  ]
}