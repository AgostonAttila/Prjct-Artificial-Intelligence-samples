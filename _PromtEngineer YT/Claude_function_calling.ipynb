{
  "nbformat": 4,
  "nbformat_minor": 0,
  "metadata": {
    "colab": {
      "provenance": []
    },
    "kernelspec": {
      "name": "python3",
      "display_name": "Python 3"
    },
    "language_info": {
      "name": "python"
    }
  },
  "cells": [
    {
      "cell_type": "markdown",
      "source": [
        "### Customer Service Agent with Client-Side Tools\n",
        "\n",
        "In this guide, we'll show you the steps to build a customer service chatbot using Claude 3 and various client-side instruments. This chatbot will have the functionality to search for customer data, pull up details of orders, and even cancel orders for the customer. We will outline the required tools and create mock responses to illustrate what the chatbot can do.\n"
      ],
      "metadata": {
        "id": "zwrthO2zUMTg"
      }
    },
    {
      "cell_type": "markdown",
      "source": [
        "## Set up the enviroment\n"
      ],
      "metadata": {
        "id": "wShT9u2BTZ3o"
      }
    },
    {
      "cell_type": "code",
      "execution_count": null,
      "metadata": {
        "colab": {
          "base_uri": "https://localhost:8080/"
        },
        "id": "aswACkgsTU26",
        "outputId": "f68c2237-2baa-478a-c7cd-522783878dbe"
      },
      "outputs": [
        {
          "output_type": "stream",
          "name": "stdout",
          "text": [
            "Collecting anthropic\n",
            "  Downloading anthropic-0.23.1-py3-none-any.whl (869 kB)\n",
            "\u001b[2K     \u001b[90m━━━━━━━━━━━━━━━━━━━━━━━━━━━━━━━━━━━━━━━━\u001b[0m \u001b[32m869.1/869.1 kB\u001b[0m \u001b[31m6.2 MB/s\u001b[0m eta \u001b[36m0:00:00\u001b[0m\n",
            "\u001b[?25hRequirement already satisfied: anyio<5,>=3.5.0 in /usr/local/lib/python3.10/dist-packages (from anthropic) (3.7.1)\n",
            "Requirement already satisfied: distro<2,>=1.7.0 in /usr/lib/python3/dist-packages (from anthropic) (1.7.0)\n",
            "Collecting httpx<1,>=0.23.0 (from anthropic)\n",
            "  Downloading httpx-0.27.0-py3-none-any.whl (75 kB)\n",
            "\u001b[2K     \u001b[90m━━━━━━━━━━━━━━━━━━━━━━━━━━━━━━━━━━━━━━━━\u001b[0m \u001b[32m75.6/75.6 kB\u001b[0m \u001b[31m6.7 MB/s\u001b[0m eta \u001b[36m0:00:00\u001b[0m\n",
            "\u001b[?25hRequirement already satisfied: pydantic<3,>=1.9.0 in /usr/local/lib/python3.10/dist-packages (from anthropic) (2.6.4)\n",
            "Requirement already satisfied: sniffio in /usr/local/lib/python3.10/dist-packages (from anthropic) (1.3.1)\n",
            "Requirement already satisfied: tokenizers>=0.13.0 in /usr/local/lib/python3.10/dist-packages (from anthropic) (0.15.2)\n",
            "Requirement already satisfied: typing-extensions<5,>=4.7 in /usr/local/lib/python3.10/dist-packages (from anthropic) (4.10.0)\n",
            "Requirement already satisfied: idna>=2.8 in /usr/local/lib/python3.10/dist-packages (from anyio<5,>=3.5.0->anthropic) (3.6)\n",
            "Requirement already satisfied: exceptiongroup in /usr/local/lib/python3.10/dist-packages (from anyio<5,>=3.5.0->anthropic) (1.2.0)\n",
            "Requirement already satisfied: certifi in /usr/local/lib/python3.10/dist-packages (from httpx<1,>=0.23.0->anthropic) (2024.2.2)\n",
            "Collecting httpcore==1.* (from httpx<1,>=0.23.0->anthropic)\n",
            "  Downloading httpcore-1.0.5-py3-none-any.whl (77 kB)\n",
            "\u001b[2K     \u001b[90m━━━━━━━━━━━━━━━━━━━━━━━━━━━━━━━━━━━━━━━━\u001b[0m \u001b[32m77.9/77.9 kB\u001b[0m \u001b[31m3.4 MB/s\u001b[0m eta \u001b[36m0:00:00\u001b[0m\n",
            "\u001b[?25hCollecting h11<0.15,>=0.13 (from httpcore==1.*->httpx<1,>=0.23.0->anthropic)\n",
            "  Downloading h11-0.14.0-py3-none-any.whl (58 kB)\n",
            "\u001b[2K     \u001b[90m━━━━━━━━━━━━━━━━━━━━━━━━━━━━━━━━━━━━━━━━\u001b[0m \u001b[32m58.3/58.3 kB\u001b[0m \u001b[31m2.6 MB/s\u001b[0m eta \u001b[36m0:00:00\u001b[0m\n",
            "\u001b[?25hRequirement already satisfied: annotated-types>=0.4.0 in /usr/local/lib/python3.10/dist-packages (from pydantic<3,>=1.9.0->anthropic) (0.6.0)\n",
            "Requirement already satisfied: pydantic-core==2.16.3 in /usr/local/lib/python3.10/dist-packages (from pydantic<3,>=1.9.0->anthropic) (2.16.3)\n",
            "Requirement already satisfied: huggingface_hub<1.0,>=0.16.4 in /usr/local/lib/python3.10/dist-packages (from tokenizers>=0.13.0->anthropic) (0.20.3)\n",
            "Requirement already satisfied: filelock in /usr/local/lib/python3.10/dist-packages (from huggingface_hub<1.0,>=0.16.4->tokenizers>=0.13.0->anthropic) (3.13.3)\n",
            "Requirement already satisfied: fsspec>=2023.5.0 in /usr/local/lib/python3.10/dist-packages (from huggingface_hub<1.0,>=0.16.4->tokenizers>=0.13.0->anthropic) (2023.6.0)\n",
            "Requirement already satisfied: requests in /usr/local/lib/python3.10/dist-packages (from huggingface_hub<1.0,>=0.16.4->tokenizers>=0.13.0->anthropic) (2.31.0)\n",
            "Requirement already satisfied: tqdm>=4.42.1 in /usr/local/lib/python3.10/dist-packages (from huggingface_hub<1.0,>=0.16.4->tokenizers>=0.13.0->anthropic) (4.66.2)\n",
            "Requirement already satisfied: pyyaml>=5.1 in /usr/local/lib/python3.10/dist-packages (from huggingface_hub<1.0,>=0.16.4->tokenizers>=0.13.0->anthropic) (6.0.1)\n",
            "Requirement already satisfied: packaging>=20.9 in /usr/local/lib/python3.10/dist-packages (from huggingface_hub<1.0,>=0.16.4->tokenizers>=0.13.0->anthropic) (24.0)\n",
            "Requirement already satisfied: charset-normalizer<4,>=2 in /usr/local/lib/python3.10/dist-packages (from requests->huggingface_hub<1.0,>=0.16.4->tokenizers>=0.13.0->anthropic) (3.3.2)\n",
            "Requirement already satisfied: urllib3<3,>=1.21.1 in /usr/local/lib/python3.10/dist-packages (from requests->huggingface_hub<1.0,>=0.16.4->tokenizers>=0.13.0->anthropic) (2.0.7)\n",
            "Installing collected packages: h11, httpcore, httpx, anthropic\n",
            "Successfully installed anthropic-0.23.1 h11-0.14.0 httpcore-1.0.5 httpx-0.27.0\n"
          ]
        }
      ],
      "source": [
        "%pip install anthropic\n"
      ]
    },
    {
      "cell_type": "code",
      "source": [
        "import os\n",
        "from google.colab import userdata\n",
        "\n",
        "os.environ[\"ANTHROPIC_API_KEY\"] = userdata.get('ANTHROPIC_API_KEY')\n"
      ],
      "metadata": {
        "id": "zn-9hviOTf7_"
      },
      "execution_count": null,
      "outputs": []
    },
    {
      "cell_type": "code",
      "source": [
        "import anthropic\n",
        "\n",
        "client = anthropic.Client()\n",
        "MODEL_NAME = \"claude-3-opus-20240229\""
      ],
      "metadata": {
        "id": "8XuirIW5T4OA"
      },
      "execution_count": null,
      "outputs": []
    },
    {
      "cell_type": "markdown",
      "source": [
        "## Define the client-side tools\n",
        "Next, we'll define the client-side tools that our chatbot will use to assist customers. We'll create three tools: get_customer_info, get_order_details, and cancel_order."
      ],
      "metadata": {
        "id": "58OOv0gYUcV0"
      }
    },
    {
      "cell_type": "code",
      "source": [
        "tools = [\n",
        "    {\n",
        "        \"name\": \"get_customer_info\",\n",
        "        \"description\": \"Retrieves customer information based on their customer ID. Returns the customer's name, email, and phone number.\",\n",
        "        \"input_schema\": {\n",
        "            \"type\": \"object\",\n",
        "            \"properties\": {\n",
        "                \"customer_id\": {\n",
        "                    \"type\": \"string\",\n",
        "                    \"description\": \"The unique identifier for the customer.\"\n",
        "                }\n",
        "            },\n",
        "            \"required\": [\"customer_id\"]\n",
        "        }\n",
        "    },\n",
        "    {\n",
        "        \"name\": \"get_order_details\",\n",
        "        \"description\": \"Retrieves the details of a specific order based on the order ID. Returns the order ID, product name, quantity, price, and order status.\",\n",
        "        \"input_schema\": {\n",
        "            \"type\": \"object\",\n",
        "            \"properties\": {\n",
        "                \"order_id\": {\n",
        "                    \"type\": \"string\",\n",
        "                    \"description\": \"The unique identifier for the order.\"\n",
        "                }\n",
        "            },\n",
        "            \"required\": [\"order_id\"]\n",
        "        }\n",
        "    },\n",
        "    {\n",
        "        \"name\": \"cancel_order\",\n",
        "        \"description\": \"Cancels an order based on the provided order ID. Returns a confirmation message if the cancellation is successful.\",\n",
        "        \"input_schema\": {\n",
        "            \"type\": \"object\",\n",
        "            \"properties\": {\n",
        "                \"order_id\": {\n",
        "                    \"type\": \"string\",\n",
        "                    \"description\": \"The unique identifier for the order to be cancelled.\"\n",
        "                }\n",
        "            },\n",
        "            \"required\": [\"order_id\"]\n",
        "        }\n",
        "    }\n",
        "]"
      ],
      "metadata": {
        "id": "SnOs2L24T-lX"
      },
      "execution_count": null,
      "outputs": []
    },
    {
      "cell_type": "markdown",
      "source": [
        "## Simulate synthetic tool responses\n",
        "Since we don't have real customer data or order information, we'll simulate synthetic responses for our tools. In a real-world scenario, these functions would interact with your actual customer database and order management system."
      ],
      "metadata": {
        "id": "scD2H4iPUoEV"
      }
    },
    {
      "cell_type": "code",
      "source": [
        "def get_customer_info(customer_id):\n",
        "    # Simulated customer data\n",
        "    customers = {\n",
        "        \"C1\": {\"name\": \"John Doe\", \"email\": \"john@example.com\", \"phone\": \"123-456-7890\"},\n",
        "        \"C2\": {\"name\": \"Jane Smith\", \"email\": \"jane@example.com\", \"phone\": \"987-654-3210\"}\n",
        "    }\n",
        "    return customers.get(customer_id, \"Customer not found\")\n",
        "\n",
        "def get_order_details(order_id):\n",
        "    # Simulated order data\n",
        "    orders = {\n",
        "        \"O1\": {\"id\": \"O1\", \"product\": \"Widget A\", \"quantity\": 2, \"price\": 19.99, \"status\": \"Shipped\"},\n",
        "        \"O2\": {\"id\": \"O2\", \"product\": \"Gadget B\", \"quantity\": 1, \"price\": 49.99, \"status\": \"Processing\"}\n",
        "    }\n",
        "    return orders.get(order_id, \"Order not found\")\n",
        "\n",
        "def cancel_order(order_id):\n",
        "    # Simulated order cancellation\n",
        "    if order_id in [\"O1\", \"O2\"]:\n",
        "        return True\n",
        "    else:\n",
        "        return False"
      ],
      "metadata": {
        "id": "11zPtnS8UlHy"
      },
      "execution_count": null,
      "outputs": []
    },
    {
      "cell_type": "markdown",
      "source": [
        "## Process tool calls and return results\n",
        "We'll create a function to process the tool calls made by Claude and return the appropriate results."
      ],
      "metadata": {
        "id": "ca1vQopwUzgo"
      }
    },
    {
      "cell_type": "code",
      "source": [
        "def process_tool_call(tool_name, tool_input):\n",
        "    if tool_name == \"get_customer_info\":\n",
        "        return get_customer_info(tool_input[\"customer_id\"])\n",
        "    elif tool_name == \"get_order_details\":\n",
        "        return get_order_details(tool_input[\"order_id\"])\n",
        "    elif tool_name == \"cancel_order\":\n",
        "        return cancel_order(tool_input[\"order_id\"])"
      ],
      "metadata": {
        "id": "cljk41oWUtbv"
      },
      "execution_count": null,
      "outputs": []
    },
    {
      "cell_type": "code",
      "source": [],
      "metadata": {
        "id": "UEDVUOvfkRjI"
      },
      "execution_count": null,
      "outputs": []
    },
    {
      "cell_type": "code",
      "source": [],
      "metadata": {
        "id": "azQwR_WFkRl-"
      },
      "execution_count": null,
      "outputs": []
    },
    {
      "cell_type": "code",
      "source": [],
      "metadata": {
        "id": "5hNRBqMokRpH"
      },
      "execution_count": null,
      "outputs": []
    },
    {
      "cell_type": "code",
      "source": [],
      "metadata": {
        "id": "-QzosjnUkRsh"
      },
      "execution_count": null,
      "outputs": []
    },
    {
      "cell_type": "markdown",
      "source": [
        "## Interact with the chatbot\n",
        "Now, let's create a function to interact with the chatbot. We'll send a user message, process any tool calls made by Claude, and return the final response to the user."
      ],
      "metadata": {
        "id": "T4J6ato-U4Pg"
      }
    },
    {
      "cell_type": "code",
      "source": [
        "import json\n",
        "\n",
        "def chatbot_interaction(user_message, MODEL_NAME=\"claude-3-opus-20240229\"):\n",
        "    print(f\"\\n{'='*50}\\nUser Message: {user_message}\\n{'='*50}\")\n",
        "\n",
        "    messages = [\n",
        "        {\"role\": \"user\", \"content\": user_message}\n",
        "    ]\n",
        "\n",
        "    response = client.beta.tools.messages.create(\n",
        "        model=MODEL_NAME,\n",
        "        max_tokens=4096,\n",
        "        tools=tools,\n",
        "        messages=messages\n",
        "    )\n",
        "\n",
        "    print(f\"\\nInitial Response:\")\n",
        "    print(f\"Stop Reason: {response.stop_reason}\")\n",
        "    print(f\"Content: {response.content}\")\n",
        "\n",
        "    while response.stop_reason == \"tool_use\":\n",
        "        tool_use = next(block for block in response.content if block.type == \"tool_use\")\n",
        "        tool_name = tool_use.name\n",
        "        tool_input = tool_use.input\n",
        "\n",
        "        print(f\"\\nTool Used: {tool_name}\")\n",
        "        print(f\"Tool Input:\")\n",
        "        print(json.dumps(tool_input, indent=2))\n",
        "\n",
        "        tool_result = process_tool_call(tool_name, tool_input)\n",
        "\n",
        "        print(f\"\\nTool Result:\")\n",
        "        print(json.dumps(tool_result, indent=2))\n",
        "\n",
        "        messages = [\n",
        "            {\"role\": \"user\", \"content\": user_message},\n",
        "            {\"role\": \"assistant\", \"content\": response.content},\n",
        "            {\n",
        "                \"role\": \"user\",\n",
        "                \"content\": [\n",
        "                    {\n",
        "                        \"type\": \"tool_result\",\n",
        "                        \"tool_use_id\": tool_use.id,\n",
        "                        \"content\": str(tool_result),\n",
        "                    }\n",
        "                ],\n",
        "            },\n",
        "        ]\n",
        "\n",
        "        response = client.beta.tools.messages.create(\n",
        "            model=MODEL_NAME,\n",
        "            max_tokens=4096,\n",
        "            tools=tools,\n",
        "            messages=messages\n",
        "        )\n",
        "\n",
        "        print(f\"\\nResponse:\")\n",
        "        print(f\"Stop Reason: {response.stop_reason}\")\n",
        "        print(f\"Content: {response.content}\")\n",
        "\n",
        "    final_response = next(\n",
        "        (block.text for block in response.content if hasattr(block, \"text\")),\n",
        "        None,\n",
        "    )\n",
        "\n",
        "    print(f\"\\nFinal Response: {final_response}\")\n",
        "\n",
        "    return final_response"
      ],
      "metadata": {
        "id": "Gj6-IRZIU3Vv"
      },
      "execution_count": null,
      "outputs": []
    },
    {
      "cell_type": "markdown",
      "source": [
        "##  Test the chatbot\n",
        "Let's test our customer service chatbot with a few sample queries."
      ],
      "metadata": {
        "id": "X-OE-8frVF0Q"
      }
    },
    {
      "cell_type": "code",
      "source": [
        "chatbot_interaction(\"Can you tell me the email address for customer C1?\")\n"
      ],
      "metadata": {
        "colab": {
          "base_uri": "https://localhost:8080/",
          "height": 524
        },
        "id": "E0nc8jrjVCsv",
        "outputId": "f284df46-187f-4a50-a380-832080aabcbb"
      },
      "execution_count": null,
      "outputs": [
        {
          "output_type": "stream",
          "name": "stdout",
          "text": [
            "\n",
            "==================================================\n",
            "User Message: Can you tell me the email address for customer C1?\n",
            "==================================================\n",
            "\n",
            "Initial Response:\n",
            "Stop Reason: tool_use\n",
            "Content: [TextBlock(text='<thinking>\\nTo retrieve a customer\\'s email address, the get_customer_info function should be used. This function requires the customer_id parameter.\\n\\nIn the request, the user specified customer \"C1\", so the customer_id can be inferred to be \"C1\".\\n\\nSince the required customer_id parameter is provided, the get_customer_info function can be called to retrieve the customer\\'s email address.\\n</thinking>', type='text'), ToolUseBlock(id='toolu_01WmQETncRqahSdqENdaNYMk', input={'customer_id': 'C1'}, name='get_customer_info', type='tool_use')]\n",
            "\n",
            "Tool Used: get_customer_info\n",
            "Tool Input:\n",
            "{\n",
            "  \"customer_id\": \"C1\"\n",
            "}\n",
            "\n",
            "Tool Result:\n",
            "{\n",
            "  \"name\": \"John Doe\",\n",
            "  \"email\": \"john@example.com\",\n",
            "  \"phone\": \"123-456-7890\"\n",
            "}\n",
            "\n",
            "Response:\n",
            "Stop Reason: end_turn\n",
            "Content: [TextBlock(text='The email address for customer C1 is john@example.com.', type='text')]\n",
            "\n",
            "Final Response: The email address for customer C1 is john@example.com.\n"
          ]
        },
        {
          "output_type": "execute_result",
          "data": {
            "text/plain": [
              "'The email address for customer C1 is john@example.com.'"
            ],
            "application/vnd.google.colaboratory.intrinsic+json": {
              "type": "string"
            }
          },
          "metadata": {},
          "execution_count": 8
        }
      ]
    },
    {
      "cell_type": "code",
      "source": [
        "chatbot_interaction(\"What is the status of order O2?\")\n"
      ],
      "metadata": {
        "colab": {
          "base_uri": "https://localhost:8080/",
          "height": 559
        },
        "id": "lp9sMcbqVIfE",
        "outputId": "5b055b69-7e33-477c-8484-b112c49baba2"
      },
      "execution_count": null,
      "outputs": [
        {
          "output_type": "stream",
          "name": "stdout",
          "text": [
            "\n",
            "==================================================\n",
            "User Message: What is the status of order O2?\n",
            "==================================================\n",
            "\n",
            "Initial Response:\n",
            "Stop Reason: tool_use\n",
            "Content: [TextBlock(text='<thinking>\\nTo retrieve the status of an order, the get_order_details function is most relevant. It requires an order_id parameter.\\n\\nThe user has provided an order ID in their request - \"O2\". So I have the necessary parameter to call the function.\\n</thinking>', type='text'), ToolUseBlock(id='toolu_01NJmCyWMzWp46HwjibVJ7Rf', input={'order_id': 'O2'}, name='get_order_details', type='tool_use')]\n",
            "\n",
            "Tool Used: get_order_details\n",
            "Tool Input:\n",
            "{\n",
            "  \"order_id\": \"O2\"\n",
            "}\n",
            "\n",
            "Tool Result:\n",
            "{\n",
            "  \"id\": \"O2\",\n",
            "  \"product\": \"Gadget B\",\n",
            "  \"quantity\": 1,\n",
            "  \"price\": 49.99,\n",
            "  \"status\": \"Processing\"\n",
            "}\n",
            "\n",
            "Response:\n",
            "Stop Reason: end_turn\n",
            "Content: [TextBlock(text='Based on the order details, the status of order O2 is Processing.', type='text')]\n",
            "\n",
            "Final Response: Based on the order details, the status of order O2 is Processing.\n"
          ]
        },
        {
          "output_type": "execute_result",
          "data": {
            "text/plain": [
              "'Based on the order details, the status of order O2 is Processing.'"
            ],
            "application/vnd.google.colaboratory.intrinsic+json": {
              "type": "string"
            }
          },
          "metadata": {},
          "execution_count": 9
        }
      ]
    },
    {
      "cell_type": "code",
      "source": [
        "chatbot_interaction(\"Please cancel order O1 for me.\")\n"
      ],
      "metadata": {
        "colab": {
          "base_uri": "https://localhost:8080/",
          "height": 455
        },
        "id": "lNYBQ-M1VUTK",
        "outputId": "0a263bfe-d97a-4a59-a639-8b579bfd1407"
      },
      "execution_count": null,
      "outputs": [
        {
          "output_type": "stream",
          "name": "stdout",
          "text": [
            "\n",
            "==================================================\n",
            "User Message: Please cancel order O1 for me.\n",
            "==================================================\n",
            "\n",
            "Initial Response:\n",
            "Stop Reason: tool_use\n",
            "Content: [TextBlock(text='<thinking>\\nThe relevant function to cancel an order is cancel_order. It requires a single parameter:\\n- order_id: The ID of the order to cancel. The user provided this directly as \"O1\".\\n\\nSince we have the required order_id parameter, we can proceed with calling the cancel_order function.\\n</thinking>', type='text'), ToolUseBlock(id='toolu_01YQWVU6pDNEoRnpUtTnVv4Y', input={'order_id': 'O1'}, name='cancel_order', type='tool_use')]\n",
            "\n",
            "Tool Used: cancel_order\n",
            "Tool Input:\n",
            "{\n",
            "  \"order_id\": \"O1\"\n",
            "}\n",
            "\n",
            "Tool Result:\n",
            "true\n",
            "\n",
            "Response:\n",
            "Stop Reason: end_turn\n",
            "Content: [TextBlock(text='Your order O1 has been successfully cancelled.', type='text')]\n",
            "\n",
            "Final Response: Your order O1 has been successfully cancelled.\n"
          ]
        },
        {
          "output_type": "execute_result",
          "data": {
            "text/plain": [
              "'Your order O1 has been successfully cancelled.'"
            ],
            "application/vnd.google.colaboratory.intrinsic+json": {
              "type": "string"
            }
          },
          "metadata": {},
          "execution_count": 10
        }
      ]
    },
    {
      "cell_type": "code",
      "source": [
        "chatbot_interaction(\"Write a python program that prints numbers 0 to 100.\")\n"
      ],
      "metadata": {
        "colab": {
          "base_uri": "https://localhost:8080/",
          "height": 541
        },
        "id": "xjysh7RdVZRe",
        "outputId": "dda5e19d-2527-4c5c-9e9d-9716f8ecc85b"
      },
      "execution_count": null,
      "outputs": [
        {
          "output_type": "stream",
          "name": "stdout",
          "text": [
            "\n",
            "==================================================\n",
            "User Message: Write a python program that prints numbers 0 to 100.\n",
            "==================================================\n",
            "\n",
            "Initial Response:\n",
            "Stop Reason: end_turn\n",
            "Content: [TextBlock(text=\"<thinking>\\nThe user's request is to write a Python program that prints the numbers 0 to 100. This is a straightforward programming task that does not require any of the provided tools, which are related to retrieving customer information, order details, and cancelling orders.\\n\\nTo complete this request, I simply need to write a Python script that uses a loop to print the numbers 0 to 100. No additional information is needed from the user.\\n</thinking>\\n\\nHere is a Python program that prints the numbers 0 to 100:\\n\\n```python\\nfor i in range(101):\\n    print(i)\\n```\\n\\nThis uses a for loop with the range() function to iterate through the numbers 0 to 100 (101 is the stop value which is not included). The print() function is used to output each number on a separate line.\\n\\nLet me know if you have any other questions!\", type='text')]\n",
            "\n",
            "Final Response: <thinking>\n",
            "The user's request is to write a Python program that prints the numbers 0 to 100. This is a straightforward programming task that does not require any of the provided tools, which are related to retrieving customer information, order details, and cancelling orders.\n",
            "\n",
            "To complete this request, I simply need to write a Python script that uses a loop to print the numbers 0 to 100. No additional information is needed from the user.\n",
            "</thinking>\n",
            "\n",
            "Here is a Python program that prints the numbers 0 to 100:\n",
            "\n",
            "```python\n",
            "for i in range(101):\n",
            "    print(i)\n",
            "```\n",
            "\n",
            "This uses a for loop with the range() function to iterate through the numbers 0 to 100 (101 is the stop value which is not included). The print() function is used to output each number on a separate line.\n",
            "\n",
            "Let me know if you have any other questions!\n"
          ]
        },
        {
          "output_type": "execute_result",
          "data": {
            "text/plain": [
              "\"<thinking>\\nThe user's request is to write a Python program that prints the numbers 0 to 100. This is a straightforward programming task that does not require any of the provided tools, which are related to retrieving customer information, order details, and cancelling orders.\\n\\nTo complete this request, I simply need to write a Python script that uses a loop to print the numbers 0 to 100. No additional information is needed from the user.\\n</thinking>\\n\\nHere is a Python program that prints the numbers 0 to 100:\\n\\n```python\\nfor i in range(101):\\n    print(i)\\n```\\n\\nThis uses a for loop with the range() function to iterate through the numbers 0 to 100 (101 is the stop value which is not included). The print() function is used to output each number on a separate line.\\n\\nLet me know if you have any other questions!\""
            ],
            "application/vnd.google.colaboratory.intrinsic+json": {
              "type": "string"
            }
          },
          "metadata": {},
          "execution_count": 11
        }
      ]
    },
    {
      "cell_type": "code",
      "source": [
        "chatbot_interaction(\"Write a python program that prints numbers 0 to 100.\", MODEL_NAME=\"claude-3-haiku-20240307\")\n"
      ],
      "metadata": {
        "colab": {
          "base_uri": "https://localhost:8080/",
          "height": 541
        },
        "id": "PeXF9_DMVikG",
        "outputId": "eba090f0-c5e1-4774-90d6-1cc10c7400ed"
      },
      "execution_count": null,
      "outputs": [
        {
          "output_type": "stream",
          "name": "stdout",
          "text": [
            "\n",
            "==================================================\n",
            "User Message: Write a python program that prints numbers 0 to 100.\n",
            "==================================================\n",
            "\n",
            "Initial Response:\n",
            "Stop Reason: tool_use\n",
            "Content: [TextBlock(text=\"Here's a simple Python program that prints the numbers from 0 to 100:\", type='text'), ToolUseBlock(id='toolu_01GY2WP7z2BLkVCpJD1J2Rxh', input={}, name='print_numbers', type='tool_use')]\n",
            "\n",
            "Tool Used: print_numbers\n",
            "Tool Input:\n",
            "{}\n",
            "\n",
            "Tool Result:\n",
            "null\n",
            "\n",
            "Response:\n",
            "Stop Reason: end_turn\n",
            "Content: [TextBlock(text='The program is:\\n\\n```python\\nfor i in range(101):\\n    print(i)\\n```\\n\\nThis uses a `for` loop to iterate through the numbers from 0 to 100 (inclusive) and prints each number.', type='text')]\n",
            "\n",
            "Final Response: The program is:\n",
            "\n",
            "```python\n",
            "for i in range(101):\n",
            "    print(i)\n",
            "```\n",
            "\n",
            "This uses a `for` loop to iterate through the numbers from 0 to 100 (inclusive) and prints each number.\n"
          ]
        },
        {
          "output_type": "execute_result",
          "data": {
            "text/plain": [
              "'The program is:\\n\\n```python\\nfor i in range(101):\\n    print(i)\\n```\\n\\nThis uses a `for` loop to iterate through the numbers from 0 to 100 (inclusive) and prints each number.'"
            ],
            "application/vnd.google.colaboratory.intrinsic+json": {
              "type": "string"
            }
          },
          "metadata": {},
          "execution_count": 13
        }
      ]
    },
    {
      "cell_type": "code",
      "source": [
        "chatbot_interaction(\"What is the status of order O2?\", MODEL_NAME=\"claude-3-haiku-20240307\")\n"
      ],
      "metadata": {
        "colab": {
          "base_uri": "https://localhost:8080/",
          "height": 539
        },
        "id": "F_5CJHLzWEUV",
        "outputId": "cf94718b-146f-4fd3-8c34-964f8a0c419a"
      },
      "execution_count": null,
      "outputs": [
        {
          "output_type": "stream",
          "name": "stdout",
          "text": [
            "\n",
            "==================================================\n",
            "User Message: What is the status of order O2?\n",
            "==================================================\n",
            "\n",
            "Initial Response:\n",
            "Stop Reason: tool_use\n",
            "Content: [TextBlock(text='Okay, let me check the details of order O2 for you.', type='text'), ToolUseBlock(id='toolu_01GWvMpgNs4F7vHwaFjDzgZB', input={'order_id': 'O2'}, name='get_order_details', type='tool_use')]\n",
            "\n",
            "Tool Used: get_order_details\n",
            "Tool Input:\n",
            "{\n",
            "  \"order_id\": \"O2\"\n",
            "}\n",
            "\n",
            "Tool Result:\n",
            "{\n",
            "  \"id\": \"O2\",\n",
            "  \"product\": \"Gadget B\",\n",
            "  \"quantity\": 1,\n",
            "  \"price\": 49.99,\n",
            "  \"status\": \"Processing\"\n",
            "}\n",
            "\n",
            "Response:\n",
            "Stop Reason: end_turn\n",
            "Content: [TextBlock(text=\"Based on the details returned, the status of order O2 is 'Processing'.\", type='text')]\n",
            "\n",
            "Final Response: Based on the details returned, the status of order O2 is 'Processing'.\n"
          ]
        },
        {
          "output_type": "execute_result",
          "data": {
            "text/plain": [
              "\"Based on the details returned, the status of order O2 is 'Processing'.\""
            ],
            "application/vnd.google.colaboratory.intrinsic+json": {
              "type": "string"
            }
          },
          "metadata": {},
          "execution_count": 14
        }
      ]
    },
    {
      "cell_type": "code",
      "source": [],
      "metadata": {
        "id": "Spw6GhQ9WPYZ"
      },
      "execution_count": null,
      "outputs": []
    }
  ]
}