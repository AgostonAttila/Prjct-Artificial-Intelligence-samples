{
  "nbformat": 4,
  "nbformat_minor": 0,
  "metadata": {
    "colab": {
      "provenance": []
    },
    "kernelspec": {
      "name": "python3",
      "display_name": "Python 3"
    },
    "language_info": {
      "name": "python"
    }
  },
  "cells": [
    {
      "cell_type": "markdown",
      "source": [
        "## Set up the enviroment\n"
      ],
      "metadata": {
        "id": "wShT9u2BTZ3o"
      }
    },
    {
      "cell_type": "code",
      "execution_count": null,
      "metadata": {
        "colab": {
          "base_uri": "https://localhost:8080/"
        },
        "id": "aswACkgsTU26",
        "outputId": "8303724c-f3c0-4b45-a993-bd1c900ad52b"
      },
      "outputs": [
        {
          "output_type": "stream",
          "name": "stdout",
          "text": [
            "Collecting groq\n",
            "  Downloading groq-0.4.2-py3-none-any.whl (65 kB)\n",
            "\u001b[?25l     \u001b[90m━━━━━━━━━━━━━━━━━━━━━━━━━━━━━━━━━━━━━━━━\u001b[0m \u001b[32m0.0/65.7 kB\u001b[0m \u001b[31m?\u001b[0m eta \u001b[36m-:--:--\u001b[0m\r\u001b[2K     \u001b[90m━━━━━━━━━━━━━━━━━━━━━━━━━━━━━━━━━━━━━━━━\u001b[0m \u001b[32m65.7/65.7 kB\u001b[0m \u001b[31m1.7 MB/s\u001b[0m eta \u001b[36m0:00:00\u001b[0m\n",
            "\u001b[?25hRequirement already satisfied: anyio<5,>=3.5.0 in /usr/local/lib/python3.10/dist-packages (from groq) (3.7.1)\n",
            "Requirement already satisfied: distro<2,>=1.7.0 in /usr/lib/python3/dist-packages (from groq) (1.7.0)\n",
            "Collecting httpx<1,>=0.23.0 (from groq)\n",
            "  Downloading httpx-0.27.0-py3-none-any.whl (75 kB)\n",
            "\u001b[2K     \u001b[90m━━━━━━━━━━━━━━━━━━━━━━━━━━━━━━━━━━━━━━━━\u001b[0m \u001b[32m75.6/75.6 kB\u001b[0m \u001b[31m4.7 MB/s\u001b[0m eta \u001b[36m0:00:00\u001b[0m\n",
            "\u001b[?25hRequirement already satisfied: pydantic<3,>=1.9.0 in /usr/local/lib/python3.10/dist-packages (from groq) (2.6.4)\n",
            "Requirement already satisfied: sniffio in /usr/local/lib/python3.10/dist-packages (from groq) (1.3.1)\n",
            "Requirement already satisfied: typing-extensions<5,>=4.7 in /usr/local/lib/python3.10/dist-packages (from groq) (4.10.0)\n",
            "Requirement already satisfied: idna>=2.8 in /usr/local/lib/python3.10/dist-packages (from anyio<5,>=3.5.0->groq) (3.6)\n",
            "Requirement already satisfied: exceptiongroup in /usr/local/lib/python3.10/dist-packages (from anyio<5,>=3.5.0->groq) (1.2.0)\n",
            "Requirement already satisfied: certifi in /usr/local/lib/python3.10/dist-packages (from httpx<1,>=0.23.0->groq) (2024.2.2)\n",
            "Collecting httpcore==1.* (from httpx<1,>=0.23.0->groq)\n",
            "  Downloading httpcore-1.0.5-py3-none-any.whl (77 kB)\n",
            "\u001b[2K     \u001b[90m━━━━━━━━━━━━━━━━━━━━━━━━━━━━━━━━━━━━━━━━\u001b[0m \u001b[32m77.9/77.9 kB\u001b[0m \u001b[31m7.9 MB/s\u001b[0m eta \u001b[36m0:00:00\u001b[0m\n",
            "\u001b[?25hCollecting h11<0.15,>=0.13 (from httpcore==1.*->httpx<1,>=0.23.0->groq)\n",
            "  Downloading h11-0.14.0-py3-none-any.whl (58 kB)\n",
            "\u001b[2K     \u001b[90m━━━━━━━━━━━━━━━━━━━━━━━━━━━━━━━━━━━━━━━━\u001b[0m \u001b[32m58.3/58.3 kB\u001b[0m \u001b[31m6.3 MB/s\u001b[0m eta \u001b[36m0:00:00\u001b[0m\n",
            "\u001b[?25hRequirement already satisfied: annotated-types>=0.4.0 in /usr/local/lib/python3.10/dist-packages (from pydantic<3,>=1.9.0->groq) (0.6.0)\n",
            "Requirement already satisfied: pydantic-core==2.16.3 in /usr/local/lib/python3.10/dist-packages (from pydantic<3,>=1.9.0->groq) (2.16.3)\n",
            "Installing collected packages: h11, httpcore, httpx, groq\n",
            "Successfully installed groq-0.4.2 h11-0.14.0 httpcore-1.0.5 httpx-0.27.0\n"
          ]
        }
      ],
      "source": [
        "%pip install groq\n"
      ]
    },
    {
      "cell_type": "code",
      "source": [
        "import os\n",
        "from google.colab import userdata\n",
        "\n",
        "os.environ[\"GROQ_API_KEY\"] = userdata.get('GROQ_API_KEY')\n"
      ],
      "metadata": {
        "id": "zn-9hviOTf7_"
      },
      "execution_count": null,
      "outputs": []
    },
    {
      "cell_type": "code",
      "source": [
        "from groq import Groq\n",
        "import json"
      ],
      "metadata": {
        "id": "K9J5FfVPVLwV"
      },
      "execution_count": null,
      "outputs": []
    },
    {
      "cell_type": "code",
      "source": [
        "client = Groq(api_key = os.getenv('GROQ_API_KEY'))\n",
        "MODEL = 'mixtral-8x7b-32768'"
      ],
      "metadata": {
        "id": "8XuirIW5T4OA"
      },
      "execution_count": null,
      "outputs": []
    },
    {
      "cell_type": "code",
      "source": [
        "# Example dummy function hard coded to return the score of an NBA game\n",
        "def get_game_score(team_name):\n",
        "    \"\"\"Get the current score for a given NBA game\"\"\"\n",
        "    if \"warriors\" in team_name.lower():\n",
        "        return json.dumps({\"game_id\": \"401585601\", \"status\": 'Final', \"home_team\": \"Los Angeles Lakers\", \"home_team_score\": 121, \"away_team\": \"Golden State Warriors\", \"away_team_score\": 128})\n",
        "    elif \"lakers\" in team_name.lower():\n",
        "        return json.dumps({\"game_id\": \"401585601\", \"status\": 'Final', \"home_team\": \"Los Angeles Lakers\", \"home_team_score\": 121, \"away_team\": \"Golden State Warriors\", \"away_team_score\": 128})\n",
        "    elif \"nuggets\" in team_name.lower():\n",
        "        return json.dumps({\"game_id\": \"401585577\", \"status\": 'Final', \"home_team\": \"Miami Heat\", \"home_team_score\": 88, \"away_team\": \"Denver Nuggets\", \"away_team_score\": 100})\n",
        "    elif \"heat\" in team_name.lower():\n",
        "        return json.dumps({\"game_id\": \"401585577\", \"status\": 'Final', \"home_team\": \"Miami Heat\", \"home_team_score\": 88, \"away_team\": \"Denver Nuggets\", \"away_team_score\": 100})\n",
        "    else:\n",
        "        return json.dumps({\"team_name\": team_name, \"score\": \"unknown\"})\n"
      ],
      "metadata": {
        "id": "eKB4VzdEa0js"
      },
      "execution_count": null,
      "outputs": []
    },
    {
      "cell_type": "code",
      "source": [
        "\n",
        "def run_conversation(user_prompt):\n",
        "    # Step 1: send the conversation and available functions to the model\n",
        "    messages=[\n",
        "        {\n",
        "            \"role\": \"system\",\n",
        "            \"content\": \"\"\"You are a function calling LLM that uses the data extracted from the get_game_score function to answer questions around NBA game scores.\n",
        "            Include the team and their opponent in your response.\"\"\"\n",
        "        },\n",
        "        {\n",
        "            \"role\": \"user\",\n",
        "            \"content\": user_prompt,\n",
        "        }\n",
        "    ]\n",
        "    tools = [\n",
        "        {\n",
        "            \"type\": \"function\",\n",
        "            \"function\": {\n",
        "                \"name\": \"get_game_score\",\n",
        "                \"description\": \"Get the score for a given NBA game\",\n",
        "                \"parameters\": {\n",
        "                    \"type\": \"object\",\n",
        "                    \"properties\": {\n",
        "                        \"team_name\": {\n",
        "                            \"type\": \"string\",\n",
        "                            \"description\": \"The name of the NBA team (e.g. 'Golden State Warriors')\",\n",
        "                        }\n",
        "                    },\n",
        "                    \"required\": [\"team_name\"],\n",
        "                },\n",
        "            },\n",
        "        }\n",
        "    ]\n",
        "    response = client.chat.completions.create(\n",
        "        model=MODEL,\n",
        "        messages=messages,\n",
        "        tools=tools,\n",
        "        tool_choice=\"auto\",\n",
        "        max_tokens=4096\n",
        "    )\n",
        "\n",
        "    response_message = response.choices[0].message\n",
        "    print(f\"Initial Response: {response_message} \\n\")\n",
        "    tool_calls = response_message.tool_calls\n",
        "\n",
        "    print(f\"{tool_calls} \\n\")\n",
        "    # Step 2: check if the model wanted to call a function\n",
        "    print(\"Final Response:\")\n",
        "    if tool_calls:\n",
        "        # Step 3: call the function\n",
        "        # Note: the JSON response may not always be valid; be sure to handle errors\n",
        "        available_functions = {\n",
        "            \"get_game_score\": get_game_score,\n",
        "        }  # only one function in this example, but you can have multiple\n",
        "\n",
        "        messages.append(response_message)  # extend conversation with assistant's reply\n",
        "        # Step 4: send the info for each function call and function response to the model\n",
        "        for tool_call in tool_calls:\n",
        "            function_name = tool_call.function.name\n",
        "            function_to_call = available_functions[function_name]\n",
        "            function_args = json.loads(tool_call.function.arguments)\n",
        "            function_response = function_to_call(\n",
        "                team_name=function_args.get(\"team_name\")\n",
        "            )\n",
        "            messages.append(\n",
        "                {\n",
        "                    \"tool_call_id\": tool_call.id,\n",
        "                    \"role\": \"tool\",\n",
        "                    \"name\": function_name,\n",
        "                    \"content\": function_response,\n",
        "                }\n",
        "            )  # extend conversation with function response\n",
        "        second_response = client.chat.completions.create(\n",
        "            model=MODEL,\n",
        "            messages=messages\n",
        "        )  # get a new response from the model where it can see the function response\n",
        "        return second_response.choices[0].message.content\n",
        "\n",
        "    else:\n",
        "        return response.choices[0].message.content\n",
        "\n",
        "\n"
      ],
      "metadata": {
        "id": "xRqeh42IZ-9t"
      },
      "execution_count": null,
      "outputs": []
    },
    {
      "cell_type": "code",
      "source": [
        "user_prompt = \"What was the score of the Warriors game?\"\n",
        "print(run_conversation(user_prompt))\n"
      ],
      "metadata": {
        "colab": {
          "base_uri": "https://localhost:8080/"
        },
        "id": "jq2TY9_Hcj1D",
        "outputId": "3914729b-4380-423e-f06b-c6bb51a4d079"
      },
      "execution_count": null,
      "outputs": [
        {
          "output_type": "stream",
          "name": "stdout",
          "text": [
            "Initial Response: ChoiceMessage(content=None, role='assistant', tool_calls=[ChoiceMessageToolCall(id='call_01htyabenffr2bqrjf49h22pn8', function=ChoiceMessageToolCallFunction(arguments='{\"team_name\": \"Golden State Warriors\"}', name='get_game_score'), type='function')]) \n",
            "\n",
            "[ChoiceMessageToolCall(id='call_01htyabenffr2bqrjf49h22pn8', function=ChoiceMessageToolCallFunction(arguments='{\"team_name\": \"Golden State Warriors\"}', name='get_game_score'), type='function')] \n",
            "\n",
            "Final Response:\n",
            "The score of the Golden State Warriors' game was 128 to 121, with the Warriors winning. Their opponent was the Los Angeles Lakers.\n"
          ]
        }
      ]
    },
    {
      "cell_type": "code",
      "source": [
        "user_prompt = \"What is the purpose of life?\"\n",
        "print(run_conversation(user_prompt))"
      ],
      "metadata": {
        "colab": {
          "base_uri": "https://localhost:8080/"
        },
        "id": "Q5bNSEh8ckj8",
        "outputId": "0bd97aba-6f73-4fc7-e6c1-4f1c8741c3c9"
      },
      "execution_count": null,
      "outputs": [
        {
          "output_type": "stream",
          "name": "stdout",
          "text": [
            "Initial Response: ChoiceMessage(content=\"I'm here to assist with the tools and functions you've provided, which pertain to making calls for NBA game scores. Since those tools aren'\\nt applicable to answering the purpose of life, I can't use them to provide a factual answer. However, the purpose of life can be interpreted and answered in many different ways depending on one's beliefs and personal perspectives. Some people may believe the purpose of life is to seek happiness, knowledge, personal growth, or to contribute to the betterment of humanity. Ultimately, the purpose of life can be a deeply philosophical and subjective topic.\", role='assistant', tool_calls=None) \n",
            "\n",
            "None \n",
            "\n",
            "Final Response:\n",
            "I'm here to assist with the tools and functions you've provided, which pertain to making calls for NBA game scores. Since those tools aren'\n",
            "t applicable to answering the purpose of life, I can't use them to provide a factual answer. However, the purpose of life can be interpreted and answered in many different ways depending on one's beliefs and personal perspectives. Some people may believe the purpose of life is to seek happiness, knowledge, personal growth, or to contribute to the betterment of humanity. Ultimately, the purpose of life can be a deeply philosophical and subjective topic.\n"
          ]
        }
      ]
    },
    {
      "cell_type": "code",
      "source": [],
      "metadata": {
        "id": "6fpUnii8cosk"
      },
      "execution_count": null,
      "outputs": []
    }
  ]
}