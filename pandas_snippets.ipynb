{
 "metadata": {
  "language_info": {
   "codemirror_mode": {
    "name": "ipython",
    "version": 3
   },
   "file_extension": ".py",
   "mimetype": "text/x-python",
   "name": "python",
   "nbconvert_exporter": "python",
   "pygments_lexer": "ipython3",
   "version": 3
  },
  "orig_nbformat": 2
 },
 "nbformat": 4,
 "nbformat_minor": 2,
 "cells": [
  {
   "cell_type": "code",
   "execution_count": null,
   "metadata": {},
   "outputs": [],
   "source": [
    "conda install pandas\n",
    "pip install pandas\n",
    "\n",
    "import numpy as np\n",
    "import pandas as pd\n",
    "\n",
    "#-------------------Series----------------------\n",
    "\n",
    "labels = ['a','b','c'] #van szöveg is\n",
    "\n",
    "labels = ['a','b','c']\n",
    "my_list = [10,20,30]\n",
    "arr = np.array([10,20,30])\n",
    "d = {'a':10,'b':20,'c':30}\n",
    "\n",
    "pd.Series(data=my_list)\n",
    "pd.Series(data=my_list,index=labels)\n",
    "pd.Series(my_list,labels)\n",
    "\n",
    "pd.Series(arr,labels)\n",
    "pd.Series(d)\n",
    "\n",
    "pd.Series([sum,print,len])\n",
    "\n",
    "sales_Q1 = pd.Series(data=[250,450,200,150],index = ['USA', 'China','India', 'Brazil'])                        \n",
    "sales_Q1['USA']\n",
    "\n",
    "sales_Q1 + sales_Q2\n",
    "\n",
    "\n",
    "#----------------Data Frames-------------\n",
    "\n",
    "from numpy.random import randint\n",
    "\n",
    "columns= ['W', 'X', 'Y', 'Z'] # four columns\n",
    "index= ['A', 'B', 'C', 'D', 'E'] # five rows\n",
    "\n",
    "np.random.seed(42)\n",
    "data = randint(-100,100,(5,4))\n",
    "df = pd.DataFrame(data,index,columns)\n",
    "\n",
    "https://pandas.pydata.org/pandas-docs/stable/user_guide/io.html\n",
    "\n"
   ]
  }
 ]
}